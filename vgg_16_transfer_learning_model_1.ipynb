{
  "nbformat": 4,
  "nbformat_minor": 0,
  "metadata": {
    "colab": {
      "name": "vgg-16 transfer learning model #1",
      "provenance": [],
      "collapsed_sections": [],
      "machine_shape": "hm"
    },
    "kernelspec": {
      "name": "python3",
      "display_name": "Python 3"
    },
    "accelerator": "GPU"
  },
  "cells": [
    {
      "cell_type": "code",
      "metadata": {
        "id": "Tpydo55PgTBS",
        "colab_type": "code",
        "colab": {}
      },
      "source": [
        "from tensorflow.keras.models import Sequential\n",
        "from tensorflow.keras.layers import Dense, Flatten, Dropout\n",
        "from tensorflow.keras.applications import vgg16\n",
        "from tensorflow.keras.applications.vgg16 import preprocess_input\n",
        "from tensorflow.keras.preprocessing.image import ImageDataGenerator\n",
        "from tensorflow.keras.optimizers import Adam\n",
        "from tensorflow.keras.callbacks import EarlyStopping\n",
        "\n",
        "from sklearn.preprocessing import OneHotEncoder\n",
        "from sklearn.model_selection import train_test_split\n",
        "from skimage.transform import resize\n",
        "from sklearn.metrics import accuracy_score, confusion_matrix, classification_report\n",
        "\n",
        "import numpy as np\n",
        "from numpy import expand_dims\n",
        "import matplotlib.pyplot as plt"
      ],
      "execution_count": 0,
      "outputs": []
    },
    {
      "cell_type": "code",
      "metadata": {
        "id": "lH1itPSqKJh6",
        "colab_type": "code",
        "colab": {}
      },
      "source": [
        "letters = ['a', 'b', 'c', 'd']\n",
        "\n",
        "def removeData(images, labels):\n",
        "  '''Remove images and labels that are not a, b, c, or d'''\n",
        "  arr_img = []\n",
        "  arr_label = []\n",
        "  for i in range(images.shape[0]):\n",
        "    if labels[i][0].lower() in letters:\n",
        "      arr_img.append(images[i])\n",
        "      arr_label.append(labels[i][0].lower())\n",
        "  return np.array(arr_img), np.array(arr_label)"
      ],
      "execution_count": 0,
      "outputs": []
    },
    {
      "cell_type": "code",
      "metadata": {
        "id": "Ll6HEzSldnSO",
        "colab_type": "code",
        "colab": {}
      },
      "source": [
        "# Load original data\n",
        "X1 = np.load('train_data.npy')\n",
        "y1 = np.load('train_labels.npy')\n",
        "# Remove unnecessary data\n",
        "X1, y1 = removeData(X1, y1)\n",
        "\n",
        "# Load data we collected from lab 1\n",
        "X2 = np.load('data.npy')\n",
        "y2 = np.load('labels.npy')\n",
        "# Remove unnecessary data\n",
        "X2, y2 = removeData(X2, y2)\n",
        "\n",
        "# Load data Raymond and Yadi collected\n",
        "X3 = np.load('new_data.npy')\n",
        "y3 = np.load('new_labels.npy')\n",
        "# Remove unnecessary data\n",
        "X3, y3 = removeData(X3, y3)\n",
        "\n",
        "# Load data Suman collected\n",
        "X4 = np.load('Suman_data.npy')\n",
        "y4 = np.load('Suman_labels.npy')\n",
        "# Remove unnecessary data\n",
        "X4, y4 = removeData(X4, y4)\n",
        "\n",
        "# Load data Natalia collected\n",
        "X5 = np.load('nat_data.npy')\n",
        "y5 = np.load('nat_labels.npy')\n",
        "# Remove unnecessary data\n",
        "X5, y5 = removeData(X5, y5)"
      ],
      "execution_count": 0,
      "outputs": []
    },
    {
      "cell_type": "code",
      "metadata": {
        "id": "Ky5RNBovPdRN",
        "colab_type": "code",
        "colab": {
          "base_uri": "https://localhost:8080/",
          "height": 50
        },
        "outputId": "72d919b7-4b38-42c3-96ba-098e6d493c76"
      },
      "source": [
        "X = np.concatenate((X1, X2, X3, X4, X5), axis=0)\n",
        "y = np.concatenate((y1.reshape(-1, 1), y2.reshape(-1, 1), y3.reshape(-1, 1), \n",
        "                    y4.reshape(-1, 1), y5.reshape(-1, 1)), axis=0)\n",
        "print(X.shape, y.shape)\n",
        "\n",
        "# Pre-process and resize images\n",
        "X = preprocess_input(X)\n",
        "X_resized = np.array([resize(image, (96, 96)) for image in X])\n",
        "print(X_resized.shape)\n",
        "\n",
        "# Use one-hot encoding for labels\n",
        "onehot_encoder = OneHotEncoder(sparse=False)\n",
        "one_hot_y = onehot_encoder.fit_transform(y)\n",
        "\n",
        "# Train validation split\n",
        "X_train, X_val, y_train, y_val = train_test_split(X_resized, one_hot_y, test_size=0.2)"
      ],
      "execution_count": 4,
      "outputs": [
        {
          "output_type": "stream",
          "text": [
            "(1176, 100, 100, 3) (1176, 1)\n",
            "(1176, 96, 96, 3)\n"
          ],
          "name": "stdout"
        }
      ]
    },
    {
      "cell_type": "code",
      "metadata": {
        "id": "RuvHYmzhSIy-",
        "colab_type": "code",
        "colab": {
          "base_uri": "https://localhost:8080/",
          "height": 34
        },
        "outputId": "402693ac-a3c9-4b1a-9f41-4ced6cfbb301"
      },
      "source": [
        "unique, counts = np.unique(y, return_counts=True)\n",
        "dict(zip(unique, counts))"
      ],
      "execution_count": 5,
      "outputs": [
        {
          "output_type": "execute_result",
          "data": {
            "text/plain": [
              "{'a': 302, 'b': 301, 'c': 291, 'd': 282}"
            ]
          },
          "metadata": {
            "tags": []
          },
          "execution_count": 5
        }
      ]
    },
    {
      "cell_type": "code",
      "metadata": {
        "id": "6JOjNWsKoje5",
        "colab_type": "code",
        "colab": {}
      },
      "source": [
        "# Training data generator\n",
        "datagen_train = ImageDataGenerator(\n",
        "      zoom_range=[0.8,1.0], \n",
        "      horizontal_flip=True, \n",
        "      vertical_flip=True, \n",
        "      rotation_range=90\n",
        "      )"
      ],
      "execution_count": 0,
      "outputs": []
    },
    {
      "cell_type": "code",
      "metadata": {
        "id": "EN13tAvDolIe",
        "colab_type": "code",
        "colab": {}
      },
      "source": [
        "# Validation data generator\n",
        "datagen_val = ImageDataGenerator()"
      ],
      "execution_count": 0,
      "outputs": []
    },
    {
      "cell_type": "code",
      "metadata": {
        "id": "gkMwE4HE4wwD",
        "colab_type": "code",
        "outputId": "83d908c0-09e2-4e20-9372-9f245f88828a",
        "colab": {
          "base_uri": "https://localhost:8080/",
          "height": 269
        }
      },
      "source": [
        "# Visualize augmented images\n",
        "\n",
        "data = X_train[0]\n",
        "# expand dimension to one sample\n",
        "sample = expand_dims(data, 0)\n",
        "# prepare iterator of image data augmentation generator\n",
        "it = datagen_train.flow(sample)\n",
        "# generate samples and plot\n",
        "for i in range(9):\n",
        "\t# define subplot\n",
        "\tplt.subplot(330 + 1 + i)\n",
        "\t# generate batch of images\n",
        "\tbatch = it.next()\n",
        "\t# convert to unsigned integers for viewing\n",
        "\timage = batch[0].astype('uint8')\n",
        "\t# plot raw pixel data\n",
        "\tplt.imshow(image)\n",
        "# show the figure\n",
        "plt.show()"
      ],
      "execution_count": 8,
      "outputs": [
        {
          "output_type": "display_data",
          "data": {
            "image/png": "[encoded data removed]",
            "text/plain": [
              "<Figure size 432x288 with 9 Axes>"
            ]
          },
          "metadata": {
            "tags": [],
            "needs_background": "light"
          }
        }
      ]
    },
    {
      "cell_type": "code",
      "metadata": {
        "id": "zNG2Bo5UqklZ",
        "colab_type": "code",
        "colab": {}
      },
      "source": [
        "batch_size = 150\n",
        "\n",
        "generator_train = datagen_train.flow(x=X_train, y=y_train,\n",
        "                                    batch_size=batch_size,\n",
        "                                    shuffle=True)"
      ],
      "execution_count": 0,
      "outputs": []
    },
    {
      "cell_type": "code",
      "metadata": {
        "id": "bUtXM6NXrweE",
        "colab_type": "code",
        "colab": {}
      },
      "source": [
        "generator_val = datagen_val.flow(x=X_val, y=y_val,\n",
        "                                  batch_size=batch_size,\n",
        "                                  shuffle=False)"
      ],
      "execution_count": 0,
      "outputs": []
    },
    {
      "cell_type": "code",
      "metadata": {
        "id": "Z4kCQ6QxsGUc",
        "colab_type": "code",
        "outputId": "bcff1ddd-be8b-418c-e207-1f44c7c8b84c",
        "colab": {
          "base_uri": "https://localhost:8080/",
          "height": 34
        }
      },
      "source": [
        "steps_val = generator_val.n / batch_size\n",
        "steps_val"
      ],
      "execution_count": 11,
      "outputs": [
        {
          "output_type": "execute_result",
          "data": {
            "text/plain": [
              "1.5733333333333333"
            ]
          },
          "metadata": {
            "tags": []
          },
          "execution_count": 11
        }
      ]
    },
    {
      "cell_type": "code",
      "metadata": {
        "id": "2KMWDuxVdUM5",
        "colab_type": "code",
        "colab": {}
      },
      "source": [
        "IMG_SIZE = 96\n",
        "IMG_SHAPE = (IMG_SIZE, IMG_SIZE, 3)\n",
        "\n",
        "# Load VGG-16 model\n",
        "base_model = vgg16.VGG16(weights='imagenet', include_top=False, input_shape=IMG_SHAPE)\n",
        "base_model.trainable = False"
      ],
      "execution_count": 0,
      "outputs": []
    },
    {
      "cell_type": "code",
      "metadata": {
        "id": "0buaJY2fmO-1",
        "colab_type": "code",
        "outputId": "3a58dacf-473e-44f8-f589-e81b2b2e3b63",
        "colab": {
          "base_uri": "https://localhost:8080/",
          "height": 34
        }
      },
      "source": [
        "num_classes = one_hot_y.shape[1]\n",
        "num_classes"
      ],
      "execution_count": 13,
      "outputs": [
        {
          "output_type": "execute_result",
          "data": {
            "text/plain": [
              "4"
            ]
          },
          "metadata": {
            "tags": []
          },
          "execution_count": 13
        }
      ]
    },
    {
      "cell_type": "code",
      "metadata": {
        "id": "CAVYd09Qk_Bj",
        "colab_type": "code",
        "colab": {}
      },
      "source": [
        "model = Sequential ([\n",
        "    base_model,\n",
        "    # Flatten the output of the VGG16 model because it is from a\n",
        "    # convolutional layer.\n",
        "    Flatten(),\n",
        "    # Add 2 fully-connected layers.\n",
        "    # This is for combining features that the VGG16 model has\n",
        "    Dense(4608, activation='relu'),\n",
        "    Dense(1024, activation='relu'),   \n",
        "    # Add a dropout-layer which may prevent overfitting and\n",
        "    # improve generalization ability to unseen data\n",
        "    Dropout(0.5),\n",
        "    # Add the final layer for the actual classification.\n",
        "    Dense(num_classes, activation='softmax')                          \n",
        "])"
      ],
      "execution_count": 0,
      "outputs": []
    },
    {
      "cell_type": "code",
      "metadata": {
        "id": "kHELPZSOm74a",
        "colab_type": "code",
        "colab": {}
      },
      "source": [
        "model.compile(optimizer=Adam(), loss='categorical_crossentropy', metrics=['accuracy'])"
      ],
      "execution_count": 0,
      "outputs": []
    },
    {
      "cell_type": "code",
      "metadata": {
        "id": "yC4iPHzojtZA",
        "colab_type": "code",
        "colab": {}
      },
      "source": [
        "early_stopping = EarlyStopping(monitor='val_loss', mode='min', \n",
        "                               patience=30, restore_best_weights=True, \n",
        "                               verbose=1)"
      ],
      "execution_count": 0,
      "outputs": []
    },
    {
      "cell_type": "code",
      "metadata": {
        "id": "5BY_SjbfsuUW",
        "colab_type": "code",
        "outputId": "80d35ed1-be87-440a-f326-f7aeca7e7d69",
        "colab": {
          "base_uri": "https://localhost:8080/",
          "height": 1000
        }
      },
      "source": [
        "epochs = 300\n",
        "steps_per_epoch = 40\n",
        "\n",
        "history = model.fit(x=generator_train, epochs=epochs,\n",
        "                    steps_per_epoch=steps_per_epoch,\n",
        "                    validation_data=generator_val,\n",
        "                    validation_steps=steps_val,\n",
        "                    callbacks=[early_stopping])"
      ],
      "execution_count": 17,
      "outputs": [
        {
          "output_type": "stream",
          "text": [
            "Epoch 1/300\n",
            "40/40 [==============================] - 11s 285ms/step - loss: 6.8425 - accuracy: 0.6103 - val_loss: 0.4141 - val_accuracy: 0.8390\n",
            "Epoch 2/300\n",
            "40/40 [==============================] - 10s 262ms/step - loss: 0.3521 - accuracy: 0.8798 - val_loss: 0.3082 - val_accuracy: 0.8898\n",
            "Epoch 3/300\n",
            "40/40 [==============================] - 11s 265ms/step - loss: 0.2169 - accuracy: 0.9277 - val_loss: 0.2628 - val_accuracy: 0.8941\n",
            "Epoch 4/300\n",
            "40/40 [==============================] - 11s 265ms/step - loss: 0.1666 - accuracy: 0.9439 - val_loss: 0.2394 - val_accuracy: 0.9280\n",
            "Epoch 5/300\n",
            "40/40 [==============================] - 11s 270ms/step - loss: 0.1364 - accuracy: 0.9564 - val_loss: 0.2261 - val_accuracy: 0.9195\n",
            "Epoch 6/300\n",
            "40/40 [==============================] - 10s 259ms/step - loss: 0.1211 - accuracy: 0.9618 - val_loss: 0.1217 - val_accuracy: 0.9619\n",
            "Epoch 7/300\n",
            "40/40 [==============================] - 10s 252ms/step - loss: 0.1580 - accuracy: 0.9545 - val_loss: 0.2218 - val_accuracy: 0.9322\n",
            "Epoch 8/300\n",
            "40/40 [==============================] - 11s 263ms/step - loss: 0.1228 - accuracy: 0.9624 - val_loss: 0.2659 - val_accuracy: 0.9364\n",
            "Epoch 9/300\n",
            "40/40 [==============================] - 10s 257ms/step - loss: 0.1157 - accuracy: 0.9655 - val_loss: 0.2831 - val_accuracy: 0.9237\n",
            "Epoch 10/300\n",
            "40/40 [==============================] - 10s 260ms/step - loss: 0.0776 - accuracy: 0.9738 - val_loss: 0.2221 - val_accuracy: 0.9195\n",
            "Epoch 11/300\n",
            "40/40 [==============================] - 11s 267ms/step - loss: 0.1113 - accuracy: 0.9721 - val_loss: 0.2419 - val_accuracy: 0.9534\n",
            "Epoch 12/300\n",
            "40/40 [==============================] - 10s 258ms/step - loss: 0.1635 - accuracy: 0.9644 - val_loss: 0.3404 - val_accuracy: 0.9068\n",
            "Epoch 13/300\n",
            "40/40 [==============================] - 10s 259ms/step - loss: 0.1986 - accuracy: 0.9669 - val_loss: 0.5418 - val_accuracy: 0.8898\n",
            "Epoch 14/300\n",
            "40/40 [==============================] - 10s 255ms/step - loss: 0.1412 - accuracy: 0.9635 - val_loss: 0.3249 - val_accuracy: 0.9364\n",
            "Epoch 15/300\n",
            "40/40 [==============================] - 11s 270ms/step - loss: 0.1060 - accuracy: 0.9732 - val_loss: 0.4990 - val_accuracy: 0.9195\n",
            "Epoch 16/300\n",
            "40/40 [==============================] - 10s 256ms/step - loss: 0.1139 - accuracy: 0.9719 - val_loss: 0.2378 - val_accuracy: 0.9407\n",
            "Epoch 17/300\n",
            "40/40 [==============================] - 10s 262ms/step - loss: 0.0652 - accuracy: 0.9845 - val_loss: 0.3566 - val_accuracy: 0.9407\n",
            "Epoch 18/300\n",
            "40/40 [==============================] - 11s 264ms/step - loss: 0.0835 - accuracy: 0.9815 - val_loss: 0.3378 - val_accuracy: 0.9534\n",
            "Epoch 19/300\n",
            "40/40 [==============================] - 11s 265ms/step - loss: 0.0890 - accuracy: 0.9766 - val_loss: 0.2398 - val_accuracy: 0.9449\n",
            "Epoch 20/300\n",
            "40/40 [==============================] - 10s 260ms/step - loss: 0.0342 - accuracy: 0.9884 - val_loss: 0.1916 - val_accuracy: 0.9534\n",
            "Epoch 21/300\n",
            "40/40 [==============================] - 10s 260ms/step - loss: 0.0512 - accuracy: 0.9878 - val_loss: 0.2164 - val_accuracy: 0.9534\n",
            "Epoch 22/300\n",
            "40/40 [==============================] - 11s 267ms/step - loss: 0.0653 - accuracy: 0.9833 - val_loss: 0.3332 - val_accuracy: 0.9576\n",
            "Epoch 23/300\n",
            "40/40 [==============================] - 10s 258ms/step - loss: 0.0769 - accuracy: 0.9835 - val_loss: 0.2396 - val_accuracy: 0.9619\n",
            "Epoch 24/300\n",
            "40/40 [==============================] - 11s 263ms/step - loss: 0.0573 - accuracy: 0.9863 - val_loss: 0.2867 - val_accuracy: 0.9280\n",
            "Epoch 25/300\n",
            "40/40 [==============================] - 10s 262ms/step - loss: 0.0429 - accuracy: 0.9870 - val_loss: 0.2750 - val_accuracy: 0.9619\n",
            "Epoch 26/300\n",
            "40/40 [==============================] - 11s 273ms/step - loss: 0.0749 - accuracy: 0.9826 - val_loss: 0.3712 - val_accuracy: 0.9449\n",
            "Epoch 27/300\n",
            "40/40 [==============================] - 10s 255ms/step - loss: 0.0820 - accuracy: 0.9794 - val_loss: 0.4629 - val_accuracy: 0.9407\n",
            "Epoch 28/300\n",
            "40/40 [==============================] - 11s 263ms/step - loss: 0.0865 - accuracy: 0.9813 - val_loss: 0.6287 - val_accuracy: 0.9322\n",
            "Epoch 29/300\n",
            "40/40 [==============================] - 11s 265ms/step - loss: 0.0668 - accuracy: 0.9844 - val_loss: 0.2915 - val_accuracy: 0.9534\n",
            "Epoch 30/300\n",
            "40/40 [==============================] - 10s 254ms/step - loss: 0.0611 - accuracy: 0.9861 - val_loss: 0.1310 - val_accuracy: 0.9576\n",
            "Epoch 31/300\n",
            "40/40 [==============================] - 11s 263ms/step - loss: 0.0428 - accuracy: 0.9897 - val_loss: 0.2321 - val_accuracy: 0.9661\n",
            "Epoch 32/300\n",
            "40/40 [==============================] - 10s 261ms/step - loss: 0.0849 - accuracy: 0.9842 - val_loss: 0.3429 - val_accuracy: 0.9364\n",
            "Epoch 33/300\n",
            "40/40 [==============================] - 11s 267ms/step - loss: 0.0558 - accuracy: 0.9876 - val_loss: 0.3585 - val_accuracy: 0.9492\n",
            "Epoch 34/300\n",
            "40/40 [==============================] - 10s 257ms/step - loss: 0.0413 - accuracy: 0.9888 - val_loss: 0.5393 - val_accuracy: 0.9534\n",
            "Epoch 35/300\n",
            "40/40 [==============================] - 10s 256ms/step - loss: 0.0442 - accuracy: 0.9888 - val_loss: 0.5876 - val_accuracy: 0.9492\n",
            "Epoch 36/300\n",
            "40/40 [==============================] - ETA: 0s - loss: 0.0245 - accuracy: 0.9939Restoring model weights from the end of the best epoch.\n",
            "40/40 [==============================] - 10s 260ms/step - loss: 0.0245 - accuracy: 0.9939 - val_loss: 0.6380 - val_accuracy: 0.9449\n",
            "Epoch 00036: early stopping\n"
          ],
          "name": "stdout"
        }
      ]
    },
    {
      "cell_type": "code",
      "metadata": {
        "id": "fACAaZuEFUZi",
        "colab_type": "code",
        "colab": {}
      },
      "source": [
        "def plot_training_history(history):\n",
        "    acc = history.history['accuracy']\n",
        "    loss = history.history['loss']\n",
        "\n",
        "    val_acc = history.history['val_accuracy']\n",
        "    val_loss = history.history['val_loss']\n",
        "\n",
        "    # Plot the accuracy and loss-values for the training-set.\n",
        "    plt.plot(acc, color='b', label='Training Acc.')\n",
        "    # plt.plot(loss, '--', color='b', label='Training Loss')\n",
        "    \n",
        "    # Plot it for the validation set.\n",
        "    plt.plot(val_acc, color='r', label='Validation Acc.')\n",
        "    plt.plot(val_loss, '--', color='r', label='Validation Loss')\n",
        "\n",
        "    plt.title('Training and Validation Accuracy')\n",
        "    plt.legend()\n",
        "\n",
        "    plt.show()"
      ],
      "execution_count": 0,
      "outputs": []
    },
    {
      "cell_type": "code",
      "metadata": {
        "id": "wdXUanzDEH-h",
        "colab_type": "code",
        "outputId": "f0546a28-ed74-4ed5-8556-fdd6ce6c3bd6",
        "colab": {
          "base_uri": "https://localhost:8080/",
          "height": 281
        }
      },
      "source": [
        "plot_training_history(history)"
      ],
      "execution_count": 19,
      "outputs": [
        {
          "output_type": "display_data",
          "data": {
            "image/png": "[encoded data removed]",
            "text/plain": [
              "<Figure size 432x288 with 1 Axes>"
            ]
          },
          "metadata": {
            "tags": [],
            "needs_background": "light"
          }
        }
      ]
    },
    {
      "cell_type": "code",
      "metadata": {
        "id": "Nlhgt0AgIs0q",
        "colab_type": "code",
        "colab": {}
      },
      "source": [
        "y_pred = model.predict(X_val)\n",
        "y_pred = np.argmax(y_pred,axis=1)"
      ],
      "execution_count": 0,
      "outputs": []
    },
    {
      "cell_type": "code",
      "metadata": {
        "id": "po4YFcDjyQ8d",
        "colab_type": "code",
        "outputId": "8cd53f00-8850-4483-c9a7-f51e162d4083",
        "colab": {
          "base_uri": "https://localhost:8080/",
          "height": 84
        }
      },
      "source": [
        "y_true = np.argmax(y_val,axis=1)\n",
        "\n",
        "cm = confusion_matrix(y_true, y_pred)\n",
        "cm"
      ],
      "execution_count": 21,
      "outputs": [
        {
          "output_type": "execute_result",
          "data": {
            "text/plain": [
              "array([[64,  1,  0,  0],\n",
              "       [ 0, 55,  2,  1],\n",
              "       [ 2,  0, 59,  1],\n",
              "       [ 0,  0,  2, 49]])"
            ]
          },
          "metadata": {
            "tags": []
          },
          "execution_count": 21
        }
      ]
    },
    {
      "cell_type": "code",
      "metadata": {
        "id": "o77XmHDYrYoS",
        "colab_type": "code",
        "outputId": "db6da7ad-6dc2-4c6e-aa3c-3d1b9d85cca1",
        "colab": {
          "base_uri": "https://localhost:8080/",
          "height": 218
        }
      },
      "source": [
        "score = accuracy_score(y_true, y_pred)\n",
        "print('Validation Accuracy:', score)\n",
        "\n",
        "target_names = np.unique(y)\n",
        "print(classification_report(y_true, y_pred, target_names=target_names))"
      ],
      "execution_count": 22,
      "outputs": [
        {
          "output_type": "stream",
          "text": [
            "Validation Accuracy: 0.961864406779661\n",
            "              precision    recall  f1-score   support\n",
            "\n",
            "           a       0.97      0.98      0.98        65\n",
            "           b       0.98      0.95      0.96        58\n",
            "           c       0.94      0.95      0.94        62\n",
            "           d       0.96      0.96      0.96        51\n",
            "\n",
            "    accuracy                           0.96       236\n",
            "   macro avg       0.96      0.96      0.96       236\n",
            "weighted avg       0.96      0.96      0.96       236\n",
            "\n"
          ],
          "name": "stdout"
        }
      ]
    },
    {
      "cell_type": "code",
      "metadata": {
        "id": "-cEguWDNiQo6",
        "colab_type": "code",
        "colab": {}
      },
      "source": [
        "# Unfreeze the pre-trained model for fine-tuning\n",
        "base_model.trainable = True"
      ],
      "execution_count": 0,
      "outputs": []
    },
    {
      "cell_type": "code",
      "metadata": {
        "id": "QrpQOkgj2hcQ",
        "colab_type": "code",
        "colab": {}
      },
      "source": [
        "for layer in base_model.layers:\n",
        "    # Boolean whether this layer is trainable.\n",
        "    trainable = ('block5' in layer.name or 'block4' in layer.name)\n",
        "    \n",
        "    # Set the layer's bool.\n",
        "    layer.trainable = trainable"
      ],
      "execution_count": 0,
      "outputs": []
    },
    {
      "cell_type": "code",
      "metadata": {
        "id": "Yq4Rd6162vfD",
        "colab_type": "code",
        "outputId": "17129a1f-23fb-4831-eb8e-b1663fad80ce",
        "colab": {
          "base_uri": "https://localhost:8080/",
          "height": 336
        }
      },
      "source": [
        "for layer in base_model.layers:\n",
        "    print(\"{0}:\\t{1}\".format(layer.trainable, layer.name))"
      ],
      "execution_count": 25,
      "outputs": [
        {
          "output_type": "stream",
          "text": [
            "False:\tinput_1\n",
            "False:\tblock1_conv1\n",
            "False:\tblock1_conv2\n",
            "False:\tblock1_pool\n",
            "False:\tblock2_conv1\n",
            "False:\tblock2_conv2\n",
            "False:\tblock2_pool\n",
            "False:\tblock3_conv1\n",
            "False:\tblock3_conv2\n",
            "False:\tblock3_conv3\n",
            "False:\tblock3_pool\n",
            "True:\tblock4_conv1\n",
            "True:\tblock4_conv2\n",
            "True:\tblock4_conv3\n",
            "True:\tblock4_pool\n",
            "True:\tblock5_conv1\n",
            "True:\tblock5_conv2\n",
            "True:\tblock5_conv3\n",
            "True:\tblock5_pool\n"
          ],
          "name": "stdout"
        }
      ]
    },
    {
      "cell_type": "code",
      "metadata": {
        "id": "4MvEjOue24mu",
        "colab_type": "code",
        "colab": {}
      },
      "source": [
        "model.compile(optimizer=Adam(lr=1e-7), loss='categorical_crossentropy', metrics=['accuracy'])"
      ],
      "execution_count": 0,
      "outputs": []
    },
    {
      "cell_type": "code",
      "metadata": {
        "id": "ppuQso0w3GT0",
        "colab_type": "code",
        "outputId": "a46f1013-3f4a-4d8a-a5a2-270658ed8d44",
        "colab": {
          "base_uri": "https://localhost:8080/",
          "height": 1000
        }
      },
      "source": [
        "epochs = 500\n",
        "steps_per_epoch = 40\n",
        "\n",
        "history = model.fit(x=generator_train, epochs=epochs,\n",
        "                    steps_per_epoch=steps_per_epoch,\n",
        "                    validation_data=generator_val,\n",
        "                    validation_steps=steps_val,\n",
        "                    callbacks=[early_stopping])"
      ],
      "execution_count": 27,
      "outputs": [
        {
          "output_type": "stream",
          "text": [
            "Epoch 1/500\n",
            "40/40 [==============================] - 11s 274ms/step - loss: 0.1044 - accuracy: 0.9657 - val_loss: 0.1211 - val_accuracy: 0.9661\n",
            "Epoch 2/500\n",
            "40/40 [==============================] - 11s 264ms/step - loss: 0.1082 - accuracy: 0.9665 - val_loss: 0.1161 - val_accuracy: 0.9661\n",
            "Epoch 3/500\n",
            "40/40 [==============================] - 10s 262ms/step - loss: 0.1060 - accuracy: 0.9676 - val_loss: 0.1139 - val_accuracy: 0.9661\n",
            "Epoch 4/500\n",
            "40/40 [==============================] - 11s 271ms/step - loss: 0.1107 - accuracy: 0.9655 - val_loss: 0.1118 - val_accuracy: 0.9661\n",
            "Epoch 5/500\n",
            "40/40 [==============================] - 11s 267ms/step - loss: 0.1053 - accuracy: 0.9699 - val_loss: 0.1104 - val_accuracy: 0.9661\n",
            "Epoch 6/500\n",
            "40/40 [==============================] - 10s 261ms/step - loss: 0.1011 - accuracy: 0.9713 - val_loss: 0.1102 - val_accuracy: 0.9661\n",
            "Epoch 7/500\n",
            "40/40 [==============================] - 11s 269ms/step - loss: 0.0903 - accuracy: 0.9690 - val_loss: 0.1097 - val_accuracy: 0.9661\n",
            "Epoch 8/500\n",
            "40/40 [==============================] - 11s 272ms/step - loss: 0.0861 - accuracy: 0.9708 - val_loss: 0.1100 - val_accuracy: 0.9661\n",
            "Epoch 9/500\n",
            "40/40 [==============================] - 10s 262ms/step - loss: 0.0838 - accuracy: 0.9758 - val_loss: 0.1105 - val_accuracy: 0.9661\n",
            "Epoch 10/500\n",
            "40/40 [==============================] - 11s 264ms/step - loss: 0.0859 - accuracy: 0.9740 - val_loss: 0.1111 - val_accuracy: 0.9661\n",
            "Epoch 11/500\n",
            "40/40 [==============================] - 11s 270ms/step - loss: 0.0806 - accuracy: 0.9761 - val_loss: 0.1097 - val_accuracy: 0.9661\n",
            "Epoch 12/500\n",
            "40/40 [==============================] - 11s 263ms/step - loss: 0.0973 - accuracy: 0.9717 - val_loss: 0.1082 - val_accuracy: 0.9703\n",
            "Epoch 13/500\n",
            "40/40 [==============================] - 11s 267ms/step - loss: 0.0778 - accuracy: 0.9762 - val_loss: 0.1079 - val_accuracy: 0.9703\n",
            "Epoch 14/500\n",
            "40/40 [==============================] - 11s 271ms/step - loss: 0.0828 - accuracy: 0.9756 - val_loss: 0.1061 - val_accuracy: 0.9703\n",
            "Epoch 15/500\n",
            "40/40 [==============================] - 11s 273ms/step - loss: 0.0766 - accuracy: 0.9749 - val_loss: 0.1035 - val_accuracy: 0.9703\n",
            "Epoch 16/500\n",
            "40/40 [==============================] - 11s 265ms/step - loss: 0.0653 - accuracy: 0.9777 - val_loss: 0.1030 - val_accuracy: 0.9746\n",
            "Epoch 17/500\n",
            "40/40 [==============================] - 10s 260ms/step - loss: 0.0784 - accuracy: 0.9757 - val_loss: 0.1028 - val_accuracy: 0.9703\n",
            "Epoch 18/500\n",
            "40/40 [==============================] - 11s 266ms/step - loss: 0.0651 - accuracy: 0.9776 - val_loss: 0.1037 - val_accuracy: 0.9703\n",
            "Epoch 19/500\n",
            "40/40 [==============================] - 11s 266ms/step - loss: 0.0721 - accuracy: 0.9736 - val_loss: 0.1037 - val_accuracy: 0.9703\n",
            "Epoch 20/500\n",
            "40/40 [==============================] - 11s 263ms/step - loss: 0.0714 - accuracy: 0.9781 - val_loss: 0.1038 - val_accuracy: 0.9703\n",
            "Epoch 21/500\n",
            "40/40 [==============================] - 10s 260ms/step - loss: 0.0711 - accuracy: 0.9772 - val_loss: 0.1036 - val_accuracy: 0.9703\n",
            "Epoch 22/500\n",
            "40/40 [==============================] - 10s 259ms/step - loss: 0.0676 - accuracy: 0.9777 - val_loss: 0.1029 - val_accuracy: 0.9703\n",
            "Epoch 23/500\n",
            "40/40 [==============================] - 11s 266ms/step - loss: 0.0796 - accuracy: 0.9770 - val_loss: 0.1012 - val_accuracy: 0.9703\n",
            "Epoch 24/500\n",
            "40/40 [==============================] - 10s 262ms/step - loss: 0.0629 - accuracy: 0.9787 - val_loss: 0.1007 - val_accuracy: 0.9703\n",
            "Epoch 25/500\n",
            "40/40 [==============================] - 11s 266ms/step - loss: 0.0647 - accuracy: 0.9804 - val_loss: 0.1001 - val_accuracy: 0.9788\n",
            "Epoch 26/500\n",
            "40/40 [==============================] - 11s 269ms/step - loss: 0.0805 - accuracy: 0.9813 - val_loss: 0.0989 - val_accuracy: 0.9788\n",
            "Epoch 27/500\n",
            "40/40 [==============================] - 11s 266ms/step - loss: 0.0636 - accuracy: 0.9800 - val_loss: 0.0994 - val_accuracy: 0.9746\n",
            "Epoch 28/500\n",
            "40/40 [==============================] - 11s 269ms/step - loss: 0.0637 - accuracy: 0.9787 - val_loss: 0.0995 - val_accuracy: 0.9746\n",
            "Epoch 29/500\n",
            "40/40 [==============================] - 11s 269ms/step - loss: 0.0618 - accuracy: 0.9794 - val_loss: 0.0994 - val_accuracy: 0.9746\n",
            "Epoch 30/500\n",
            "40/40 [==============================] - 11s 263ms/step - loss: 0.0504 - accuracy: 0.9815 - val_loss: 0.0996 - val_accuracy: 0.9746\n",
            "Epoch 31/500\n",
            "40/40 [==============================] - 11s 263ms/step - loss: 0.0642 - accuracy: 0.9792 - val_loss: 0.0993 - val_accuracy: 0.9746\n",
            "Epoch 32/500\n",
            "40/40 [==============================] - 11s 269ms/step - loss: 0.0659 - accuracy: 0.9783 - val_loss: 0.0994 - val_accuracy: 0.9788\n",
            "Epoch 33/500\n",
            "40/40 [==============================] - 11s 264ms/step - loss: 0.0461 - accuracy: 0.9846 - val_loss: 0.0991 - val_accuracy: 0.9788\n",
            "Epoch 34/500\n",
            "40/40 [==============================] - 11s 269ms/step - loss: 0.0522 - accuracy: 0.9846 - val_loss: 0.0986 - val_accuracy: 0.9788\n",
            "Epoch 35/500\n",
            "40/40 [==============================] - 11s 271ms/step - loss: 0.0610 - accuracy: 0.9806 - val_loss: 0.0999 - val_accuracy: 0.9788\n",
            "Epoch 36/500\n",
            "40/40 [==============================] - 11s 266ms/step - loss: 0.0563 - accuracy: 0.9801 - val_loss: 0.0993 - val_accuracy: 0.9788\n",
            "Epoch 37/500\n",
            "40/40 [==============================] - 11s 267ms/step - loss: 0.0618 - accuracy: 0.9807 - val_loss: 0.0989 - val_accuracy: 0.9788\n",
            "Epoch 38/500\n",
            "40/40 [==============================] - 11s 263ms/step - loss: 0.0545 - accuracy: 0.9807 - val_loss: 0.0986 - val_accuracy: 0.9831\n",
            "Epoch 39/500\n",
            "40/40 [==============================] - 11s 270ms/step - loss: 0.0534 - accuracy: 0.9835 - val_loss: 0.0989 - val_accuracy: 0.9831\n",
            "Epoch 40/500\n",
            "40/40 [==============================] - 11s 265ms/step - loss: 0.0574 - accuracy: 0.9809 - val_loss: 0.0979 - val_accuracy: 0.9831\n",
            "Epoch 41/500\n",
            "40/40 [==============================] - 11s 268ms/step - loss: 0.0589 - accuracy: 0.9811 - val_loss: 0.0972 - val_accuracy: 0.9831\n",
            "Epoch 42/500\n",
            "40/40 [==============================] - 11s 272ms/step - loss: 0.0624 - accuracy: 0.9813 - val_loss: 0.0968 - val_accuracy: 0.9831\n",
            "Epoch 43/500\n",
            "40/40 [==============================] - 11s 273ms/step - loss: 0.0672 - accuracy: 0.9770 - val_loss: 0.0968 - val_accuracy: 0.9831\n",
            "Epoch 44/500\n",
            "40/40 [==============================] - 11s 264ms/step - loss: 0.0533 - accuracy: 0.9820 - val_loss: 0.0964 - val_accuracy: 0.9831\n",
            "Epoch 45/500\n",
            "40/40 [==============================] - 10s 258ms/step - loss: 0.0471 - accuracy: 0.9858 - val_loss: 0.0966 - val_accuracy: 0.9831\n",
            "Epoch 46/500\n",
            "40/40 [==============================] - 11s 272ms/step - loss: 0.0543 - accuracy: 0.9831 - val_loss: 0.0964 - val_accuracy: 0.9831\n",
            "Epoch 47/500\n",
            "40/40 [==============================] - 11s 264ms/step - loss: 0.0478 - accuracy: 0.9835 - val_loss: 0.0962 - val_accuracy: 0.9831\n",
            "Epoch 48/500\n",
            "40/40 [==============================] - 11s 268ms/step - loss: 0.0488 - accuracy: 0.9831 - val_loss: 0.0964 - val_accuracy: 0.9831\n",
            "Epoch 49/500\n",
            "40/40 [==============================] - 11s 268ms/step - loss: 0.0520 - accuracy: 0.9828 - val_loss: 0.0963 - val_accuracy: 0.9831\n",
            "Epoch 50/500\n",
            "40/40 [==============================] - 11s 271ms/step - loss: 0.0437 - accuracy: 0.9850 - val_loss: 0.0966 - val_accuracy: 0.9831\n",
            "Epoch 51/500\n",
            "40/40 [==============================] - 10s 258ms/step - loss: 0.0498 - accuracy: 0.9826 - val_loss: 0.0969 - val_accuracy: 0.9831\n",
            "Epoch 52/500\n",
            "40/40 [==============================] - 10s 262ms/step - loss: 0.0421 - accuracy: 0.9856 - val_loss: 0.0964 - val_accuracy: 0.9831\n",
            "Epoch 53/500\n",
            "40/40 [==============================] - 11s 270ms/step - loss: 0.0445 - accuracy: 0.9837 - val_loss: 0.0969 - val_accuracy: 0.9831\n",
            "Epoch 54/500\n",
            "40/40 [==============================] - 11s 264ms/step - loss: 0.0411 - accuracy: 0.9861 - val_loss: 0.0969 - val_accuracy: 0.9831\n",
            "Epoch 55/500\n",
            "40/40 [==============================] - 11s 263ms/step - loss: 0.0459 - accuracy: 0.9860 - val_loss: 0.0962 - val_accuracy: 0.9831\n",
            "Epoch 56/500\n",
            "40/40 [==============================] - 11s 275ms/step - loss: 0.0460 - accuracy: 0.9859 - val_loss: 0.0955 - val_accuracy: 0.9831\n",
            "Epoch 57/500\n",
            "40/40 [==============================] - 11s 268ms/step - loss: 0.0407 - accuracy: 0.9863 - val_loss: 0.0952 - val_accuracy: 0.9831\n",
            "Epoch 58/500\n",
            "40/40 [==============================] - 11s 264ms/step - loss: 0.0487 - accuracy: 0.9841 - val_loss: 0.0942 - val_accuracy: 0.9831\n",
            "Epoch 59/500\n",
            "40/40 [==============================] - 10s 259ms/step - loss: 0.0476 - accuracy: 0.9846 - val_loss: 0.0943 - val_accuracy: 0.9831\n",
            "Epoch 60/500\n",
            "40/40 [==============================] - 11s 272ms/step - loss: 0.0372 - accuracy: 0.9872 - val_loss: 0.0941 - val_accuracy: 0.9831\n",
            "Epoch 61/500\n",
            "40/40 [==============================] - 10s 261ms/step - loss: 0.0430 - accuracy: 0.9858 - val_loss: 0.0939 - val_accuracy: 0.9831\n",
            "Epoch 62/500\n",
            "40/40 [==============================] - 11s 263ms/step - loss: 0.0479 - accuracy: 0.9850 - val_loss: 0.0937 - val_accuracy: 0.9831\n",
            "Epoch 63/500\n",
            "40/40 [==============================] - 11s 268ms/step - loss: 0.0379 - accuracy: 0.9879 - val_loss: 0.0945 - val_accuracy: 0.9831\n",
            "Epoch 64/500\n",
            "40/40 [==============================] - 11s 268ms/step - loss: 0.0425 - accuracy: 0.9875 - val_loss: 0.0936 - val_accuracy: 0.9831\n",
            "Epoch 65/500\n",
            "40/40 [==============================] - 11s 263ms/step - loss: 0.0558 - accuracy: 0.9854 - val_loss: 0.0937 - val_accuracy: 0.9831\n",
            "Epoch 66/500\n",
            "40/40 [==============================] - 10s 259ms/step - loss: 0.0524 - accuracy: 0.9833 - val_loss: 0.0927 - val_accuracy: 0.9831\n",
            "Epoch 67/500\n",
            "40/40 [==============================] - 11s 266ms/step - loss: 0.0481 - accuracy: 0.9828 - val_loss: 0.0921 - val_accuracy: 0.9831\n",
            "Epoch 68/500\n",
            "40/40 [==============================] - 10s 262ms/step - loss: 0.0336 - accuracy: 0.9875 - val_loss: 0.0922 - val_accuracy: 0.9831\n",
            "Epoch 69/500\n",
            "40/40 [==============================] - 10s 261ms/step - loss: 0.0372 - accuracy: 0.9854 - val_loss: 0.0911 - val_accuracy: 0.9831\n",
            "Epoch 70/500\n",
            "40/40 [==============================] - 11s 271ms/step - loss: 0.0370 - accuracy: 0.9883 - val_loss: 0.0908 - val_accuracy: 0.9831\n",
            "Epoch 71/500\n",
            "40/40 [==============================] - 11s 267ms/step - loss: 0.0409 - accuracy: 0.9890 - val_loss: 0.0913 - val_accuracy: 0.9831\n",
            "Epoch 72/500\n",
            "40/40 [==============================] - 11s 265ms/step - loss: 0.0411 - accuracy: 0.9850 - val_loss: 0.0910 - val_accuracy: 0.9831\n",
            "Epoch 73/500\n",
            "40/40 [==============================] - 10s 254ms/step - loss: 0.0326 - accuracy: 0.9873 - val_loss: 0.0915 - val_accuracy: 0.9831\n",
            "Epoch 74/500\n",
            "40/40 [==============================] - 11s 267ms/step - loss: 0.0441 - accuracy: 0.9872 - val_loss: 0.0918 - val_accuracy: 0.9831\n",
            "Epoch 75/500\n",
            "40/40 [==============================] - 10s 257ms/step - loss: 0.0409 - accuracy: 0.9873 - val_loss: 0.0927 - val_accuracy: 0.9831\n",
            "Epoch 76/500\n",
            "40/40 [==============================] - 10s 261ms/step - loss: 0.0438 - accuracy: 0.9856 - val_loss: 0.0928 - val_accuracy: 0.9831\n",
            "Epoch 77/500\n",
            "40/40 [==============================] - 11s 269ms/step - loss: 0.0302 - accuracy: 0.9906 - val_loss: 0.0930 - val_accuracy: 0.9831\n",
            "Epoch 78/500\n",
            "40/40 [==============================] - 10s 262ms/step - loss: 0.0455 - accuracy: 0.9876 - val_loss: 0.0927 - val_accuracy: 0.9831\n",
            "Epoch 79/500\n",
            "40/40 [==============================] - 10s 261ms/step - loss: 0.0334 - accuracy: 0.9884 - val_loss: 0.0929 - val_accuracy: 0.9831\n",
            "Epoch 80/500\n",
            "40/40 [==============================] - 10s 259ms/step - loss: 0.0393 - accuracy: 0.9867 - val_loss: 0.0924 - val_accuracy: 0.9831\n",
            "Epoch 81/500\n",
            "40/40 [==============================] - 11s 264ms/step - loss: 0.0388 - accuracy: 0.9861 - val_loss: 0.0925 - val_accuracy: 0.9831\n",
            "Epoch 82/500\n",
            "40/40 [==============================] - 10s 261ms/step - loss: 0.0344 - accuracy: 0.9884 - val_loss: 0.0921 - val_accuracy: 0.9831\n",
            "Epoch 83/500\n",
            "40/40 [==============================] - 10s 258ms/step - loss: 0.0386 - accuracy: 0.9876 - val_loss: 0.0915 - val_accuracy: 0.9831\n",
            "Epoch 84/500\n",
            "40/40 [==============================] - 11s 264ms/step - loss: 0.0356 - accuracy: 0.9877 - val_loss: 0.0917 - val_accuracy: 0.9831\n",
            "Epoch 85/500\n",
            "40/40 [==============================] - 11s 263ms/step - loss: 0.0275 - accuracy: 0.9899 - val_loss: 0.0918 - val_accuracy: 0.9831\n",
            "Epoch 86/500\n",
            "40/40 [==============================] - 11s 263ms/step - loss: 0.0353 - accuracy: 0.9886 - val_loss: 0.0911 - val_accuracy: 0.9831\n",
            "Epoch 87/500\n",
            "40/40 [==============================] - 10s 257ms/step - loss: 0.0340 - accuracy: 0.9873 - val_loss: 0.0912 - val_accuracy: 0.9831\n",
            "Epoch 88/500\n",
            "40/40 [==============================] - 11s 269ms/step - loss: 0.0369 - accuracy: 0.9877 - val_loss: 0.0911 - val_accuracy: 0.9831\n",
            "Epoch 89/500\n",
            "40/40 [==============================] - 10s 257ms/step - loss: 0.0295 - accuracy: 0.9893 - val_loss: 0.0903 - val_accuracy: 0.9831\n",
            "Epoch 90/500\n",
            "40/40 [==============================] - 11s 264ms/step - loss: 0.0285 - accuracy: 0.9893 - val_loss: 0.0895 - val_accuracy: 0.9831\n",
            "Epoch 91/500\n",
            "40/40 [==============================] - 10s 260ms/step - loss: 0.0393 - accuracy: 0.9875 - val_loss: 0.0903 - val_accuracy: 0.9831\n",
            "Epoch 92/500\n",
            "40/40 [==============================] - 11s 269ms/step - loss: 0.0328 - accuracy: 0.9876 - val_loss: 0.0912 - val_accuracy: 0.9831\n",
            "Epoch 93/500\n",
            "40/40 [==============================] - 10s 258ms/step - loss: 0.0354 - accuracy: 0.9865 - val_loss: 0.0919 - val_accuracy: 0.9831\n",
            "Epoch 94/500\n",
            "40/40 [==============================] - 10s 258ms/step - loss: 0.0276 - accuracy: 0.9921 - val_loss: 0.0923 - val_accuracy: 0.9831\n",
            "Epoch 95/500\n",
            "40/40 [==============================] - 11s 268ms/step - loss: 0.0303 - accuracy: 0.9903 - val_loss: 0.0921 - val_accuracy: 0.9831\n",
            "Epoch 96/500\n",
            "40/40 [==============================] - 10s 253ms/step - loss: 0.0330 - accuracy: 0.9891 - val_loss: 0.0917 - val_accuracy: 0.9831\n",
            "Epoch 97/500\n",
            "40/40 [==============================] - 10s 256ms/step - loss: 0.0311 - accuracy: 0.9886 - val_loss: 0.0912 - val_accuracy: 0.9831\n",
            "Epoch 98/500\n",
            "40/40 [==============================] - 10s 262ms/step - loss: 0.0320 - accuracy: 0.9888 - val_loss: 0.0907 - val_accuracy: 0.9831\n",
            "Epoch 99/500\n",
            "40/40 [==============================] - 11s 263ms/step - loss: 0.0248 - accuracy: 0.9899 - val_loss: 0.0903 - val_accuracy: 0.9831\n",
            "Epoch 100/500\n",
            "40/40 [==============================] - 10s 256ms/step - loss: 0.0358 - accuracy: 0.9865 - val_loss: 0.0895 - val_accuracy: 0.9831\n",
            "Epoch 101/500\n",
            "40/40 [==============================] - 10s 253ms/step - loss: 0.0282 - accuracy: 0.9904 - val_loss: 0.0897 - val_accuracy: 0.9831\n",
            "Epoch 102/500\n",
            "40/40 [==============================] - 11s 264ms/step - loss: 0.0307 - accuracy: 0.9903 - val_loss: 0.0892 - val_accuracy: 0.9831\n",
            "Epoch 103/500\n",
            "40/40 [==============================] - 10s 258ms/step - loss: 0.0311 - accuracy: 0.9908 - val_loss: 0.0892 - val_accuracy: 0.9831\n",
            "Epoch 104/500\n",
            "40/40 [==============================] - 10s 256ms/step - loss: 0.0253 - accuracy: 0.9901 - val_loss: 0.0892 - val_accuracy: 0.9831\n",
            "Epoch 105/500\n",
            "40/40 [==============================] - 11s 268ms/step - loss: 0.0324 - accuracy: 0.9886 - val_loss: 0.0895 - val_accuracy: 0.9831\n",
            "Epoch 106/500\n",
            "40/40 [==============================] - 11s 269ms/step - loss: 0.0331 - accuracy: 0.9904 - val_loss: 0.0887 - val_accuracy: 0.9831\n",
            "Epoch 107/500\n",
            "40/40 [==============================] - 11s 263ms/step - loss: 0.0305 - accuracy: 0.9878 - val_loss: 0.0880 - val_accuracy: 0.9831\n",
            "Epoch 108/500\n",
            "40/40 [==============================] - 10s 254ms/step - loss: 0.0259 - accuracy: 0.9904 - val_loss: 0.0877 - val_accuracy: 0.9831\n",
            "Epoch 109/500\n",
            "40/40 [==============================] - 11s 269ms/step - loss: 0.0287 - accuracy: 0.9881 - val_loss: 0.0873 - val_accuracy: 0.9831\n",
            "Epoch 110/500\n",
            "40/40 [==============================] - 10s 259ms/step - loss: 0.0313 - accuracy: 0.9890 - val_loss: 0.0870 - val_accuracy: 0.9831\n",
            "Epoch 111/500\n",
            "40/40 [==============================] - 10s 262ms/step - loss: 0.0294 - accuracy: 0.9903 - val_loss: 0.0871 - val_accuracy: 0.9831\n",
            "Epoch 112/500\n",
            "40/40 [==============================] - 10s 259ms/step - loss: 0.0281 - accuracy: 0.9901 - val_loss: 0.0872 - val_accuracy: 0.9831\n",
            "Epoch 113/500\n",
            "40/40 [==============================] - 11s 267ms/step - loss: 0.0292 - accuracy: 0.9931 - val_loss: 0.0875 - val_accuracy: 0.9831\n",
            "Epoch 114/500\n",
            "40/40 [==============================] - 10s 261ms/step - loss: 0.0287 - accuracy: 0.9897 - val_loss: 0.0865 - val_accuracy: 0.9831\n",
            "Epoch 115/500\n",
            "40/40 [==============================] - 10s 260ms/step - loss: 0.0282 - accuracy: 0.9904 - val_loss: 0.0865 - val_accuracy: 0.9831\n",
            "Epoch 116/500\n",
            "40/40 [==============================] - 11s 270ms/step - loss: 0.0299 - accuracy: 0.9905 - val_loss: 0.0860 - val_accuracy: 0.9831\n",
            "Epoch 117/500\n",
            "40/40 [==============================] - 10s 258ms/step - loss: 0.0260 - accuracy: 0.9906 - val_loss: 0.0866 - val_accuracy: 0.9831\n",
            "Epoch 118/500\n",
            "40/40 [==============================] - 10s 260ms/step - loss: 0.0291 - accuracy: 0.9910 - val_loss: 0.0865 - val_accuracy: 0.9831\n",
            "Epoch 119/500\n",
            "40/40 [==============================] - 11s 265ms/step - loss: 0.0283 - accuracy: 0.9903 - val_loss: 0.0851 - val_accuracy: 0.9831\n",
            "Epoch 120/500\n",
            "40/40 [==============================] - 11s 272ms/step - loss: 0.0249 - accuracy: 0.9910 - val_loss: 0.0850 - val_accuracy: 0.9831\n",
            "Epoch 121/500\n",
            "40/40 [==============================] - 10s 258ms/step - loss: 0.0320 - accuracy: 0.9884 - val_loss: 0.0854 - val_accuracy: 0.9831\n",
            "Epoch 122/500\n",
            "40/40 [==============================] - 11s 263ms/step - loss: 0.0266 - accuracy: 0.9893 - val_loss: 0.0857 - val_accuracy: 0.9831\n",
            "Epoch 123/500\n",
            "40/40 [==============================] - 10s 258ms/step - loss: 0.0271 - accuracy: 0.9905 - val_loss: 0.0855 - val_accuracy: 0.9831\n",
            "Epoch 124/500\n",
            "40/40 [==============================] - 10s 260ms/step - loss: 0.0313 - accuracy: 0.9895 - val_loss: 0.0858 - val_accuracy: 0.9831\n",
            "Epoch 125/500\n",
            "40/40 [==============================] - 10s 256ms/step - loss: 0.0243 - accuracy: 0.9919 - val_loss: 0.0868 - val_accuracy: 0.9873\n",
            "Epoch 126/500\n",
            "40/40 [==============================] - 10s 262ms/step - loss: 0.0234 - accuracy: 0.9934 - val_loss: 0.0878 - val_accuracy: 0.9873\n",
            "Epoch 127/500\n",
            "40/40 [==============================] - 11s 264ms/step - loss: 0.0288 - accuracy: 0.9910 - val_loss: 0.0871 - val_accuracy: 0.9873\n",
            "Epoch 128/500\n",
            "40/40 [==============================] - 10s 258ms/step - loss: 0.0260 - accuracy: 0.9910 - val_loss: 0.0869 - val_accuracy: 0.9873\n",
            "Epoch 129/500\n",
            "40/40 [==============================] - 10s 257ms/step - loss: 0.0252 - accuracy: 0.9908 - val_loss: 0.0857 - val_accuracy: 0.9873\n",
            "Epoch 130/500\n",
            "40/40 [==============================] - 10s 259ms/step - loss: 0.0283 - accuracy: 0.9906 - val_loss: 0.0847 - val_accuracy: 0.9873\n",
            "Epoch 131/500\n",
            "40/40 [==============================] - 10s 261ms/step - loss: 0.0283 - accuracy: 0.9921 - val_loss: 0.0847 - val_accuracy: 0.9873\n",
            "Epoch 132/500\n",
            "40/40 [==============================] - 10s 253ms/step - loss: 0.0305 - accuracy: 0.9918 - val_loss: 0.0850 - val_accuracy: 0.9873\n",
            "Epoch 133/500\n",
            "40/40 [==============================] - 10s 258ms/step - loss: 0.0255 - accuracy: 0.9917 - val_loss: 0.0836 - val_accuracy: 0.9873\n",
            "Epoch 134/500\n",
            "40/40 [==============================] - 11s 267ms/step - loss: 0.0230 - accuracy: 0.9912 - val_loss: 0.0838 - val_accuracy: 0.9873\n",
            "Epoch 135/500\n",
            "40/40 [==============================] - 10s 258ms/step - loss: 0.0283 - accuracy: 0.9908 - val_loss: 0.0849 - val_accuracy: 0.9873\n",
            "Epoch 136/500\n",
            "40/40 [==============================] - 10s 260ms/step - loss: 0.0214 - accuracy: 0.9931 - val_loss: 0.0850 - val_accuracy: 0.9873\n",
            "Epoch 137/500\n",
            "40/40 [==============================] - 11s 266ms/step - loss: 0.0238 - accuracy: 0.9927 - val_loss: 0.0849 - val_accuracy: 0.9873\n",
            "Epoch 138/500\n",
            "40/40 [==============================] - 10s 256ms/step - loss: 0.0194 - accuracy: 0.9942 - val_loss: 0.0853 - val_accuracy: 0.9873\n",
            "Epoch 139/500\n",
            "40/40 [==============================] - 11s 265ms/step - loss: 0.0220 - accuracy: 0.9933 - val_loss: 0.0852 - val_accuracy: 0.9873\n",
            "Epoch 140/500\n",
            "40/40 [==============================] - 10s 258ms/step - loss: 0.0237 - accuracy: 0.9925 - val_loss: 0.0846 - val_accuracy: 0.9873\n",
            "Epoch 141/500\n",
            "40/40 [==============================] - 11s 271ms/step - loss: 0.0198 - accuracy: 0.9938 - val_loss: 0.0851 - val_accuracy: 0.9873\n",
            "Epoch 142/500\n",
            "40/40 [==============================] - 10s 254ms/step - loss: 0.0294 - accuracy: 0.9910 - val_loss: 0.0842 - val_accuracy: 0.9873\n",
            "Epoch 143/500\n",
            "40/40 [==============================] - 10s 259ms/step - loss: 0.0255 - accuracy: 0.9923 - val_loss: 0.0847 - val_accuracy: 0.9873\n",
            "Epoch 144/500\n",
            "40/40 [==============================] - 10s 260ms/step - loss: 0.0213 - accuracy: 0.9921 - val_loss: 0.0849 - val_accuracy: 0.9873\n",
            "Epoch 145/500\n",
            "40/40 [==============================] - 10s 262ms/step - loss: 0.0216 - accuracy: 0.9933 - val_loss: 0.0845 - val_accuracy: 0.9873\n",
            "Epoch 146/500\n",
            "40/40 [==============================] - 10s 259ms/step - loss: 0.0199 - accuracy: 0.9933 - val_loss: 0.0850 - val_accuracy: 0.9873\n",
            "Epoch 147/500\n",
            "40/40 [==============================] - 10s 261ms/step - loss: 0.0179 - accuracy: 0.9938 - val_loss: 0.0854 - val_accuracy: 0.9873\n",
            "Epoch 148/500\n",
            "40/40 [==============================] - 11s 267ms/step - loss: 0.0271 - accuracy: 0.9927 - val_loss: 0.0858 - val_accuracy: 0.9873\n",
            "Epoch 149/500\n",
            "40/40 [==============================] - 10s 252ms/step - loss: 0.0229 - accuracy: 0.9925 - val_loss: 0.0855 - val_accuracy: 0.9831\n",
            "Epoch 150/500\n",
            "40/40 [==============================] - 10s 250ms/step - loss: 0.0187 - accuracy: 0.9946 - val_loss: 0.0852 - val_accuracy: 0.9873\n",
            "Epoch 151/500\n",
            "40/40 [==============================] - 10s 259ms/step - loss: 0.0267 - accuracy: 0.9921 - val_loss: 0.0836 - val_accuracy: 0.9873\n",
            "Epoch 152/500\n",
            "40/40 [==============================] - 10s 258ms/step - loss: 0.0247 - accuracy: 0.9921 - val_loss: 0.0828 - val_accuracy: 0.9873\n",
            "Epoch 153/500\n",
            "40/40 [==============================] - 10s 258ms/step - loss: 0.0225 - accuracy: 0.9925 - val_loss: 0.0828 - val_accuracy: 0.9873\n",
            "Epoch 154/500\n",
            "40/40 [==============================] - 10s 260ms/step - loss: 0.0205 - accuracy: 0.9943 - val_loss: 0.0831 - val_accuracy: 0.9873\n",
            "Epoch 155/500\n",
            "40/40 [==============================] - 11s 263ms/step - loss: 0.0202 - accuracy: 0.9933 - val_loss: 0.0835 - val_accuracy: 0.9873\n",
            "Epoch 156/500\n",
            "40/40 [==============================] - 10s 255ms/step - loss: 0.0203 - accuracy: 0.9944 - val_loss: 0.0829 - val_accuracy: 0.9873\n",
            "Epoch 157/500\n",
            "40/40 [==============================] - 10s 252ms/step - loss: 0.0240 - accuracy: 0.9927 - val_loss: 0.0824 - val_accuracy: 0.9873\n",
            "Epoch 158/500\n",
            "40/40 [==============================] - 11s 267ms/step - loss: 0.0240 - accuracy: 0.9934 - val_loss: 0.0820 - val_accuracy: 0.9873\n",
            "Epoch 159/500\n",
            "40/40 [==============================] - 10s 261ms/step - loss: 0.0165 - accuracy: 0.9942 - val_loss: 0.0821 - val_accuracy: 0.9873\n",
            "Epoch 160/500\n",
            "40/40 [==============================] - 10s 252ms/step - loss: 0.0189 - accuracy: 0.9951 - val_loss: 0.0826 - val_accuracy: 0.9873\n",
            "Epoch 161/500\n",
            "40/40 [==============================] - 11s 267ms/step - loss: 0.0222 - accuracy: 0.9938 - val_loss: 0.0815 - val_accuracy: 0.9873\n",
            "Epoch 162/500\n",
            "40/40 [==============================] - 11s 266ms/step - loss: 0.0184 - accuracy: 0.9942 - val_loss: 0.0814 - val_accuracy: 0.9873\n",
            "Epoch 163/500\n",
            "40/40 [==============================] - 10s 257ms/step - loss: 0.0214 - accuracy: 0.9923 - val_loss: 0.0808 - val_accuracy: 0.9873\n",
            "Epoch 164/500\n",
            "40/40 [==============================] - 10s 257ms/step - loss: 0.0205 - accuracy: 0.9933 - val_loss: 0.0802 - val_accuracy: 0.9873\n",
            "Epoch 165/500\n",
            "40/40 [==============================] - 11s 274ms/step - loss: 0.0169 - accuracy: 0.9930 - val_loss: 0.0799 - val_accuracy: 0.9873\n",
            "Epoch 166/500\n",
            "40/40 [==============================] - 10s 256ms/step - loss: 0.0226 - accuracy: 0.9919 - val_loss: 0.0795 - val_accuracy: 0.9873\n",
            "Epoch 167/500\n",
            "40/40 [==============================] - 11s 265ms/step - loss: 0.0183 - accuracy: 0.9936 - val_loss: 0.0795 - val_accuracy: 0.9873\n",
            "Epoch 168/500\n",
            "40/40 [==============================] - 10s 258ms/step - loss: 0.0190 - accuracy: 0.9950 - val_loss: 0.0791 - val_accuracy: 0.9873\n",
            "Epoch 169/500\n",
            "40/40 [==============================] - 11s 263ms/step - loss: 0.0195 - accuracy: 0.9929 - val_loss: 0.0794 - val_accuracy: 0.9873\n",
            "Epoch 170/500\n",
            "40/40 [==============================] - 10s 255ms/step - loss: 0.0198 - accuracy: 0.9936 - val_loss: 0.0801 - val_accuracy: 0.9873\n",
            "Epoch 171/500\n",
            "40/40 [==============================] - 10s 251ms/step - loss: 0.0177 - accuracy: 0.9940 - val_loss: 0.0809 - val_accuracy: 0.9873\n",
            "Epoch 172/500\n",
            "40/40 [==============================] - 10s 257ms/step - loss: 0.0205 - accuracy: 0.9925 - val_loss: 0.0817 - val_accuracy: 0.9873\n",
            "Epoch 173/500\n",
            "40/40 [==============================] - 10s 251ms/step - loss: 0.0172 - accuracy: 0.9942 - val_loss: 0.0811 - val_accuracy: 0.9873\n",
            "Epoch 174/500\n",
            "40/40 [==============================] - 10s 258ms/step - loss: 0.0155 - accuracy: 0.9944 - val_loss: 0.0806 - val_accuracy: 0.9873\n",
            "Epoch 175/500\n",
            "40/40 [==============================] - 10s 253ms/step - loss: 0.0183 - accuracy: 0.9938 - val_loss: 0.0802 - val_accuracy: 0.9873\n",
            "Epoch 176/500\n",
            "40/40 [==============================] - 11s 265ms/step - loss: 0.0176 - accuracy: 0.9940 - val_loss: 0.0796 - val_accuracy: 0.9873\n",
            "Epoch 177/500\n",
            "40/40 [==============================] - 10s 250ms/step - loss: 0.0221 - accuracy: 0.9921 - val_loss: 0.0793 - val_accuracy: 0.9873\n",
            "Epoch 178/500\n",
            "40/40 [==============================] - 10s 250ms/step - loss: 0.0187 - accuracy: 0.9938 - val_loss: 0.0789 - val_accuracy: 0.9873\n",
            "Epoch 179/500\n",
            "40/40 [==============================] - 11s 263ms/step - loss: 0.0172 - accuracy: 0.9936 - val_loss: 0.0793 - val_accuracy: 0.9873\n",
            "Epoch 180/500\n",
            "40/40 [==============================] - 10s 251ms/step - loss: 0.0203 - accuracy: 0.9936 - val_loss: 0.0801 - val_accuracy: 0.9873\n",
            "Epoch 181/500\n",
            "40/40 [==============================] - 10s 250ms/step - loss: 0.0166 - accuracy: 0.9940 - val_loss: 0.0797 - val_accuracy: 0.9873\n",
            "Epoch 182/500\n",
            "40/40 [==============================] - 10s 261ms/step - loss: 0.0191 - accuracy: 0.9943 - val_loss: 0.0800 - val_accuracy: 0.9873\n",
            "Epoch 183/500\n",
            "40/40 [==============================] - 10s 255ms/step - loss: 0.0160 - accuracy: 0.9936 - val_loss: 0.0800 - val_accuracy: 0.9873\n",
            "Epoch 184/500\n",
            "40/40 [==============================] - 10s 255ms/step - loss: 0.0193 - accuracy: 0.9938 - val_loss: 0.0798 - val_accuracy: 0.9873\n",
            "Epoch 185/500\n",
            "40/40 [==============================] - 10s 253ms/step - loss: 0.0168 - accuracy: 0.9933 - val_loss: 0.0800 - val_accuracy: 0.9873\n",
            "Epoch 186/500\n",
            "40/40 [==============================] - 10s 262ms/step - loss: 0.0183 - accuracy: 0.9932 - val_loss: 0.0788 - val_accuracy: 0.9873\n",
            "Epoch 187/500\n",
            "40/40 [==============================] - 10s 255ms/step - loss: 0.0187 - accuracy: 0.9951 - val_loss: 0.0787 - val_accuracy: 0.9873\n",
            "Epoch 188/500\n",
            "40/40 [==============================] - 10s 250ms/step - loss: 0.0198 - accuracy: 0.9934 - val_loss: 0.0790 - val_accuracy: 0.9873\n",
            "Epoch 189/500\n",
            "40/40 [==============================] - 10s 261ms/step - loss: 0.0179 - accuracy: 0.9945 - val_loss: 0.0788 - val_accuracy: 0.9873\n",
            "Epoch 190/500\n",
            "40/40 [==============================] - 10s 255ms/step - loss: 0.0140 - accuracy: 0.9964 - val_loss: 0.0780 - val_accuracy: 0.9873\n",
            "Epoch 191/500\n",
            "40/40 [==============================] - 10s 250ms/step - loss: 0.0165 - accuracy: 0.9936 - val_loss: 0.0776 - val_accuracy: 0.9873\n",
            "Epoch 192/500\n",
            "40/40 [==============================] - 10s 253ms/step - loss: 0.0160 - accuracy: 0.9951 - val_loss: 0.0780 - val_accuracy: 0.9873\n",
            "Epoch 193/500\n",
            "40/40 [==============================] - 10s 255ms/step - loss: 0.0173 - accuracy: 0.9938 - val_loss: 0.0781 - val_accuracy: 0.9873\n",
            "Epoch 194/500\n",
            "40/40 [==============================] - 10s 257ms/step - loss: 0.0168 - accuracy: 0.9944 - val_loss: 0.0780 - val_accuracy: 0.9873\n",
            "Epoch 195/500\n",
            "40/40 [==============================] - 10s 257ms/step - loss: 0.0181 - accuracy: 0.9933 - val_loss: 0.0778 - val_accuracy: 0.9873\n",
            "Epoch 196/500\n",
            "40/40 [==============================] - 10s 256ms/step - loss: 0.0130 - accuracy: 0.9963 - val_loss: 0.0775 - val_accuracy: 0.9873\n",
            "Epoch 197/500\n",
            "40/40 [==============================] - 11s 266ms/step - loss: 0.0139 - accuracy: 0.9949 - val_loss: 0.0771 - val_accuracy: 0.9873\n",
            "Epoch 198/500\n",
            "40/40 [==============================] - 10s 244ms/step - loss: 0.0155 - accuracy: 0.9944 - val_loss: 0.0777 - val_accuracy: 0.9873\n",
            "Epoch 199/500\n",
            "40/40 [==============================] - 10s 246ms/step - loss: 0.0177 - accuracy: 0.9934 - val_loss: 0.0770 - val_accuracy: 0.9873\n",
            "Epoch 200/500\n",
            "40/40 [==============================] - 11s 266ms/step - loss: 0.0184 - accuracy: 0.9936 - val_loss: 0.0767 - val_accuracy: 0.9873\n",
            "Epoch 201/500\n",
            "40/40 [==============================] - 10s 249ms/step - loss: 0.0123 - accuracy: 0.9951 - val_loss: 0.0769 - val_accuracy: 0.9873\n",
            "Epoch 202/500\n",
            "40/40 [==============================] - 10s 247ms/step - loss: 0.0144 - accuracy: 0.9944 - val_loss: 0.0770 - val_accuracy: 0.9873\n",
            "Epoch 203/500\n",
            "40/40 [==============================] - 11s 264ms/step - loss: 0.0148 - accuracy: 0.9960 - val_loss: 0.0759 - val_accuracy: 0.9873\n",
            "Epoch 204/500\n",
            "40/40 [==============================] - 10s 261ms/step - loss: 0.0148 - accuracy: 0.9948 - val_loss: 0.0759 - val_accuracy: 0.9873\n",
            "Epoch 205/500\n",
            "40/40 [==============================] - 10s 256ms/step - loss: 0.0155 - accuracy: 0.9953 - val_loss: 0.0768 - val_accuracy: 0.9873\n",
            "Epoch 206/500\n",
            "40/40 [==============================] - 11s 266ms/step - loss: 0.0161 - accuracy: 0.9948 - val_loss: 0.0762 - val_accuracy: 0.9873\n",
            "Epoch 207/500\n",
            "40/40 [==============================] - 10s 261ms/step - loss: 0.0126 - accuracy: 0.9963 - val_loss: 0.0768 - val_accuracy: 0.9873\n",
            "Epoch 208/500\n",
            "40/40 [==============================] - 10s 252ms/step - loss: 0.0163 - accuracy: 0.9940 - val_loss: 0.0764 - val_accuracy: 0.9873\n",
            "Epoch 209/500\n",
            "40/40 [==============================] - 10s 255ms/step - loss: 0.0191 - accuracy: 0.9938 - val_loss: 0.0772 - val_accuracy: 0.9873\n",
            "Epoch 210/500\n",
            "40/40 [==============================] - 10s 260ms/step - loss: 0.0139 - accuracy: 0.9949 - val_loss: 0.0764 - val_accuracy: 0.9873\n",
            "Epoch 211/500\n",
            "40/40 [==============================] - 10s 262ms/step - loss: 0.0145 - accuracy: 0.9972 - val_loss: 0.0765 - val_accuracy: 0.9873\n",
            "Epoch 212/500\n",
            "40/40 [==============================] - 10s 261ms/step - loss: 0.0139 - accuracy: 0.9957 - val_loss: 0.0767 - val_accuracy: 0.9873\n",
            "Epoch 213/500\n",
            "40/40 [==============================] - 10s 255ms/step - loss: 0.0144 - accuracy: 0.9948 - val_loss: 0.0763 - val_accuracy: 0.9873\n",
            "Epoch 214/500\n",
            "40/40 [==============================] - 11s 265ms/step - loss: 0.0128 - accuracy: 0.9958 - val_loss: 0.0757 - val_accuracy: 0.9873\n",
            "Epoch 215/500\n",
            "40/40 [==============================] - 10s 254ms/step - loss: 0.0153 - accuracy: 0.9953 - val_loss: 0.0760 - val_accuracy: 0.9873\n",
            "Epoch 216/500\n",
            "40/40 [==============================] - 11s 263ms/step - loss: 0.0134 - accuracy: 0.9970 - val_loss: 0.0762 - val_accuracy: 0.9873\n",
            "Epoch 217/500\n",
            "40/40 [==============================] - 11s 267ms/step - loss: 0.0108 - accuracy: 0.9965 - val_loss: 0.0760 - val_accuracy: 0.9873\n",
            "Epoch 218/500\n",
            "40/40 [==============================] - 10s 260ms/step - loss: 0.0128 - accuracy: 0.9959 - val_loss: 0.0758 - val_accuracy: 0.9873\n",
            "Epoch 219/500\n",
            "40/40 [==============================] - 10s 253ms/step - loss: 0.0175 - accuracy: 0.9929 - val_loss: 0.0763 - val_accuracy: 0.9873\n",
            "Epoch 220/500\n",
            "40/40 [==============================] - 10s 259ms/step - loss: 0.0130 - accuracy: 0.9957 - val_loss: 0.0763 - val_accuracy: 0.9873\n",
            "Epoch 221/500\n",
            "40/40 [==============================] - 10s 262ms/step - loss: 0.0135 - accuracy: 0.9965 - val_loss: 0.0761 - val_accuracy: 0.9873\n",
            "Epoch 222/500\n",
            "40/40 [==============================] - 11s 266ms/step - loss: 0.0169 - accuracy: 0.9951 - val_loss: 0.0760 - val_accuracy: 0.9873\n",
            "Epoch 223/500\n",
            "40/40 [==============================] - 10s 259ms/step - loss: 0.0147 - accuracy: 0.9961 - val_loss: 0.0757 - val_accuracy: 0.9873\n",
            "Epoch 224/500\n",
            "40/40 [==============================] - 11s 275ms/step - loss: 0.0200 - accuracy: 0.9945 - val_loss: 0.0752 - val_accuracy: 0.9873\n",
            "Epoch 225/500\n",
            "40/40 [==============================] - 11s 265ms/step - loss: 0.0151 - accuracy: 0.9953 - val_loss: 0.0752 - val_accuracy: 0.9873\n",
            "Epoch 226/500\n",
            "40/40 [==============================] - 10s 262ms/step - loss: 0.0146 - accuracy: 0.9963 - val_loss: 0.0759 - val_accuracy: 0.9873\n",
            "Epoch 227/500\n",
            "40/40 [==============================] - 10s 250ms/step - loss: 0.0112 - accuracy: 0.9966 - val_loss: 0.0762 - val_accuracy: 0.9873\n",
            "Epoch 228/500\n",
            "40/40 [==============================] - 10s 255ms/step - loss: 0.0176 - accuracy: 0.9941 - val_loss: 0.0762 - val_accuracy: 0.9873\n",
            "Epoch 229/500\n",
            "40/40 [==============================] - 10s 260ms/step - loss: 0.0131 - accuracy: 0.9949 - val_loss: 0.0757 - val_accuracy: 0.9873\n",
            "Epoch 230/500\n",
            "40/40 [==============================] - 10s 259ms/step - loss: 0.0105 - accuracy: 0.9974 - val_loss: 0.0756 - val_accuracy: 0.9873\n",
            "Epoch 231/500\n",
            "40/40 [==============================] - 11s 263ms/step - loss: 0.0167 - accuracy: 0.9945 - val_loss: 0.0754 - val_accuracy: 0.9873\n",
            "Epoch 232/500\n",
            "40/40 [==============================] - 11s 271ms/step - loss: 0.0145 - accuracy: 0.9946 - val_loss: 0.0750 - val_accuracy: 0.9873\n",
            "Epoch 233/500\n",
            "40/40 [==============================] - 10s 255ms/step - loss: 0.0111 - accuracy: 0.9951 - val_loss: 0.0750 - val_accuracy: 0.9873\n",
            "Epoch 234/500\n",
            "40/40 [==============================] - 10s 262ms/step - loss: 0.0131 - accuracy: 0.9951 - val_loss: 0.0753 - val_accuracy: 0.9873\n",
            "Epoch 235/500\n",
            "40/40 [==============================] - 10s 256ms/step - loss: 0.0081 - accuracy: 0.9974 - val_loss: 0.0752 - val_accuracy: 0.9873\n",
            "Epoch 236/500\n",
            "40/40 [==============================] - 10s 262ms/step - loss: 0.0161 - accuracy: 0.9957 - val_loss: 0.0746 - val_accuracy: 0.9873\n",
            "Epoch 237/500\n",
            "40/40 [==============================] - 10s 261ms/step - loss: 0.0131 - accuracy: 0.9966 - val_loss: 0.0743 - val_accuracy: 0.9873\n",
            "Epoch 238/500\n",
            "40/40 [==============================] - 11s 269ms/step - loss: 0.0138 - accuracy: 0.9949 - val_loss: 0.0739 - val_accuracy: 0.9873\n",
            "Epoch 239/500\n",
            "40/40 [==============================] - 11s 269ms/step - loss: 0.0090 - accuracy: 0.9978 - val_loss: 0.0741 - val_accuracy: 0.9873\n",
            "Epoch 240/500\n",
            "40/40 [==============================] - 10s 258ms/step - loss: 0.0120 - accuracy: 0.9972 - val_loss: 0.0753 - val_accuracy: 0.9873\n",
            "Epoch 241/500\n",
            "40/40 [==============================] - 11s 263ms/step - loss: 0.0093 - accuracy: 0.9970 - val_loss: 0.0762 - val_accuracy: 0.9873\n",
            "Epoch 242/500\n",
            "40/40 [==============================] - 10s 262ms/step - loss: 0.0097 - accuracy: 0.9963 - val_loss: 0.0763 - val_accuracy: 0.9873\n",
            "Epoch 243/500\n",
            "40/40 [==============================] - 10s 262ms/step - loss: 0.0112 - accuracy: 0.9972 - val_loss: 0.0760 - val_accuracy: 0.9873\n",
            "Epoch 244/500\n",
            "40/40 [==============================] - 10s 254ms/step - loss: 0.0112 - accuracy: 0.9968 - val_loss: 0.0756 - val_accuracy: 0.9873\n",
            "Epoch 245/500\n",
            "40/40 [==============================] - 11s 266ms/step - loss: 0.0159 - accuracy: 0.9945 - val_loss: 0.0744 - val_accuracy: 0.9873\n",
            "Epoch 246/500\n",
            "40/40 [==============================] - 11s 272ms/step - loss: 0.0110 - accuracy: 0.9951 - val_loss: 0.0748 - val_accuracy: 0.9873\n",
            "Epoch 247/500\n",
            "40/40 [==============================] - 11s 264ms/step - loss: 0.0135 - accuracy: 0.9953 - val_loss: 0.0741 - val_accuracy: 0.9873\n",
            "Epoch 248/500\n",
            "40/40 [==============================] - 11s 264ms/step - loss: 0.0096 - accuracy: 0.9974 - val_loss: 0.0742 - val_accuracy: 0.9873\n",
            "Epoch 249/500\n",
            "40/40 [==============================] - 11s 264ms/step - loss: 0.0123 - accuracy: 0.9958 - val_loss: 0.0735 - val_accuracy: 0.9873\n",
            "Epoch 250/500\n",
            "40/40 [==============================] - 11s 263ms/step - loss: 0.0127 - accuracy: 0.9959 - val_loss: 0.0738 - val_accuracy: 0.9873\n",
            "Epoch 251/500\n",
            "40/40 [==============================] - 10s 256ms/step - loss: 0.0137 - accuracy: 0.9963 - val_loss: 0.0743 - val_accuracy: 0.9873\n",
            "Epoch 252/500\n",
            "40/40 [==============================] - 11s 263ms/step - loss: 0.0108 - accuracy: 0.9971 - val_loss: 0.0748 - val_accuracy: 0.9873\n",
            "Epoch 253/500\n",
            "40/40 [==============================] - 11s 269ms/step - loss: 0.0093 - accuracy: 0.9970 - val_loss: 0.0751 - val_accuracy: 0.9873\n",
            "Epoch 254/500\n",
            "40/40 [==============================] - 10s 258ms/step - loss: 0.0097 - accuracy: 0.9963 - val_loss: 0.0746 - val_accuracy: 0.9873\n",
            "Epoch 255/500\n",
            "40/40 [==============================] - 11s 263ms/step - loss: 0.0090 - accuracy: 0.9976 - val_loss: 0.0745 - val_accuracy: 0.9873\n",
            "Epoch 256/500\n",
            "40/40 [==============================] - 10s 256ms/step - loss: 0.0114 - accuracy: 0.9980 - val_loss: 0.0740 - val_accuracy: 0.9873\n",
            "Epoch 257/500\n",
            "40/40 [==============================] - 10s 262ms/step - loss: 0.0085 - accuracy: 0.9972 - val_loss: 0.0741 - val_accuracy: 0.9873\n",
            "Epoch 258/500\n",
            "40/40 [==============================] - 10s 257ms/step - loss: 0.0133 - accuracy: 0.9959 - val_loss: 0.0746 - val_accuracy: 0.9873\n",
            "Epoch 259/500\n",
            "40/40 [==============================] - 11s 265ms/step - loss: 0.0116 - accuracy: 0.9963 - val_loss: 0.0746 - val_accuracy: 0.9873\n",
            "Epoch 260/500\n",
            "40/40 [==============================] - 11s 267ms/step - loss: 0.0120 - accuracy: 0.9957 - val_loss: 0.0740 - val_accuracy: 0.9873\n",
            "Epoch 261/500\n",
            "40/40 [==============================] - 10s 256ms/step - loss: 0.0104 - accuracy: 0.9966 - val_loss: 0.0741 - val_accuracy: 0.9873\n",
            "Epoch 262/500\n",
            "40/40 [==============================] - 10s 256ms/step - loss: 0.0058 - accuracy: 0.9983 - val_loss: 0.0741 - val_accuracy: 0.9873\n",
            "Epoch 263/500\n",
            "40/40 [==============================] - 11s 267ms/step - loss: 0.0147 - accuracy: 0.9954 - val_loss: 0.0741 - val_accuracy: 0.9873\n",
            "Epoch 264/500\n",
            "40/40 [==============================] - 10s 251ms/step - loss: 0.0094 - accuracy: 0.9970 - val_loss: 0.0736 - val_accuracy: 0.9873\n",
            "Epoch 265/500\n",
            "40/40 [==============================] - 10s 253ms/step - loss: 0.0108 - accuracy: 0.9970 - val_loss: 0.0741 - val_accuracy: 0.9873\n",
            "Epoch 266/500\n",
            "40/40 [==============================] - 10s 262ms/step - loss: 0.0104 - accuracy: 0.9969 - val_loss: 0.0734 - val_accuracy: 0.9873\n",
            "Epoch 267/500\n",
            "40/40 [==============================] - 11s 268ms/step - loss: 0.0070 - accuracy: 0.9979 - val_loss: 0.0730 - val_accuracy: 0.9873\n",
            "Epoch 268/500\n",
            "40/40 [==============================] - 10s 261ms/step - loss: 0.0098 - accuracy: 0.9964 - val_loss: 0.0727 - val_accuracy: 0.9873\n",
            "Epoch 269/500\n",
            "40/40 [==============================] - 10s 259ms/step - loss: 0.0106 - accuracy: 0.9970 - val_loss: 0.0730 - val_accuracy: 0.9873\n",
            "Epoch 270/500\n",
            "40/40 [==============================] - 11s 266ms/step - loss: 0.0120 - accuracy: 0.9965 - val_loss: 0.0732 - val_accuracy: 0.9873\n",
            "Epoch 271/500\n",
            "40/40 [==============================] - 10s 258ms/step - loss: 0.0084 - accuracy: 0.9966 - val_loss: 0.0733 - val_accuracy: 0.9873\n",
            "Epoch 272/500\n",
            "40/40 [==============================] - 10s 254ms/step - loss: 0.0077 - accuracy: 0.9981 - val_loss: 0.0731 - val_accuracy: 0.9873\n",
            "Epoch 273/500\n",
            "40/40 [==============================] - 11s 268ms/step - loss: 0.0099 - accuracy: 0.9976 - val_loss: 0.0734 - val_accuracy: 0.9873\n",
            "Epoch 274/500\n",
            "40/40 [==============================] - 11s 267ms/step - loss: 0.0112 - accuracy: 0.9968 - val_loss: 0.0737 - val_accuracy: 0.9873\n",
            "Epoch 275/500\n",
            "40/40 [==============================] - 10s 258ms/step - loss: 0.0114 - accuracy: 0.9964 - val_loss: 0.0734 - val_accuracy: 0.9873\n",
            "Epoch 276/500\n",
            "40/40 [==============================] - 10s 258ms/step - loss: 0.0105 - accuracy: 0.9963 - val_loss: 0.0736 - val_accuracy: 0.9873\n",
            "Epoch 277/500\n",
            "40/40 [==============================] - 11s 268ms/step - loss: 0.0082 - accuracy: 0.9974 - val_loss: 0.0732 - val_accuracy: 0.9873\n",
            "Epoch 278/500\n",
            "40/40 [==============================] - 10s 262ms/step - loss: 0.0101 - accuracy: 0.9972 - val_loss: 0.0727 - val_accuracy: 0.9873\n",
            "Epoch 279/500\n",
            "40/40 [==============================] - 10s 256ms/step - loss: 0.0117 - accuracy: 0.9974 - val_loss: 0.0722 - val_accuracy: 0.9873\n",
            "Epoch 280/500\n",
            "40/40 [==============================] - 11s 267ms/step - loss: 0.0076 - accuracy: 0.9980 - val_loss: 0.0724 - val_accuracy: 0.9873\n",
            "Epoch 281/500\n",
            "40/40 [==============================] - 11s 267ms/step - loss: 0.0111 - accuracy: 0.9963 - val_loss: 0.0718 - val_accuracy: 0.9873\n",
            "Epoch 282/500\n",
            "40/40 [==============================] - 11s 263ms/step - loss: 0.0108 - accuracy: 0.9963 - val_loss: 0.0721 - val_accuracy: 0.9873\n",
            "Epoch 283/500\n",
            "40/40 [==============================] - 10s 262ms/step - loss: 0.0107 - accuracy: 0.9970 - val_loss: 0.0716 - val_accuracy: 0.9873\n",
            "Epoch 284/500\n",
            "40/40 [==============================] - 10s 256ms/step - loss: 0.0101 - accuracy: 0.9969 - val_loss: 0.0716 - val_accuracy: 0.9873\n",
            "Epoch 285/500\n",
            "40/40 [==============================] - 10s 261ms/step - loss: 0.0068 - accuracy: 0.9976 - val_loss: 0.0717 - val_accuracy: 0.9873\n",
            "Epoch 286/500\n",
            "40/40 [==============================] - 10s 257ms/step - loss: 0.0101 - accuracy: 0.9963 - val_loss: 0.0719 - val_accuracy: 0.9873\n",
            "Epoch 287/500\n",
            "40/40 [==============================] - 10s 261ms/step - loss: 0.0089 - accuracy: 0.9974 - val_loss: 0.0717 - val_accuracy: 0.9873\n",
            "Epoch 288/500\n",
            "40/40 [==============================] - 11s 270ms/step - loss: 0.0098 - accuracy: 0.9970 - val_loss: 0.0716 - val_accuracy: 0.9873\n",
            "Epoch 289/500\n",
            "40/40 [==============================] - 10s 251ms/step - loss: 0.0130 - accuracy: 0.9951 - val_loss: 0.0719 - val_accuracy: 0.9873\n",
            "Epoch 290/500\n",
            "40/40 [==============================] - 10s 262ms/step - loss: 0.0104 - accuracy: 0.9972 - val_loss: 0.0717 - val_accuracy: 0.9873\n",
            "Epoch 291/500\n",
            "40/40 [==============================] - 10s 259ms/step - loss: 0.0096 - accuracy: 0.9978 - val_loss: 0.0715 - val_accuracy: 0.9873\n",
            "Epoch 292/500\n",
            "40/40 [==============================] - 11s 263ms/step - loss: 0.0090 - accuracy: 0.9974 - val_loss: 0.0718 - val_accuracy: 0.9873\n",
            "Epoch 293/500\n",
            "40/40 [==============================] - 10s 259ms/step - loss: 0.0094 - accuracy: 0.9964 - val_loss: 0.0716 - val_accuracy: 0.9873\n",
            "Epoch 294/500\n",
            "40/40 [==============================] - 10s 259ms/step - loss: 0.0077 - accuracy: 0.9971 - val_loss: 0.0717 - val_accuracy: 0.9873\n",
            "Epoch 295/500\n",
            "40/40 [==============================] - 11s 271ms/step - loss: 0.0083 - accuracy: 0.9976 - val_loss: 0.0714 - val_accuracy: 0.9873\n",
            "Epoch 296/500\n",
            "40/40 [==============================] - 10s 251ms/step - loss: 0.0080 - accuracy: 0.9979 - val_loss: 0.0715 - val_accuracy: 0.9873\n",
            "Epoch 297/500\n",
            "40/40 [==============================] - 10s 260ms/step - loss: 0.0086 - accuracy: 0.9979 - val_loss: 0.0716 - val_accuracy: 0.9873\n",
            "Epoch 298/500\n",
            "40/40 [==============================] - 11s 263ms/step - loss: 0.0078 - accuracy: 0.9972 - val_loss: 0.0719 - val_accuracy: 0.9873\n",
            "Epoch 299/500\n",
            "40/40 [==============================] - 10s 258ms/step - loss: 0.0059 - accuracy: 0.9989 - val_loss: 0.0716 - val_accuracy: 0.9873\n",
            "Epoch 300/500\n",
            "40/40 [==============================] - 11s 266ms/step - loss: 0.0091 - accuracy: 0.9966 - val_loss: 0.0715 - val_accuracy: 0.9873\n",
            "Epoch 301/500\n",
            "40/40 [==============================] - 10s 258ms/step - loss: 0.0075 - accuracy: 0.9976 - val_loss: 0.0716 - val_accuracy: 0.9873\n",
            "Epoch 302/500\n",
            "40/40 [==============================] - 11s 268ms/step - loss: 0.0103 - accuracy: 0.9976 - val_loss: 0.0717 - val_accuracy: 0.9873\n",
            "Epoch 303/500\n",
            "40/40 [==============================] - 10s 256ms/step - loss: 0.0082 - accuracy: 0.9964 - val_loss: 0.0709 - val_accuracy: 0.9873\n",
            "Epoch 304/500\n",
            "40/40 [==============================] - 10s 258ms/step - loss: 0.0064 - accuracy: 0.9979 - val_loss: 0.0709 - val_accuracy: 0.9873\n",
            "Epoch 305/500\n",
            "40/40 [==============================] - 11s 269ms/step - loss: 0.0120 - accuracy: 0.9956 - val_loss: 0.0700 - val_accuracy: 0.9915\n",
            "Epoch 306/500\n",
            "40/40 [==============================] - 10s 256ms/step - loss: 0.0102 - accuracy: 0.9959 - val_loss: 0.0696 - val_accuracy: 0.9915\n",
            "Epoch 307/500\n",
            "40/40 [==============================] - 11s 266ms/step - loss: 0.0076 - accuracy: 0.9972 - val_loss: 0.0704 - val_accuracy: 0.9915\n",
            "Epoch 308/500\n",
            "40/40 [==============================] - 10s 261ms/step - loss: 0.0058 - accuracy: 0.9985 - val_loss: 0.0702 - val_accuracy: 0.9915\n",
            "Epoch 309/500\n",
            "40/40 [==============================] - 11s 264ms/step - loss: 0.0088 - accuracy: 0.9972 - val_loss: 0.0701 - val_accuracy: 0.9915\n",
            "Epoch 310/500\n",
            "40/40 [==============================] - 10s 259ms/step - loss: 0.0088 - accuracy: 0.9970 - val_loss: 0.0697 - val_accuracy: 0.9873\n",
            "Epoch 311/500\n",
            "40/40 [==============================] - 10s 258ms/step - loss: 0.0081 - accuracy: 0.9985 - val_loss: 0.0696 - val_accuracy: 0.9873\n",
            "Epoch 312/500\n",
            "40/40 [==============================] - 11s 268ms/step - loss: 0.0080 - accuracy: 0.9982 - val_loss: 0.0696 - val_accuracy: 0.9873\n",
            "Epoch 313/500\n",
            "40/40 [==============================] - 10s 253ms/step - loss: 0.0083 - accuracy: 0.9978 - val_loss: 0.0696 - val_accuracy: 0.9915\n",
            "Epoch 314/500\n",
            "40/40 [==============================] - 10s 262ms/step - loss: 0.0098 - accuracy: 0.9963 - val_loss: 0.0694 - val_accuracy: 0.9873\n",
            "Epoch 315/500\n",
            "40/40 [==============================] - 10s 259ms/step - loss: 0.0093 - accuracy: 0.9967 - val_loss: 0.0686 - val_accuracy: 0.9873\n",
            "Epoch 316/500\n",
            "40/40 [==============================] - 11s 266ms/step - loss: 0.0069 - accuracy: 0.9978 - val_loss: 0.0688 - val_accuracy: 0.9873\n",
            "Epoch 317/500\n",
            "40/40 [==============================] - 10s 259ms/step - loss: 0.0061 - accuracy: 0.9981 - val_loss: 0.0691 - val_accuracy: 0.9873\n",
            "Epoch 318/500\n",
            "40/40 [==============================] - 10s 254ms/step - loss: 0.0067 - accuracy: 0.9974 - val_loss: 0.0685 - val_accuracy: 0.9873\n",
            "Epoch 319/500\n",
            "40/40 [==============================] - 11s 267ms/step - loss: 0.0073 - accuracy: 0.9980 - val_loss: 0.0692 - val_accuracy: 0.9873\n",
            "Epoch 320/500\n",
            "40/40 [==============================] - 10s 253ms/step - loss: 0.0066 - accuracy: 0.9979 - val_loss: 0.0685 - val_accuracy: 0.9873\n",
            "Epoch 321/500\n",
            "40/40 [==============================] - 10s 254ms/step - loss: 0.0098 - accuracy: 0.9976 - val_loss: 0.0685 - val_accuracy: 0.9873\n",
            "Epoch 322/500\n",
            "40/40 [==============================] - 10s 254ms/step - loss: 0.0070 - accuracy: 0.9976 - val_loss: 0.0686 - val_accuracy: 0.9873\n",
            "Epoch 323/500\n",
            "40/40 [==============================] - 11s 265ms/step - loss: 0.0064 - accuracy: 0.9978 - val_loss: 0.0692 - val_accuracy: 0.9873\n",
            "Epoch 324/500\n",
            "40/40 [==============================] - 10s 254ms/step - loss: 0.0072 - accuracy: 0.9981 - val_loss: 0.0693 - val_accuracy: 0.9873\n",
            "Epoch 325/500\n",
            "40/40 [==============================] - 10s 254ms/step - loss: 0.0073 - accuracy: 0.9987 - val_loss: 0.0689 - val_accuracy: 0.9873\n",
            "Epoch 326/500\n",
            "40/40 [==============================] - 10s 260ms/step - loss: 0.0060 - accuracy: 0.9983 - val_loss: 0.0691 - val_accuracy: 0.9873\n",
            "Epoch 327/500\n",
            "40/40 [==============================] - 10s 257ms/step - loss: 0.0065 - accuracy: 0.9979 - val_loss: 0.0688 - val_accuracy: 0.9873\n",
            "Epoch 328/500\n",
            "40/40 [==============================] - 10s 254ms/step - loss: 0.0087 - accuracy: 0.9979 - val_loss: 0.0702 - val_accuracy: 0.9873\n",
            "Epoch 329/500\n",
            "40/40 [==============================] - 10s 259ms/step - loss: 0.0057 - accuracy: 0.9985 - val_loss: 0.0710 - val_accuracy: 0.9873\n",
            "Epoch 330/500\n",
            "40/40 [==============================] - 11s 269ms/step - loss: 0.0062 - accuracy: 0.9978 - val_loss: 0.0716 - val_accuracy: 0.9873\n",
            "Epoch 331/500\n",
            "40/40 [==============================] - 10s 255ms/step - loss: 0.0052 - accuracy: 0.9985 - val_loss: 0.0712 - val_accuracy: 0.9873\n",
            "Epoch 332/500\n",
            "40/40 [==============================] - 10s 257ms/step - loss: 0.0075 - accuracy: 0.9974 - val_loss: 0.0703 - val_accuracy: 0.9873\n",
            "Epoch 333/500\n",
            "40/40 [==============================] - 10s 257ms/step - loss: 0.0072 - accuracy: 0.9978 - val_loss: 0.0700 - val_accuracy: 0.9873\n",
            "Epoch 334/500\n",
            "40/40 [==============================] - 10s 252ms/step - loss: 0.0054 - accuracy: 0.9987 - val_loss: 0.0700 - val_accuracy: 0.9873\n",
            "Epoch 335/500\n",
            "40/40 [==============================] - 10s 261ms/step - loss: 0.0103 - accuracy: 0.9968 - val_loss: 0.0695 - val_accuracy: 0.9873\n",
            "Epoch 336/500\n",
            "40/40 [==============================] - 10s 255ms/step - loss: 0.0062 - accuracy: 0.9980 - val_loss: 0.0693 - val_accuracy: 0.9873\n",
            "Epoch 337/500\n",
            "40/40 [==============================] - 11s 269ms/step - loss: 0.0088 - accuracy: 0.9970 - val_loss: 0.0695 - val_accuracy: 0.9873\n",
            "Epoch 338/500\n",
            "40/40 [==============================] - 10s 260ms/step - loss: 0.0092 - accuracy: 0.9972 - val_loss: 0.0677 - val_accuracy: 0.9873\n",
            "Epoch 339/500\n",
            "40/40 [==============================] - 10s 261ms/step - loss: 0.0060 - accuracy: 0.9978 - val_loss: 0.0660 - val_accuracy: 0.9873\n",
            "Epoch 340/500\n",
            "40/40 [==============================] - 11s 264ms/step - loss: 0.0097 - accuracy: 0.9963 - val_loss: 0.0661 - val_accuracy: 0.9873\n",
            "Epoch 341/500\n",
            "40/40 [==============================] - 10s 255ms/step - loss: 0.0072 - accuracy: 0.9987 - val_loss: 0.0660 - val_accuracy: 0.9873\n",
            "Epoch 342/500\n",
            "40/40 [==============================] - 11s 264ms/step - loss: 0.0073 - accuracy: 0.9981 - val_loss: 0.0661 - val_accuracy: 0.9873\n",
            "Epoch 343/500\n",
            "40/40 [==============================] - 10s 256ms/step - loss: 0.0086 - accuracy: 0.9976 - val_loss: 0.0663 - val_accuracy: 0.9873\n",
            "Epoch 344/500\n",
            "40/40 [==============================] - 10s 259ms/step - loss: 0.0090 - accuracy: 0.9972 - val_loss: 0.0660 - val_accuracy: 0.9873\n",
            "Epoch 345/500\n",
            "40/40 [==============================] - 11s 263ms/step - loss: 0.0044 - accuracy: 0.9991 - val_loss: 0.0659 - val_accuracy: 0.9873\n",
            "Epoch 346/500\n",
            "40/40 [==============================] - 10s 254ms/step - loss: 0.0082 - accuracy: 0.9970 - val_loss: 0.0667 - val_accuracy: 0.9873\n",
            "Epoch 347/500\n",
            "40/40 [==============================] - 11s 268ms/step - loss: 0.0063 - accuracy: 0.9982 - val_loss: 0.0667 - val_accuracy: 0.9873\n",
            "Epoch 348/500\n",
            "40/40 [==============================] - 10s 258ms/step - loss: 0.0067 - accuracy: 0.9976 - val_loss: 0.0671 - val_accuracy: 0.9873\n",
            "Epoch 349/500\n",
            "40/40 [==============================] - 10s 253ms/step - loss: 0.0094 - accuracy: 0.9966 - val_loss: 0.0675 - val_accuracy: 0.9873\n",
            "Epoch 350/500\n",
            "40/40 [==============================] - 11s 269ms/step - loss: 0.0064 - accuracy: 0.9989 - val_loss: 0.0678 - val_accuracy: 0.9873\n",
            "Epoch 351/500\n",
            "40/40 [==============================] - 10s 257ms/step - loss: 0.0068 - accuracy: 0.9974 - val_loss: 0.0683 - val_accuracy: 0.9873\n",
            "Epoch 352/500\n",
            "40/40 [==============================] - 10s 259ms/step - loss: 0.0083 - accuracy: 0.9974 - val_loss: 0.0675 - val_accuracy: 0.9873\n",
            "Epoch 353/500\n",
            "40/40 [==============================] - 10s 254ms/step - loss: 0.0061 - accuracy: 0.9985 - val_loss: 0.0675 - val_accuracy: 0.9873\n",
            "Epoch 354/500\n",
            "40/40 [==============================] - 11s 264ms/step - loss: 0.0066 - accuracy: 0.9989 - val_loss: 0.0677 - val_accuracy: 0.9873\n",
            "Epoch 355/500\n",
            "40/40 [==============================] - 11s 266ms/step - loss: 0.0046 - accuracy: 0.9987 - val_loss: 0.0675 - val_accuracy: 0.9873\n",
            "Epoch 356/500\n",
            "40/40 [==============================] - 10s 257ms/step - loss: 0.0062 - accuracy: 0.9983 - val_loss: 0.0679 - val_accuracy: 0.9873\n",
            "Epoch 357/500\n",
            "40/40 [==============================] - 11s 269ms/step - loss: 0.0048 - accuracy: 0.9985 - val_loss: 0.0683 - val_accuracy: 0.9873\n",
            "Epoch 358/500\n",
            "40/40 [==============================] - 10s 261ms/step - loss: 0.0071 - accuracy: 0.9979 - val_loss: 0.0692 - val_accuracy: 0.9873\n",
            "Epoch 359/500\n",
            "40/40 [==============================] - 10s 260ms/step - loss: 0.0043 - accuracy: 0.9985 - val_loss: 0.0687 - val_accuracy: 0.9873\n",
            "Epoch 360/500\n",
            "40/40 [==============================] - 10s 257ms/step - loss: 0.0051 - accuracy: 0.9981 - val_loss: 0.0689 - val_accuracy: 0.9873\n",
            "Epoch 361/500\n",
            "40/40 [==============================] - 10s 262ms/step - loss: 0.0051 - accuracy: 0.9991 - val_loss: 0.0697 - val_accuracy: 0.9873\n",
            "Epoch 362/500\n",
            "40/40 [==============================] - 11s 264ms/step - loss: 0.0070 - accuracy: 0.9972 - val_loss: 0.0686 - val_accuracy: 0.9873\n",
            "Epoch 363/500\n",
            "40/40 [==============================] - 10s 252ms/step - loss: 0.0062 - accuracy: 0.9983 - val_loss: 0.0683 - val_accuracy: 0.9873\n",
            "Epoch 364/500\n",
            "40/40 [==============================] - 11s 264ms/step - loss: 0.0075 - accuracy: 0.9980 - val_loss: 0.0681 - val_accuracy: 0.9873\n",
            "Epoch 365/500\n",
            "40/40 [==============================] - 11s 263ms/step - loss: 0.0068 - accuracy: 0.9976 - val_loss: 0.0677 - val_accuracy: 0.9873\n",
            "Epoch 366/500\n",
            "40/40 [==============================] - 10s 257ms/step - loss: 0.0064 - accuracy: 0.9981 - val_loss: 0.0687 - val_accuracy: 0.9873\n",
            "Epoch 367/500\n",
            "40/40 [==============================] - 10s 260ms/step - loss: 0.0061 - accuracy: 0.9979 - val_loss: 0.0688 - val_accuracy: 0.9873\n",
            "Epoch 368/500\n",
            "40/40 [==============================] - 10s 255ms/step - loss: 0.0071 - accuracy: 0.9982 - val_loss: 0.0688 - val_accuracy: 0.9873\n",
            "Epoch 369/500\n",
            "40/40 [==============================] - 11s 263ms/step - loss: 0.0055 - accuracy: 0.9978 - val_loss: 0.0690 - val_accuracy: 0.9873\n",
            "Epoch 370/500\n",
            "40/40 [==============================] - 10s 255ms/step - loss: 0.0113 - accuracy: 0.9970 - val_loss: 0.0691 - val_accuracy: 0.9873\n",
            "Epoch 371/500\n",
            "40/40 [==============================] - 11s 270ms/step - loss: 0.0058 - accuracy: 0.9982 - val_loss: 0.0695 - val_accuracy: 0.9873\n",
            "Epoch 372/500\n",
            "40/40 [==============================] - 11s 265ms/step - loss: 0.0074 - accuracy: 0.9979 - val_loss: 0.0694 - val_accuracy: 0.9873\n",
            "Epoch 373/500\n",
            "40/40 [==============================] - 10s 254ms/step - loss: 0.0049 - accuracy: 0.9993 - val_loss: 0.0696 - val_accuracy: 0.9873\n",
            "Epoch 374/500\n",
            "40/40 [==============================] - 11s 263ms/step - loss: 0.0061 - accuracy: 0.9983 - val_loss: 0.0694 - val_accuracy: 0.9873\n",
            "Epoch 375/500\n",
            "40/40 [==============================] - ETA: 0s - loss: 0.0073 - accuracy: 0.9980Restoring model weights from the end of the best epoch.\n",
            "40/40 [==============================] - 10s 260ms/step - loss: 0.0073 - accuracy: 0.9980 - val_loss: 0.0692 - val_accuracy: 0.9873\n",
            "Epoch 00375: early stopping\n"
          ],
          "name": "stdout"
        }
      ]
    },
    {
      "cell_type": "code",
      "metadata": {
        "id": "GhCone2ffGPn",
        "colab_type": "code",
        "outputId": "55d91e11-bb61-4301-f46e-16c87f27107e",
        "colab": {
          "base_uri": "https://localhost:8080/",
          "height": 281
        }
      },
      "source": [
        "plot_training_history(history)"
      ],
      "execution_count": 28,
      "outputs": [
        {
          "output_type": "display_data",
          "data": {
            "image/png": "[encoded data removed]",
            "text/plain": [
              "<Figure size 432x288 with 1 Axes>"
            ]
          },
          "metadata": {
            "tags": [],
            "needs_background": "light"
          }
        }
      ]
    },
    {
      "cell_type": "code",
      "metadata": {
        "id": "tL5n0IFJCYRL",
        "colab_type": "code",
        "outputId": "5964d22d-ff70-4bbb-9adc-6508dfcf9792",
        "colab": {
          "base_uri": "https://localhost:8080/",
          "height": 84
        }
      },
      "source": [
        "y_pred = model.predict(X_train)\n",
        "y_pred = np.argmax(y_pred,axis=1)\n",
        "\n",
        "y_true = np.argmax(y_train,axis=1)\n",
        "\n",
        "cm = confusion_matrix(y_true, y_pred)\n",
        "cm"
      ],
      "execution_count": 29,
      "outputs": [
        {
          "output_type": "execute_result",
          "data": {
            "text/plain": [
              "array([[237,   0,   0,   0],\n",
              "       [  0, 243,   0,   0],\n",
              "       [  0,   0, 229,   0],\n",
              "       [  0,   0,   0, 231]])"
            ]
          },
          "metadata": {
            "tags": []
          },
          "execution_count": 29
        }
      ]
    },
    {
      "cell_type": "code",
      "metadata": {
        "id": "ethZB7hKC2ri",
        "colab_type": "code",
        "outputId": "892d4f73-0efa-43f4-e15f-bf0379233ff1",
        "colab": {
          "base_uri": "https://localhost:8080/",
          "height": 218
        }
      },
      "source": [
        "score = accuracy_score(y_true, y_pred)\n",
        "print('Training Accuracy:', score)\n",
        "print(classification_report(y_true, y_pred, target_names=target_names))"
      ],
      "execution_count": 30,
      "outputs": [
        {
          "output_type": "stream",
          "text": [
            "Training Accuracy: 1.0\n",
            "              precision    recall  f1-score   support\n",
            "\n",
            "           a       1.00      1.00      1.00       237\n",
            "           b       1.00      1.00      1.00       243\n",
            "           c       1.00      1.00      1.00       229\n",
            "           d       1.00      1.00      1.00       231\n",
            "\n",
            "    accuracy                           1.00       940\n",
            "   macro avg       1.00      1.00      1.00       940\n",
            "weighted avg       1.00      1.00      1.00       940\n",
            "\n"
          ],
          "name": "stdout"
        }
      ]
    },
    {
      "cell_type": "code",
      "metadata": {
        "id": "T_Qvc7Uz1uZ4",
        "colab_type": "code",
        "outputId": "827cf182-61d3-4188-f30a-b9aa49f8d451",
        "colab": {
          "base_uri": "https://localhost:8080/",
          "height": 84
        }
      },
      "source": [
        "y_pred = model.predict(X_val)\n",
        "y_pred = np.argmax(y_pred,axis=1)\n",
        "\n",
        "y_true = np.argmax(y_val,axis=1)\n",
        "\n",
        "cm = confusion_matrix(y_true, y_pred)\n",
        "cm"
      ],
      "execution_count": 31,
      "outputs": [
        {
          "output_type": "execute_result",
          "data": {
            "text/plain": [
              "array([[65,  0,  0,  0],\n",
              "       [ 0, 58,  0,  0],\n",
              "       [ 0,  0, 61,  1],\n",
              "       [ 0,  0,  2, 49]])"
            ]
          },
          "metadata": {
            "tags": []
          },
          "execution_count": 31
        }
      ]
    },
    {
      "cell_type": "code",
      "metadata": {
        "id": "4w5-mzYGcbqZ",
        "colab_type": "code",
        "outputId": "3de12dd6-d6c6-4bc4-d0e2-086e9e9e83ee",
        "colab": {
          "base_uri": "https://localhost:8080/",
          "height": 218
        }
      },
      "source": [
        "score = accuracy_score(y_true, y_pred)\n",
        "print('Validation Accuracy:', score)\n",
        "print(classification_report(y_true, y_pred, target_names=target_names))"
      ],
      "execution_count": 32,
      "outputs": [
        {
          "output_type": "stream",
          "text": [
            "Validation Accuracy: 0.9872881355932204\n",
            "              precision    recall  f1-score   support\n",
            "\n",
            "           a       1.00      1.00      1.00        65\n",
            "           b       1.00      1.00      1.00        58\n",
            "           c       0.97      0.98      0.98        62\n",
            "           d       0.98      0.96      0.97        51\n",
            "\n",
            "    accuracy                           0.99       236\n",
            "   macro avg       0.99      0.99      0.99       236\n",
            "weighted avg       0.99      0.99      0.99       236\n",
            "\n"
          ],
          "name": "stdout"
        }
      ]
    },
    {
      "cell_type": "code",
      "metadata": {
        "id": "hUIUiIQPLGWA",
        "colab_type": "code",
        "colab": {
          "base_uri": "https://localhost:8080/",
          "height": 34
        },
        "outputId": "a0e4093a-48ee-4b83-db62-d22a2540d220"
      },
      "source": [
        "# Load the Drive helper and mount\n",
        "from google.colab import drive\n",
        "drive.mount('/content/drive')"
      ],
      "execution_count": 33,
      "outputs": [
        {
          "output_type": "stream",
          "text": [
            "Drive already mounted at /content/drive; to attempt to forcibly remount, call drive.mount(\"/content/drive\", force_remount=True).\n"
          ],
          "name": "stdout"
        }
      ]
    },
    {
      "cell_type": "code",
      "metadata": {
        "id": "t3LCgQO1Ig_n",
        "colab_type": "code",
        "colab": {}
      },
      "source": [
        "model.save('/content/drive/My Drive/model1.h5') "
      ],
      "execution_count": 0,
      "outputs": []
    }
  ]
}