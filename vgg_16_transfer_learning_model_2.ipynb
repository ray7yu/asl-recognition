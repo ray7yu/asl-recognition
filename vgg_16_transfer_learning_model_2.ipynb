{
  "nbformat": 4,
  "nbformat_minor": 0,
  "metadata": {
    "colab": {
      "name": "vgg-16 transfer learning model #2",
      "provenance": [],
      "collapsed_sections": [],
      "machine_shape": "hm"
    },
    "kernelspec": {
      "name": "python3",
      "display_name": "Python 3"
    },
    "accelerator": "GPU"
  },
  "cells": [
    {
      "cell_type": "code",
      "metadata": {
        "id": "Tpydo55PgTBS",
        "colab_type": "code",
        "colab": {}
      },
      "source": [
        "from tensorflow.keras.models import Sequential\n",
        "from tensorflow.keras.layers import Dense, Flatten, Dropout\n",
        "from tensorflow.keras.applications import vgg16\n",
        "from tensorflow.keras.applications.vgg16 import preprocess_input\n",
        "from tensorflow.keras.preprocessing.image import ImageDataGenerator\n",
        "from tensorflow.keras.optimizers import Adam\n",
        "from tensorflow.keras.callbacks import EarlyStopping\n",
        "\n",
        "from sklearn.preprocessing import OneHotEncoder\n",
        "from sklearn.model_selection import train_test_split\n",
        "from skimage.transform import resize\n",
        "from sklearn.metrics import accuracy_score, confusion_matrix, classification_report\n",
        "\n",
        "import numpy as np\n",
        "from numpy import expand_dims\n",
        "import matplotlib.pyplot as plt"
      ],
      "execution_count": 0,
      "outputs": []
    },
    {
      "cell_type": "code",
      "metadata": {
        "id": "lH1itPSqKJh6",
        "colab_type": "code",
        "colab": {}
      },
      "source": [
        "letters = ['a', 'b', 'c', 'd', 'e', 'f', 'g', 'h', 'i']\n",
        "\n",
        "def removeData(images, labels):\n",
        "  '''Remove images and labels that are unknown'''\n",
        "  arr_img = []\n",
        "  arr_label = []\n",
        "  for i in range(images.shape[0]):\n",
        "    if labels[i][0].lower() in letters:\n",
        "      arr_img.append(images[i])\n",
        "      arr_label.append(labels[i][0].lower())\n",
        "  return np.array(arr_img), np.array(arr_label)"
      ],
      "execution_count": 0,
      "outputs": []
    },
    {
      "cell_type": "code",
      "metadata": {
        "id": "Ll6HEzSldnSO",
        "colab_type": "code",
        "colab": {}
      },
      "source": [
        "# Load original data\n",
        "X1 = np.load('train_data.npy')\n",
        "y1 = np.load('train_labels.npy')\n",
        "\n",
        "# Load data we collected for lab 1\n",
        "X2 = np.load('data.npy')\n",
        "y2 = np.load('labels.npy')\n",
        "\n",
        "# Load data Raymond and Yadi collected\n",
        "X3 = np.load('new_data.npy')\n",
        "y3 = np.load('new_labels.npy')\n",
        "\n",
        "# Load data Suman collected\n",
        "X4 = np.load('Suman_data.npy')\n",
        "y4 = np.load('Suman_labels.npy')\n",
        "\n",
        "# Load data Natalia collected\n",
        "X5 = np.load('nat_data.npy')\n",
        "y5 = np.load('nat_labels.npy')\n",
        "\n",
        "# Load noisy data Raymond collected\n",
        "X6 = np.load('noisy_data.npy')\n",
        "y6 = np.load('noisy_labels.npy')"
      ],
      "execution_count": 0,
      "outputs": []
    },
    {
      "cell_type": "code",
      "metadata": {
        "id": "Ky5RNBovPdRN",
        "colab_type": "code",
        "outputId": "2acb7cdd-7349-45c5-9274-2ca5b3256b79",
        "colab": {
          "base_uri": "https://localhost:8080/",
          "height": 50
        }
      },
      "source": [
        "X_og = np.concatenate((X1, X2, X3, X4, X5, X6), axis=0)\n",
        "y_og = np.concatenate((y1.reshape(-1, 1), y2.reshape(-1, 1), y3.reshape(-1, 1), \n",
        "                    y4.reshape(-1, 1), y5.reshape(-1, 1), y6.reshape(-1, 1)), \n",
        "                    axis=0)\n",
        "X, y = removeData(X_og, y_og)\n",
        "print(X.shape, y.shape)\n",
        "\n",
        "# Pre-process and resize images\n",
        "X = preprocess_input(X)\n",
        "X_resized = np.array([resize(image, (96, 96)) for image in X])\n",
        "print(X_resized.shape)\n",
        "\n",
        "# Use one-hot encoding for labels\n",
        "onehot_encoder = OneHotEncoder(sparse=False)\n",
        "one_hot_y = onehot_encoder.fit_transform(y.reshape(-1, 1))\n",
        "\n",
        "# Train validation split\n",
        "X_train, X_val, y_train, y_val = train_test_split(X_resized, one_hot_y, test_size=0.2)"
      ],
      "execution_count": 4,
      "outputs": [
        {
          "output_type": "stream",
          "text": [
            "(2637, 100, 100, 3) (2637,)\n",
            "(2637, 96, 96, 3)\n"
          ],
          "name": "stdout"
        }
      ]
    },
    {
      "cell_type": "code",
      "metadata": {
        "id": "RuvHYmzhSIy-",
        "colab_type": "code",
        "outputId": "706711a6-cbce-44e8-d5a3-9ef1e1fda7b6",
        "colab": {
          "base_uri": "https://localhost:8080/",
          "height": 168
        }
      },
      "source": [
        "unique, counts = np.unique(y, return_counts=True)\n",
        "dict(zip(unique, counts))"
      ],
      "execution_count": 5,
      "outputs": [
        {
          "output_type": "execute_result",
          "data": {
            "text/plain": [
              "{'a': 305,\n",
              " 'b': 306,\n",
              " 'c': 296,\n",
              " 'd': 287,\n",
              " 'e': 284,\n",
              " 'f': 288,\n",
              " 'g': 290,\n",
              " 'h': 289,\n",
              " 'i': 292}"
            ]
          },
          "metadata": {
            "tags": []
          },
          "execution_count": 5
        }
      ]
    },
    {
      "cell_type": "code",
      "metadata": {
        "id": "6JOjNWsKoje5",
        "colab_type": "code",
        "colab": {}
      },
      "source": [
        "# Training data generator\n",
        "datagen_train = ImageDataGenerator(\n",
        "      zoom_range=[0.8,1.0], \n",
        "      horizontal_flip=True, \n",
        "      vertical_flip=True, \n",
        "      rotation_range=90\n",
        "      )"
      ],
      "execution_count": 0,
      "outputs": []
    },
    {
      "cell_type": "code",
      "metadata": {
        "id": "EN13tAvDolIe",
        "colab_type": "code",
        "colab": {}
      },
      "source": [
        "# Validation data generator\n",
        "datagen_val = ImageDataGenerator()"
      ],
      "execution_count": 0,
      "outputs": []
    },
    {
      "cell_type": "code",
      "metadata": {
        "id": "gkMwE4HE4wwD",
        "colab_type": "code",
        "outputId": "28f9184e-bf17-47e7-baaa-550bfc027396",
        "colab": {
          "base_uri": "https://localhost:8080/",
          "height": 269
        }
      },
      "source": [
        "# Visualize augmented images\n",
        "\n",
        "data = X_train[0]\n",
        "# expand dimension to one sample\n",
        "sample = expand_dims(data, 0)\n",
        "# prepare iterator of image data augmentation generator\n",
        "it = datagen_train.flow(sample)\n",
        "# generate samples and plot\n",
        "for i in range(9):\n",
        "\t# define subplot\n",
        "\tplt.subplot(330 + 1 + i)\n",
        "\t# generate batch of images\n",
        "\tbatch = it.next()\n",
        "\t# convert to unsigned integers for viewing\n",
        "\timage = batch[0].astype('uint8')\n",
        "\t# plot raw pixel data\n",
        "\tplt.imshow(image)\n",
        "# show the figure\n",
        "plt.show()"
      ],
      "execution_count": 8,
      "outputs": [
        {
          "output_type": "display_data",
          "data": {
            "image/png": "[encoded data removed]",
            "text/plain": [
              "<Figure size 432x288 with 9 Axes>"
            ]
          },
          "metadata": {
            "tags": [],
            "needs_background": "light"
          }
        }
      ]
    },
    {
      "cell_type": "code",
      "metadata": {
        "id": "zNG2Bo5UqklZ",
        "colab_type": "code",
        "colab": {}
      },
      "source": [
        "batch_size = 150\n",
        "\n",
        "generator_train = datagen_train.flow(x=X_train, y=y_train,\n",
        "                                    batch_size=batch_size,\n",
        "                                    shuffle=True)"
      ],
      "execution_count": 0,
      "outputs": []
    },
    {
      "cell_type": "code",
      "metadata": {
        "id": "bUtXM6NXrweE",
        "colab_type": "code",
        "colab": {}
      },
      "source": [
        "generator_val = datagen_val.flow(x=X_val, y=y_val,\n",
        "                                  batch_size=batch_size,\n",
        "                                  shuffle=False)"
      ],
      "execution_count": 0,
      "outputs": []
    },
    {
      "cell_type": "code",
      "metadata": {
        "id": "Z4kCQ6QxsGUc",
        "colab_type": "code",
        "outputId": "4ce39876-2ee0-4f33-b5e8-253bed3cfe0d",
        "colab": {
          "base_uri": "https://localhost:8080/",
          "height": 34
        }
      },
      "source": [
        "steps_val = generator_val.n / batch_size\n",
        "steps_val"
      ],
      "execution_count": 11,
      "outputs": [
        {
          "output_type": "execute_result",
          "data": {
            "text/plain": [
              "3.52"
            ]
          },
          "metadata": {
            "tags": []
          },
          "execution_count": 11
        }
      ]
    },
    {
      "cell_type": "code",
      "metadata": {
        "id": "2KMWDuxVdUM5",
        "colab_type": "code",
        "colab": {
          "base_uri": "https://localhost:8080/",
          "height": 50
        },
        "outputId": "86eef7df-00a1-4383-8d3f-5dccf3712f0d"
      },
      "source": [
        "IMG_SIZE = 96\n",
        "IMG_SHAPE = (IMG_SIZE, IMG_SIZE, 3)\n",
        "\n",
        "# Load VGG-16 model\n",
        "base_model = vgg16.VGG16(weights='imagenet', include_top=False, input_shape=IMG_SHAPE)\n",
        "base_model.trainable = False"
      ],
      "execution_count": 12,
      "outputs": [
        {
          "output_type": "stream",
          "text": [
            "Downloading data from https://storage.googleapis.com/tensorflow/keras-applications/vgg16/vgg16_weights_tf_dim_ordering_tf_kernels_notop.h5\n",
            "58892288/58889256 [==============================] - 0s 0us/step\n"
          ],
          "name": "stdout"
        }
      ]
    },
    {
      "cell_type": "code",
      "metadata": {
        "id": "0buaJY2fmO-1",
        "colab_type": "code",
        "outputId": "9dc05027-99c5-489f-dadb-d4fe08f3b80c",
        "colab": {
          "base_uri": "https://localhost:8080/",
          "height": 34
        }
      },
      "source": [
        "num_classes = one_hot_y.shape[1]\n",
        "num_classes"
      ],
      "execution_count": 13,
      "outputs": [
        {
          "output_type": "execute_result",
          "data": {
            "text/plain": [
              "9"
            ]
          },
          "metadata": {
            "tags": []
          },
          "execution_count": 13
        }
      ]
    },
    {
      "cell_type": "code",
      "metadata": {
        "id": "CAVYd09Qk_Bj",
        "colab_type": "code",
        "colab": {}
      },
      "source": [
        "model = Sequential ([\n",
        "    base_model,\n",
        "    # Flatten the output of the VGG16 model because it is from a\n",
        "    # convolutional layer.\n",
        "    Flatten(),\n",
        "    # Add 2 fully-connected layers.\n",
        "    # This is for combining features that the VGG16 model has\n",
        "    Dense(4608, activation='relu'),\n",
        "    Dense(1024, activation='relu'),   \n",
        "    # Add a dropout-layer which may prevent overfitting and\n",
        "    # improve generalization ability to unseen data\n",
        "    Dropout(0.5),\n",
        "    # Add the final layer for the actual classification.\n",
        "    Dense(num_classes, activation='softmax')                          \n",
        "])"
      ],
      "execution_count": 0,
      "outputs": []
    },
    {
      "cell_type": "code",
      "metadata": {
        "id": "kHELPZSOm74a",
        "colab_type": "code",
        "colab": {}
      },
      "source": [
        "model.compile(optimizer=Adam(), loss='categorical_crossentropy', metrics=['accuracy'])"
      ],
      "execution_count": 0,
      "outputs": []
    },
    {
      "cell_type": "code",
      "metadata": {
        "id": "yC4iPHzojtZA",
        "colab_type": "code",
        "colab": {}
      },
      "source": [
        "early_stopping = EarlyStopping(monitor='val_loss', mode='min', \n",
        "                               patience=30, restore_best_weights=True, \n",
        "                               verbose=1)"
      ],
      "execution_count": 0,
      "outputs": []
    },
    {
      "cell_type": "code",
      "metadata": {
        "id": "5BY_SjbfsuUW",
        "colab_type": "code",
        "outputId": "7e1153fb-c99b-4d19-e190-c7265cba2ab5",
        "colab": {
          "base_uri": "https://localhost:8080/",
          "height": 1000
        }
      },
      "source": [
        "epochs = 300\n",
        "steps_per_epoch = 40\n",
        "\n",
        "history = model.fit(x=generator_train, epochs=epochs,\n",
        "                    steps_per_epoch=steps_per_epoch,\n",
        "                    validation_data=generator_val,\n",
        "                    validation_steps=steps_val,\n",
        "                    callbacks=[early_stopping])"
      ],
      "execution_count": 17,
      "outputs": [
        {
          "output_type": "stream",
          "text": [
            "Epoch 1/300\n",
            "40/40 [==============================] - 14s 343ms/step - loss: 10.0259 - accuracy: 0.2195 - val_loss: 1.7796 - val_accuracy: 0.3466\n",
            "Epoch 2/300\n",
            "40/40 [==============================] - 13s 322ms/step - loss: 1.6802 - accuracy: 0.3893 - val_loss: 1.3358 - val_accuracy: 0.5455\n",
            "Epoch 3/300\n",
            "40/40 [==============================] - 13s 322ms/step - loss: 1.3170 - accuracy: 0.5177 - val_loss: 1.0534 - val_accuracy: 0.6420\n",
            "Epoch 4/300\n",
            "40/40 [==============================] - 13s 328ms/step - loss: 1.1202 - accuracy: 0.6053 - val_loss: 0.9524 - val_accuracy: 0.6932\n",
            "Epoch 5/300\n",
            "40/40 [==============================] - 13s 324ms/step - loss: 0.9686 - accuracy: 0.6579 - val_loss: 0.7922 - val_accuracy: 0.7045\n",
            "Epoch 6/300\n",
            "40/40 [==============================] - 13s 320ms/step - loss: 0.8127 - accuracy: 0.7041 - val_loss: 0.7473 - val_accuracy: 0.7311\n",
            "Epoch 7/300\n",
            "40/40 [==============================] - 13s 326ms/step - loss: 0.6720 - accuracy: 0.7623 - val_loss: 0.6875 - val_accuracy: 0.7633\n",
            "Epoch 8/300\n",
            "40/40 [==============================] - 13s 316ms/step - loss: 0.6641 - accuracy: 0.7739 - val_loss: 0.6879 - val_accuracy: 0.7860\n",
            "Epoch 9/300\n",
            "40/40 [==============================] - 13s 321ms/step - loss: 0.6271 - accuracy: 0.7893 - val_loss: 0.6218 - val_accuracy: 0.7955\n",
            "Epoch 10/300\n",
            "40/40 [==============================] - 13s 329ms/step - loss: 0.5435 - accuracy: 0.8071 - val_loss: 0.6017 - val_accuracy: 0.8163\n",
            "Epoch 11/300\n",
            "40/40 [==============================] - 13s 316ms/step - loss: 0.4942 - accuracy: 0.8315 - val_loss: 0.6798 - val_accuracy: 0.7860\n",
            "Epoch 12/300\n",
            "40/40 [==============================] - 13s 319ms/step - loss: 0.4628 - accuracy: 0.8494 - val_loss: 0.5964 - val_accuracy: 0.8106\n",
            "Epoch 13/300\n",
            "40/40 [==============================] - 13s 328ms/step - loss: 0.4177 - accuracy: 0.8599 - val_loss: 0.5240 - val_accuracy: 0.8030\n",
            "Epoch 14/300\n",
            "40/40 [==============================] - 13s 316ms/step - loss: 0.4410 - accuracy: 0.8621 - val_loss: 0.6141 - val_accuracy: 0.8277\n",
            "Epoch 15/300\n",
            "40/40 [==============================] - 13s 318ms/step - loss: 0.4215 - accuracy: 0.8585 - val_loss: 0.5467 - val_accuracy: 0.8163\n",
            "Epoch 16/300\n",
            "40/40 [==============================] - 13s 327ms/step - loss: 0.3590 - accuracy: 0.8744 - val_loss: 0.5145 - val_accuracy: 0.8485\n",
            "Epoch 17/300\n",
            "40/40 [==============================] - 13s 322ms/step - loss: 0.2886 - accuracy: 0.8949 - val_loss: 0.5106 - val_accuracy: 0.8636\n",
            "Epoch 18/300\n",
            "40/40 [==============================] - 13s 314ms/step - loss: 0.2954 - accuracy: 0.8982 - val_loss: 0.5498 - val_accuracy: 0.8636\n",
            "Epoch 19/300\n",
            "40/40 [==============================] - 13s 324ms/step - loss: 0.3157 - accuracy: 0.8947 - val_loss: 0.6080 - val_accuracy: 0.8485\n",
            "Epoch 20/300\n",
            "40/40 [==============================] - 13s 315ms/step - loss: 0.2675 - accuracy: 0.9139 - val_loss: 0.6236 - val_accuracy: 0.8447\n",
            "Epoch 21/300\n",
            "40/40 [==============================] - 13s 317ms/step - loss: 0.3046 - accuracy: 0.9035 - val_loss: 0.5577 - val_accuracy: 0.8504\n",
            "Epoch 22/300\n",
            "40/40 [==============================] - 13s 322ms/step - loss: 0.3064 - accuracy: 0.9045 - val_loss: 0.6356 - val_accuracy: 0.8277\n",
            "Epoch 23/300\n",
            "40/40 [==============================] - 13s 314ms/step - loss: 0.3224 - accuracy: 0.9068 - val_loss: 0.6729 - val_accuracy: 0.8258\n",
            "Epoch 24/300\n",
            "40/40 [==============================] - 13s 313ms/step - loss: 0.3259 - accuracy: 0.8973 - val_loss: 0.6303 - val_accuracy: 0.8258\n",
            "Epoch 25/300\n",
            "40/40 [==============================] - 13s 324ms/step - loss: 0.2521 - accuracy: 0.9145 - val_loss: 0.4962 - val_accuracy: 0.8617\n",
            "Epoch 26/300\n",
            "40/40 [==============================] - 13s 319ms/step - loss: 0.2128 - accuracy: 0.9243 - val_loss: 0.6345 - val_accuracy: 0.8466\n",
            "Epoch 27/300\n",
            "40/40 [==============================] - 13s 317ms/step - loss: 0.2389 - accuracy: 0.9243 - val_loss: 0.6010 - val_accuracy: 0.8447\n",
            "Epoch 28/300\n",
            "40/40 [==============================] - 13s 321ms/step - loss: 0.2413 - accuracy: 0.9239 - val_loss: 0.5429 - val_accuracy: 0.8617\n",
            "Epoch 29/300\n",
            "40/40 [==============================] - 13s 313ms/step - loss: 0.2783 - accuracy: 0.9150 - val_loss: 0.5718 - val_accuracy: 0.8580\n",
            "Epoch 30/300\n",
            "40/40 [==============================] - 13s 315ms/step - loss: 0.3254 - accuracy: 0.9129 - val_loss: 0.5410 - val_accuracy: 0.8655\n",
            "Epoch 31/300\n",
            "40/40 [==============================] - 13s 323ms/step - loss: 0.2974 - accuracy: 0.9112 - val_loss: 0.9756 - val_accuracy: 0.8371\n",
            "Epoch 32/300\n",
            "40/40 [==============================] - 12s 310ms/step - loss: 0.2347 - accuracy: 0.9259 - val_loss: 0.6430 - val_accuracy: 0.8523\n",
            "Epoch 33/300\n",
            "40/40 [==============================] - 13s 314ms/step - loss: 0.2038 - accuracy: 0.9362 - val_loss: 0.5862 - val_accuracy: 0.8598\n",
            "Epoch 34/300\n",
            "40/40 [==============================] - 13s 321ms/step - loss: 0.1734 - accuracy: 0.9454 - val_loss: 0.6406 - val_accuracy: 0.8447\n",
            "Epoch 35/300\n",
            "40/40 [==============================] - 13s 313ms/step - loss: 0.2488 - accuracy: 0.9202 - val_loss: 0.6748 - val_accuracy: 0.8523\n",
            "Epoch 36/300\n",
            "40/40 [==============================] - 12s 311ms/step - loss: 0.1957 - accuracy: 0.9430 - val_loss: 0.5954 - val_accuracy: 0.8693\n",
            "Epoch 37/300\n",
            "40/40 [==============================] - 13s 323ms/step - loss: 0.2458 - accuracy: 0.9327 - val_loss: 0.6473 - val_accuracy: 0.8409\n",
            "Epoch 38/300\n",
            "40/40 [==============================] - 13s 314ms/step - loss: 0.2225 - accuracy: 0.9301 - val_loss: 0.6070 - val_accuracy: 0.8466\n",
            "Epoch 39/300\n",
            "40/40 [==============================] - 12s 312ms/step - loss: 0.1915 - accuracy: 0.9421 - val_loss: 0.5386 - val_accuracy: 0.8580\n",
            "Epoch 40/300\n",
            "40/40 [==============================] - 13s 319ms/step - loss: 0.1880 - accuracy: 0.9467 - val_loss: 0.4985 - val_accuracy: 0.8826\n",
            "Epoch 41/300\n",
            "40/40 [==============================] - 13s 316ms/step - loss: 0.1680 - accuracy: 0.9507 - val_loss: 0.7077 - val_accuracy: 0.8674\n",
            "Epoch 42/300\n",
            "40/40 [==============================] - 12s 312ms/step - loss: 0.2293 - accuracy: 0.9374 - val_loss: 0.6077 - val_accuracy: 0.8580\n",
            "Epoch 43/300\n",
            "40/40 [==============================] - 13s 316ms/step - loss: 0.2312 - accuracy: 0.9342 - val_loss: 0.6538 - val_accuracy: 0.8655\n",
            "Epoch 44/300\n",
            "40/40 [==============================] - 12s 309ms/step - loss: 0.2591 - accuracy: 0.9319 - val_loss: 0.6220 - val_accuracy: 0.8617\n",
            "Epoch 45/300\n",
            "40/40 [==============================] - 12s 309ms/step - loss: 0.1858 - accuracy: 0.9441 - val_loss: 0.5826 - val_accuracy: 0.8636\n",
            "Epoch 46/300\n",
            "40/40 [==============================] - 13s 319ms/step - loss: 0.1717 - accuracy: 0.9495 - val_loss: 0.6552 - val_accuracy: 0.8807\n",
            "Epoch 47/300\n",
            "40/40 [==============================] - 12s 312ms/step - loss: 0.1738 - accuracy: 0.9480 - val_loss: 0.7047 - val_accuracy: 0.8598\n",
            "Epoch 48/300\n",
            "40/40 [==============================] - 12s 310ms/step - loss: 0.2187 - accuracy: 0.9378 - val_loss: 1.8639 - val_accuracy: 0.8144\n",
            "Epoch 49/300\n",
            "40/40 [==============================] - 13s 318ms/step - loss: 0.1845 - accuracy: 0.9463 - val_loss: 0.9929 - val_accuracy: 0.8674\n",
            "Epoch 50/300\n",
            "40/40 [==============================] - 12s 310ms/step - loss: 0.1915 - accuracy: 0.9509 - val_loss: 0.6213 - val_accuracy: 0.8826\n",
            "Epoch 51/300\n",
            "40/40 [==============================] - 12s 309ms/step - loss: 0.1164 - accuracy: 0.9620 - val_loss: 0.6588 - val_accuracy: 0.8636\n",
            "Epoch 52/300\n",
            "40/40 [==============================] - 13s 316ms/step - loss: 0.1248 - accuracy: 0.9614 - val_loss: 0.7057 - val_accuracy: 0.8750\n",
            "Epoch 53/300\n",
            "40/40 [==============================] - 13s 315ms/step - loss: 0.1362 - accuracy: 0.9600 - val_loss: 0.4749 - val_accuracy: 0.8958\n",
            "Epoch 54/300\n",
            "40/40 [==============================] - 12s 312ms/step - loss: 0.1257 - accuracy: 0.9614 - val_loss: 0.8145 - val_accuracy: 0.8617\n",
            "Epoch 55/300\n",
            "40/40 [==============================] - 13s 319ms/step - loss: 0.1295 - accuracy: 0.9622 - val_loss: 1.1194 - val_accuracy: 0.8542\n",
            "Epoch 56/300\n",
            "40/40 [==============================] - 12s 309ms/step - loss: 0.1504 - accuracy: 0.9568 - val_loss: 0.7638 - val_accuracy: 0.8731\n",
            "Epoch 57/300\n",
            "40/40 [==============================] - 12s 310ms/step - loss: 0.1691 - accuracy: 0.9589 - val_loss: 0.7255 - val_accuracy: 0.8693\n",
            "Epoch 58/300\n",
            "40/40 [==============================] - 13s 315ms/step - loss: 0.1735 - accuracy: 0.9509 - val_loss: 0.7300 - val_accuracy: 0.8693\n",
            "Epoch 59/300\n",
            "40/40 [==============================] - 12s 312ms/step - loss: 0.1248 - accuracy: 0.9609 - val_loss: 0.7023 - val_accuracy: 0.8883\n",
            "Epoch 60/300\n",
            "40/40 [==============================] - 12s 306ms/step - loss: 0.1572 - accuracy: 0.9575 - val_loss: 0.6450 - val_accuracy: 0.8769\n",
            "Epoch 61/300\n",
            "40/40 [==============================] - 13s 320ms/step - loss: 0.1589 - accuracy: 0.9554 - val_loss: 0.6583 - val_accuracy: 0.8655\n",
            "Epoch 62/300\n",
            "40/40 [==============================] - 12s 312ms/step - loss: 0.0963 - accuracy: 0.9704 - val_loss: 0.6172 - val_accuracy: 0.8920\n",
            "Epoch 63/300\n",
            "40/40 [==============================] - 12s 306ms/step - loss: 0.1037 - accuracy: 0.9690 - val_loss: 0.5815 - val_accuracy: 0.8826\n",
            "Epoch 64/300\n",
            "40/40 [==============================] - 13s 315ms/step - loss: 0.1393 - accuracy: 0.9647 - val_loss: 0.5078 - val_accuracy: 0.9091\n",
            "Epoch 65/300\n",
            "40/40 [==============================] - 12s 309ms/step - loss: 0.1811 - accuracy: 0.9550 - val_loss: 0.9422 - val_accuracy: 0.8693\n",
            "Epoch 66/300\n",
            "40/40 [==============================] - 13s 313ms/step - loss: 0.1723 - accuracy: 0.9552 - val_loss: 0.7911 - val_accuracy: 0.8788\n",
            "Epoch 67/300\n",
            "40/40 [==============================] - 13s 317ms/step - loss: 0.1774 - accuracy: 0.9559 - val_loss: 0.8468 - val_accuracy: 0.8598\n",
            "Epoch 68/300\n",
            "40/40 [==============================] - 12s 310ms/step - loss: 0.1296 - accuracy: 0.9641 - val_loss: 0.6672 - val_accuracy: 0.8769\n",
            "Epoch 69/300\n",
            "40/40 [==============================] - 12s 312ms/step - loss: 0.1113 - accuracy: 0.9675 - val_loss: 0.6796 - val_accuracy: 0.8939\n",
            "Epoch 70/300\n",
            "40/40 [==============================] - 13s 316ms/step - loss: 0.1173 - accuracy: 0.9659 - val_loss: 0.7387 - val_accuracy: 0.8807\n",
            "Epoch 71/300\n",
            "40/40 [==============================] - 12s 311ms/step - loss: 0.0890 - accuracy: 0.9731 - val_loss: 0.7124 - val_accuracy: 0.8580\n",
            "Epoch 72/300\n",
            "40/40 [==============================] - 12s 306ms/step - loss: 0.1192 - accuracy: 0.9679 - val_loss: 0.6598 - val_accuracy: 0.8826\n",
            "Epoch 73/300\n",
            "40/40 [==============================] - 13s 315ms/step - loss: 0.1640 - accuracy: 0.9538 - val_loss: 0.6794 - val_accuracy: 0.8712\n",
            "Epoch 74/300\n",
            "40/40 [==============================] - 12s 309ms/step - loss: 0.1337 - accuracy: 0.9634 - val_loss: 0.6931 - val_accuracy: 0.8977\n",
            "Epoch 75/300\n",
            "40/40 [==============================] - 12s 309ms/step - loss: 0.1764 - accuracy: 0.9566 - val_loss: 0.7227 - val_accuracy: 0.8920\n",
            "Epoch 76/300\n",
            "40/40 [==============================] - 13s 319ms/step - loss: 0.1307 - accuracy: 0.9661 - val_loss: 0.6613 - val_accuracy: 0.8977\n",
            "Epoch 77/300\n",
            "40/40 [==============================] - 12s 309ms/step - loss: 0.1064 - accuracy: 0.9733 - val_loss: 0.6855 - val_accuracy: 0.9091\n",
            "Epoch 78/300\n",
            "40/40 [==============================] - 12s 308ms/step - loss: 0.0990 - accuracy: 0.9727 - val_loss: 0.5611 - val_accuracy: 0.9034\n",
            "Epoch 79/300\n",
            "40/40 [==============================] - 13s 317ms/step - loss: 0.1192 - accuracy: 0.9699 - val_loss: 0.6430 - val_accuracy: 0.8920\n",
            "Epoch 80/300\n",
            "40/40 [==============================] - 12s 307ms/step - loss: 0.1206 - accuracy: 0.9686 - val_loss: 0.6462 - val_accuracy: 0.8939\n",
            "Epoch 81/300\n",
            "40/40 [==============================] - 12s 308ms/step - loss: 0.0782 - accuracy: 0.9774 - val_loss: 0.5803 - val_accuracy: 0.9015\n",
            "Epoch 82/300\n",
            "40/40 [==============================] - 13s 318ms/step - loss: 0.0825 - accuracy: 0.9746 - val_loss: 0.5881 - val_accuracy: 0.8996\n",
            "Epoch 83/300\n",
            "40/40 [==============================] - ETA: 0s - loss: 0.0970 - accuracy: 0.9747Restoring model weights from the end of the best epoch.\n",
            "40/40 [==============================] - 13s 313ms/step - loss: 0.0970 - accuracy: 0.9747 - val_loss: 0.6028 - val_accuracy: 0.8977\n",
            "Epoch 00083: early stopping\n"
          ],
          "name": "stdout"
        }
      ]
    },
    {
      "cell_type": "code",
      "metadata": {
        "id": "fACAaZuEFUZi",
        "colab_type": "code",
        "colab": {}
      },
      "source": [
        "def plot_training_history(history):\n",
        "    acc = history.history['accuracy']\n",
        "    loss = history.history['loss']\n",
        "\n",
        "    val_acc = history.history['val_accuracy']\n",
        "    val_loss = history.history['val_loss']\n",
        "\n",
        "    # Plot the accuracy and loss-values for the training-set.\n",
        "    plt.plot(acc, color='b', label='Training Acc.')\n",
        "    # plt.plot(loss, '--', color='b', label='Training Loss')\n",
        "    \n",
        "    # Plot it for the validation set.\n",
        "    plt.plot(val_acc, color='r', label='Validation Acc.')\n",
        "    plt.plot(val_loss, '--', color='r', label='Validation Loss')\n",
        "\n",
        "    plt.title('Training and Validation Accuracy')\n",
        "    plt.legend()\n",
        "\n",
        "    plt.show()"
      ],
      "execution_count": 0,
      "outputs": []
    },
    {
      "cell_type": "code",
      "metadata": {
        "id": "wdXUanzDEH-h",
        "colab_type": "code",
        "outputId": "26eb3687-612e-44f4-c0be-c85808786084",
        "colab": {
          "base_uri": "https://localhost:8080/",
          "height": 281
        }
      },
      "source": [
        "plot_training_history(history)"
      ],
      "execution_count": 19,
      "outputs": [
        {
          "output_type": "display_data",
          "data": {
            "image/png": "[encoded data removed]",
            "text/plain": [
              "<Figure size 432x288 with 1 Axes>"
            ]
          },
          "metadata": {
            "tags": [],
            "needs_background": "light"
          }
        }
      ]
    },
    {
      "cell_type": "code",
      "metadata": {
        "id": "Nlhgt0AgIs0q",
        "colab_type": "code",
        "colab": {}
      },
      "source": [
        "y_pred = model.predict(X_val)\n",
        "y_pred = np.argmax(y_pred,axis=1)"
      ],
      "execution_count": 0,
      "outputs": []
    },
    {
      "cell_type": "code",
      "metadata": {
        "id": "po4YFcDjyQ8d",
        "colab_type": "code",
        "outputId": "3c1bfba5-efb6-480e-d6fb-251fedee19e9",
        "colab": {
          "base_uri": "https://localhost:8080/",
          "height": 168
        }
      },
      "source": [
        "y_true = np.argmax(y_val,axis=1)\n",
        "\n",
        "cm = confusion_matrix(y_true, y_pred)\n",
        "cm"
      ],
      "execution_count": 21,
      "outputs": [
        {
          "output_type": "execute_result",
          "data": {
            "text/plain": [
              "array([[71,  0,  1,  0,  1,  1,  3,  0,  2],\n",
              "       [ 0, 62,  1,  0,  1,  2,  0,  1,  0],\n",
              "       [ 2,  2, 52,  0,  0,  0,  0,  0,  0],\n",
              "       [ 0,  1,  0, 55,  0,  0,  1,  0,  2],\n",
              "       [ 2,  0,  4,  0, 43,  0,  0,  0,  0],\n",
              "       [ 0,  1,  0,  2,  0, 46,  1,  1,  1],\n",
              "       [ 0,  0,  0,  1,  0,  0, 56,  3,  3],\n",
              "       [ 0,  0,  0,  0,  0,  0,  8, 39,  0],\n",
              "       [ 2,  0,  0,  3,  0,  0,  1,  1, 49]])"
            ]
          },
          "metadata": {
            "tags": []
          },
          "execution_count": 21
        }
      ]
    },
    {
      "cell_type": "code",
      "metadata": {
        "id": "o77XmHDYrYoS",
        "colab_type": "code",
        "outputId": "41da70ce-bcb9-402f-e45f-72d94da59856",
        "colab": {
          "base_uri": "https://localhost:8080/",
          "height": 302
        }
      },
      "source": [
        "score = accuracy_score(y_true, y_pred)\n",
        "print('Validation Accuracy:', score)\n",
        "\n",
        "target_names = np.unique(y)\n",
        "print(classification_report(y_true, y_pred, target_names=target_names))"
      ],
      "execution_count": 22,
      "outputs": [
        {
          "output_type": "stream",
          "text": [
            "Validation Accuracy: 0.8958333333333334\n",
            "              precision    recall  f1-score   support\n",
            "\n",
            "           a       0.92      0.90      0.91        79\n",
            "           b       0.94      0.93      0.93        67\n",
            "           c       0.90      0.93      0.91        56\n",
            "           d       0.90      0.93      0.92        59\n",
            "           e       0.96      0.88      0.91        49\n",
            "           f       0.94      0.88      0.91        52\n",
            "           g       0.80      0.89      0.84        63\n",
            "           h       0.87      0.83      0.85        47\n",
            "           i       0.86      0.88      0.87        56\n",
            "\n",
            "    accuracy                           0.90       528\n",
            "   macro avg       0.90      0.89      0.89       528\n",
            "weighted avg       0.90      0.90      0.90       528\n",
            "\n"
          ],
          "name": "stdout"
        }
      ]
    },
    {
      "cell_type": "code",
      "metadata": {
        "id": "-cEguWDNiQo6",
        "colab_type": "code",
        "colab": {}
      },
      "source": [
        "# Unfreeze the pre-trained model for fine-tuning\n",
        "base_model.trainable = True"
      ],
      "execution_count": 0,
      "outputs": []
    },
    {
      "cell_type": "code",
      "metadata": {
        "id": "QrpQOkgj2hcQ",
        "colab_type": "code",
        "colab": {}
      },
      "source": [
        "for layer in base_model.layers:\n",
        "    # Boolean whether this layer is trainable.\n",
        "    trainable = ('block5' in layer.name or 'block4' in layer.name)\n",
        "    \n",
        "    # Set the layer's bool.\n",
        "    layer.trainable = trainable"
      ],
      "execution_count": 0,
      "outputs": []
    },
    {
      "cell_type": "code",
      "metadata": {
        "id": "Yq4Rd6162vfD",
        "colab_type": "code",
        "outputId": "e6ccf84d-a6b8-4316-a885-d5d1fc232a27",
        "colab": {
          "base_uri": "https://localhost:8080/",
          "height": 336
        }
      },
      "source": [
        "for layer in base_model.layers:\n",
        "    print(\"{0}:\\t{1}\".format(layer.trainable, layer.name))"
      ],
      "execution_count": 25,
      "outputs": [
        {
          "output_type": "stream",
          "text": [
            "False:\tinput_1\n",
            "False:\tblock1_conv1\n",
            "False:\tblock1_conv2\n",
            "False:\tblock1_pool\n",
            "False:\tblock2_conv1\n",
            "False:\tblock2_conv2\n",
            "False:\tblock2_pool\n",
            "False:\tblock3_conv1\n",
            "False:\tblock3_conv2\n",
            "False:\tblock3_conv3\n",
            "False:\tblock3_pool\n",
            "True:\tblock4_conv1\n",
            "True:\tblock4_conv2\n",
            "True:\tblock4_conv3\n",
            "True:\tblock4_pool\n",
            "True:\tblock5_conv1\n",
            "True:\tblock5_conv2\n",
            "True:\tblock5_conv3\n",
            "True:\tblock5_pool\n"
          ],
          "name": "stdout"
        }
      ]
    },
    {
      "cell_type": "code",
      "metadata": {
        "id": "4MvEjOue24mu",
        "colab_type": "code",
        "colab": {}
      },
      "source": [
        "model.compile(optimizer=Adam(lr=1e-7), loss='categorical_crossentropy', metrics=['accuracy'])"
      ],
      "execution_count": 0,
      "outputs": []
    },
    {
      "cell_type": "code",
      "metadata": {
        "id": "ppuQso0w3GT0",
        "colab_type": "code",
        "outputId": "5d64a04d-8298-4c84-9544-d12dd747204e",
        "colab": {
          "base_uri": "https://localhost:8080/",
          "height": 1000
        }
      },
      "source": [
        "epochs = 500\n",
        "steps_per_epoch = 40\n",
        "\n",
        "history = model.fit(x=generator_train, epochs=epochs,\n",
        "                    steps_per_epoch=steps_per_epoch,\n",
        "                    validation_data=generator_val,\n",
        "                    validation_steps=steps_val,\n",
        "                    callbacks=[early_stopping])"
      ],
      "execution_count": 27,
      "outputs": [
        {
          "output_type": "stream",
          "text": [
            "Epoch 1/500\n",
            "40/40 [==============================] - 13s 321ms/step - loss: 0.1136 - accuracy: 0.9638 - val_loss: 0.4690 - val_accuracy: 0.8939\n",
            "Epoch 2/500\n",
            "40/40 [==============================] - 13s 327ms/step - loss: 0.1084 - accuracy: 0.9675 - val_loss: 0.4649 - val_accuracy: 0.8977\n",
            "Epoch 3/500\n",
            "40/40 [==============================] - 13s 320ms/step - loss: 0.1242 - accuracy: 0.9654 - val_loss: 0.4605 - val_accuracy: 0.9015\n",
            "Epoch 4/500\n",
            "40/40 [==============================] - 13s 320ms/step - loss: 0.1069 - accuracy: 0.9663 - val_loss: 0.4600 - val_accuracy: 0.8977\n",
            "Epoch 5/500\n",
            "40/40 [==============================] - 13s 323ms/step - loss: 0.1226 - accuracy: 0.9675 - val_loss: 0.4586 - val_accuracy: 0.8996\n",
            "Epoch 6/500\n",
            "40/40 [==============================] - 13s 317ms/step - loss: 0.1052 - accuracy: 0.9702 - val_loss: 0.4568 - val_accuracy: 0.8996\n",
            "Epoch 7/500\n",
            "40/40 [==============================] - 13s 321ms/step - loss: 0.1266 - accuracy: 0.9675 - val_loss: 0.4534 - val_accuracy: 0.8977\n",
            "Epoch 8/500\n",
            "40/40 [==============================] - 13s 324ms/step - loss: 0.0945 - accuracy: 0.9680 - val_loss: 0.4527 - val_accuracy: 0.8977\n",
            "Epoch 9/500\n",
            "40/40 [==============================] - 13s 314ms/step - loss: 0.1007 - accuracy: 0.9659 - val_loss: 0.4528 - val_accuracy: 0.8996\n",
            "Epoch 10/500\n",
            "40/40 [==============================] - 13s 320ms/step - loss: 0.1209 - accuracy: 0.9672 - val_loss: 0.4520 - val_accuracy: 0.9015\n",
            "Epoch 11/500\n",
            "40/40 [==============================] - 13s 322ms/step - loss: 0.1029 - accuracy: 0.9682 - val_loss: 0.4523 - val_accuracy: 0.9034\n",
            "Epoch 12/500\n",
            "40/40 [==============================] - 13s 317ms/step - loss: 0.1011 - accuracy: 0.9713 - val_loss: 0.4503 - val_accuracy: 0.9053\n",
            "Epoch 13/500\n",
            "40/40 [==============================] - 13s 316ms/step - loss: 0.0993 - accuracy: 0.9697 - val_loss: 0.4495 - val_accuracy: 0.9034\n",
            "Epoch 14/500\n",
            "40/40 [==============================] - 13s 324ms/step - loss: 0.0928 - accuracy: 0.9703 - val_loss: 0.4489 - val_accuracy: 0.9034\n",
            "Epoch 15/500\n",
            "40/40 [==============================] - 13s 326ms/step - loss: 0.1071 - accuracy: 0.9683 - val_loss: 0.4479 - val_accuracy: 0.9053\n",
            "Epoch 16/500\n",
            "40/40 [==============================] - 13s 321ms/step - loss: 0.1087 - accuracy: 0.9684 - val_loss: 0.4457 - val_accuracy: 0.9053\n",
            "Epoch 17/500\n",
            "40/40 [==============================] - 13s 320ms/step - loss: 0.0960 - accuracy: 0.9683 - val_loss: 0.4454 - val_accuracy: 0.9053\n",
            "Epoch 18/500\n",
            "40/40 [==============================] - 13s 316ms/step - loss: 0.0936 - accuracy: 0.9713 - val_loss: 0.4446 - val_accuracy: 0.9053\n",
            "Epoch 19/500\n",
            "40/40 [==============================] - 13s 317ms/step - loss: 0.1041 - accuracy: 0.9690 - val_loss: 0.4443 - val_accuracy: 0.9015\n",
            "Epoch 20/500\n",
            "40/40 [==============================] - 13s 322ms/step - loss: 0.0930 - accuracy: 0.9720 - val_loss: 0.4454 - val_accuracy: 0.9034\n",
            "Epoch 21/500\n",
            "40/40 [==============================] - 12s 311ms/step - loss: 0.0972 - accuracy: 0.9706 - val_loss: 0.4431 - val_accuracy: 0.9053\n",
            "Epoch 22/500\n",
            "40/40 [==============================] - 12s 312ms/step - loss: 0.0924 - accuracy: 0.9713 - val_loss: 0.4426 - val_accuracy: 0.9034\n",
            "Epoch 23/500\n",
            "40/40 [==============================] - 13s 319ms/step - loss: 0.0976 - accuracy: 0.9706 - val_loss: 0.4403 - val_accuracy: 0.9034\n",
            "Epoch 24/500\n",
            "40/40 [==============================] - 13s 316ms/step - loss: 0.0774 - accuracy: 0.9751 - val_loss: 0.4393 - val_accuracy: 0.9034\n",
            "Epoch 25/500\n",
            "40/40 [==============================] - 13s 316ms/step - loss: 0.0909 - accuracy: 0.9711 - val_loss: 0.4395 - val_accuracy: 0.9034\n",
            "Epoch 26/500\n",
            "40/40 [==============================] - 13s 322ms/step - loss: 0.0904 - accuracy: 0.9739 - val_loss: 0.4401 - val_accuracy: 0.9034\n",
            "Epoch 27/500\n",
            "40/40 [==============================] - 12s 311ms/step - loss: 0.0888 - accuracy: 0.9729 - val_loss: 0.4402 - val_accuracy: 0.9015\n",
            "Epoch 28/500\n",
            "40/40 [==============================] - 13s 317ms/step - loss: 0.0870 - accuracy: 0.9727 - val_loss: 0.4381 - val_accuracy: 0.9015\n",
            "Epoch 29/500\n",
            "40/40 [==============================] - 13s 316ms/step - loss: 0.1067 - accuracy: 0.9732 - val_loss: 0.4367 - val_accuracy: 0.9015\n",
            "Epoch 30/500\n",
            "40/40 [==============================] - 13s 317ms/step - loss: 0.0863 - accuracy: 0.9699 - val_loss: 0.4357 - val_accuracy: 0.9053\n",
            "Epoch 31/500\n",
            "40/40 [==============================] - 13s 318ms/step - loss: 0.0926 - accuracy: 0.9747 - val_loss: 0.4346 - val_accuracy: 0.9053\n",
            "Epoch 32/500\n",
            "40/40 [==============================] - 13s 324ms/step - loss: 0.1001 - accuracy: 0.9745 - val_loss: 0.4363 - val_accuracy: 0.9053\n",
            "Epoch 33/500\n",
            "40/40 [==============================] - 13s 313ms/step - loss: 0.0904 - accuracy: 0.9713 - val_loss: 0.4358 - val_accuracy: 0.9053\n",
            "Epoch 34/500\n",
            "40/40 [==============================] - 13s 319ms/step - loss: 0.0775 - accuracy: 0.9731 - val_loss: 0.4343 - val_accuracy: 0.9053\n",
            "Epoch 35/500\n",
            "40/40 [==============================] - 13s 324ms/step - loss: 0.0990 - accuracy: 0.9755 - val_loss: 0.4321 - val_accuracy: 0.9034\n",
            "Epoch 36/500\n",
            "40/40 [==============================] - 13s 315ms/step - loss: 0.1008 - accuracy: 0.9710 - val_loss: 0.4314 - val_accuracy: 0.9034\n",
            "Epoch 37/500\n",
            "40/40 [==============================] - 13s 316ms/step - loss: 0.0944 - accuracy: 0.9742 - val_loss: 0.4323 - val_accuracy: 0.9034\n",
            "Epoch 38/500\n",
            "40/40 [==============================] - 13s 324ms/step - loss: 0.0802 - accuracy: 0.9743 - val_loss: 0.4309 - val_accuracy: 0.9034\n",
            "Epoch 39/500\n",
            "40/40 [==============================] - 13s 318ms/step - loss: 0.0812 - accuracy: 0.9738 - val_loss: 0.4302 - val_accuracy: 0.9034\n",
            "Epoch 40/500\n",
            "40/40 [==============================] - 13s 313ms/step - loss: 0.0860 - accuracy: 0.9749 - val_loss: 0.4288 - val_accuracy: 0.9015\n",
            "Epoch 41/500\n",
            "40/40 [==============================] - 13s 319ms/step - loss: 0.0813 - accuracy: 0.9736 - val_loss: 0.4268 - val_accuracy: 0.9034\n",
            "Epoch 42/500\n",
            "40/40 [==============================] - 13s 317ms/step - loss: 0.0997 - accuracy: 0.9711 - val_loss: 0.4221 - val_accuracy: 0.9072\n",
            "Epoch 43/500\n",
            "40/40 [==============================] - 13s 314ms/step - loss: 0.0753 - accuracy: 0.9751 - val_loss: 0.4214 - val_accuracy: 0.9053\n",
            "Epoch 44/500\n",
            "40/40 [==============================] - 13s 319ms/step - loss: 0.0786 - accuracy: 0.9748 - val_loss: 0.4222 - val_accuracy: 0.9053\n",
            "Epoch 45/500\n",
            "40/40 [==============================] - 13s 320ms/step - loss: 0.0832 - accuracy: 0.9758 - val_loss: 0.4206 - val_accuracy: 0.9053\n",
            "Epoch 46/500\n",
            "40/40 [==============================] - 13s 313ms/step - loss: 0.0652 - accuracy: 0.9767 - val_loss: 0.4212 - val_accuracy: 0.9072\n",
            "Epoch 47/500\n",
            "40/40 [==============================] - 13s 322ms/step - loss: 0.0732 - accuracy: 0.9774 - val_loss: 0.4204 - val_accuracy: 0.9072\n",
            "Epoch 48/500\n",
            "40/40 [==============================] - 13s 314ms/step - loss: 0.0814 - accuracy: 0.9740 - val_loss: 0.4220 - val_accuracy: 0.9072\n",
            "Epoch 49/500\n",
            "40/40 [==============================] - 13s 313ms/step - loss: 0.0727 - accuracy: 0.9765 - val_loss: 0.4221 - val_accuracy: 0.9053\n",
            "Epoch 50/500\n",
            "40/40 [==============================] - 13s 325ms/step - loss: 0.0662 - accuracy: 0.9776 - val_loss: 0.4221 - val_accuracy: 0.9053\n",
            "Epoch 51/500\n",
            "40/40 [==============================] - 13s 316ms/step - loss: 0.1028 - accuracy: 0.9760 - val_loss: 0.4204 - val_accuracy: 0.9053\n",
            "Epoch 52/500\n",
            "40/40 [==============================] - 13s 318ms/step - loss: 0.0779 - accuracy: 0.9763 - val_loss: 0.4189 - val_accuracy: 0.9053\n",
            "Epoch 53/500\n",
            "40/40 [==============================] - 13s 322ms/step - loss: 0.0791 - accuracy: 0.9731 - val_loss: 0.4181 - val_accuracy: 0.9053\n",
            "Epoch 54/500\n",
            "40/40 [==============================] - 13s 315ms/step - loss: 0.0764 - accuracy: 0.9733 - val_loss: 0.4194 - val_accuracy: 0.9034\n",
            "Epoch 55/500\n",
            "40/40 [==============================] - 13s 313ms/step - loss: 0.0826 - accuracy: 0.9744 - val_loss: 0.4201 - val_accuracy: 0.9053\n",
            "Epoch 56/500\n",
            "40/40 [==============================] - 13s 323ms/step - loss: 0.0693 - accuracy: 0.9801 - val_loss: 0.4193 - val_accuracy: 0.9053\n",
            "Epoch 57/500\n",
            "40/40 [==============================] - 13s 314ms/step - loss: 0.1191 - accuracy: 0.9717 - val_loss: 0.4204 - val_accuracy: 0.9053\n",
            "Epoch 58/500\n",
            "40/40 [==============================] - 13s 314ms/step - loss: 0.0784 - accuracy: 0.9744 - val_loss: 0.4198 - val_accuracy: 0.9034\n",
            "Epoch 59/500\n",
            "40/40 [==============================] - 13s 321ms/step - loss: 0.0835 - accuracy: 0.9736 - val_loss: 0.4183 - val_accuracy: 0.9053\n",
            "Epoch 60/500\n",
            "40/40 [==============================] - 13s 319ms/step - loss: 0.0685 - accuracy: 0.9765 - val_loss: 0.4175 - val_accuracy: 0.9053\n",
            "Epoch 61/500\n",
            "40/40 [==============================] - 13s 317ms/step - loss: 0.0779 - accuracy: 0.9747 - val_loss: 0.4164 - val_accuracy: 0.9053\n",
            "Epoch 62/500\n",
            "40/40 [==============================] - 13s 325ms/step - loss: 0.0716 - accuracy: 0.9752 - val_loss: 0.4161 - val_accuracy: 0.9072\n",
            "Epoch 63/500\n",
            "40/40 [==============================] - 13s 316ms/step - loss: 0.0889 - accuracy: 0.9787 - val_loss: 0.4151 - val_accuracy: 0.9072\n",
            "Epoch 64/500\n",
            "40/40 [==============================] - 13s 318ms/step - loss: 0.0892 - accuracy: 0.9742 - val_loss: 0.4143 - val_accuracy: 0.9072\n",
            "Epoch 65/500\n",
            "40/40 [==============================] - 13s 318ms/step - loss: 0.0737 - accuracy: 0.9780 - val_loss: 0.4143 - val_accuracy: 0.9072\n",
            "Epoch 66/500\n",
            "40/40 [==============================] - 12s 311ms/step - loss: 0.0687 - accuracy: 0.9796 - val_loss: 0.4144 - val_accuracy: 0.9072\n",
            "Epoch 67/500\n",
            "40/40 [==============================] - 13s 314ms/step - loss: 0.0725 - accuracy: 0.9772 - val_loss: 0.4162 - val_accuracy: 0.9072\n",
            "Epoch 68/500\n",
            "40/40 [==============================] - 13s 321ms/step - loss: 0.0780 - accuracy: 0.9745 - val_loss: 0.4161 - val_accuracy: 0.9072\n",
            "Epoch 69/500\n",
            "40/40 [==============================] - 13s 316ms/step - loss: 0.0997 - accuracy: 0.9788 - val_loss: 0.4164 - val_accuracy: 0.9091\n",
            "Epoch 70/500\n",
            "40/40 [==============================] - 13s 314ms/step - loss: 0.0864 - accuracy: 0.9763 - val_loss: 0.4161 - val_accuracy: 0.9091\n",
            "Epoch 71/500\n",
            "40/40 [==============================] - 13s 323ms/step - loss: 0.0773 - accuracy: 0.9752 - val_loss: 0.4159 - val_accuracy: 0.9091\n",
            "Epoch 72/500\n",
            "40/40 [==============================] - 13s 315ms/step - loss: 0.0787 - accuracy: 0.9733 - val_loss: 0.4151 - val_accuracy: 0.9091\n",
            "Epoch 73/500\n",
            "40/40 [==============================] - 12s 312ms/step - loss: 0.0829 - accuracy: 0.9747 - val_loss: 0.4147 - val_accuracy: 0.9091\n",
            "Epoch 74/500\n",
            "40/40 [==============================] - 13s 327ms/step - loss: 0.0717 - accuracy: 0.9785 - val_loss: 0.4130 - val_accuracy: 0.9091\n",
            "Epoch 75/500\n",
            "40/40 [==============================] - 12s 311ms/step - loss: 0.0665 - accuracy: 0.9788 - val_loss: 0.4142 - val_accuracy: 0.9091\n",
            "Epoch 76/500\n",
            "40/40 [==============================] - 13s 318ms/step - loss: 0.0687 - accuracy: 0.9738 - val_loss: 0.4133 - val_accuracy: 0.9091\n",
            "Epoch 77/500\n",
            "40/40 [==============================] - 13s 325ms/step - loss: 0.0740 - accuracy: 0.9753 - val_loss: 0.4125 - val_accuracy: 0.9091\n",
            "Epoch 78/500\n",
            "40/40 [==============================] - 13s 313ms/step - loss: 0.0562 - accuracy: 0.9805 - val_loss: 0.4132 - val_accuracy: 0.9091\n",
            "Epoch 79/500\n",
            "40/40 [==============================] - 13s 315ms/step - loss: 0.0741 - accuracy: 0.9758 - val_loss: 0.4135 - val_accuracy: 0.9110\n",
            "Epoch 80/500\n",
            "40/40 [==============================] - 13s 324ms/step - loss: 0.0737 - accuracy: 0.9785 - val_loss: 0.4138 - val_accuracy: 0.9091\n",
            "Epoch 81/500\n",
            "40/40 [==============================] - 13s 313ms/step - loss: 0.0723 - accuracy: 0.9792 - val_loss: 0.4132 - val_accuracy: 0.9091\n",
            "Epoch 82/500\n",
            "40/40 [==============================] - 13s 313ms/step - loss: 0.0664 - accuracy: 0.9762 - val_loss: 0.4131 - val_accuracy: 0.9091\n",
            "Epoch 83/500\n",
            "40/40 [==============================] - 13s 317ms/step - loss: 0.0694 - accuracy: 0.9778 - val_loss: 0.4130 - val_accuracy: 0.9091\n",
            "Epoch 84/500\n",
            "40/40 [==============================] - 13s 315ms/step - loss: 0.0720 - accuracy: 0.9774 - val_loss: 0.4137 - val_accuracy: 0.9091\n",
            "Epoch 85/500\n",
            "40/40 [==============================] - 12s 312ms/step - loss: 0.0702 - accuracy: 0.9753 - val_loss: 0.4131 - val_accuracy: 0.9091\n",
            "Epoch 86/500\n",
            "40/40 [==============================] - 13s 318ms/step - loss: 0.0750 - accuracy: 0.9757 - val_loss: 0.4123 - val_accuracy: 0.9091\n",
            "Epoch 87/500\n",
            "40/40 [==============================] - 12s 311ms/step - loss: 0.0807 - accuracy: 0.9762 - val_loss: 0.4108 - val_accuracy: 0.9091\n",
            "Epoch 88/500\n",
            "40/40 [==============================] - 12s 312ms/step - loss: 0.0591 - accuracy: 0.9796 - val_loss: 0.4101 - val_accuracy: 0.9091\n",
            "Epoch 89/500\n",
            "40/40 [==============================] - 13s 315ms/step - loss: 0.0807 - accuracy: 0.9783 - val_loss: 0.4110 - val_accuracy: 0.9091\n",
            "Epoch 90/500\n",
            "40/40 [==============================] - 12s 310ms/step - loss: 0.0649 - accuracy: 0.9787 - val_loss: 0.4101 - val_accuracy: 0.9091\n",
            "Epoch 91/500\n",
            "40/40 [==============================] - 12s 311ms/step - loss: 0.0843 - accuracy: 0.9733 - val_loss: 0.4095 - val_accuracy: 0.9091\n",
            "Epoch 92/500\n",
            "40/40 [==============================] - 13s 314ms/step - loss: 0.0619 - accuracy: 0.9811 - val_loss: 0.4097 - val_accuracy: 0.9091\n",
            "Epoch 93/500\n",
            "40/40 [==============================] - 12s 311ms/step - loss: 0.0720 - accuracy: 0.9765 - val_loss: 0.4104 - val_accuracy: 0.9091\n",
            "Epoch 94/500\n",
            "40/40 [==============================] - 12s 310ms/step - loss: 0.0762 - accuracy: 0.9794 - val_loss: 0.4116 - val_accuracy: 0.9072\n",
            "Epoch 95/500\n",
            "40/40 [==============================] - 13s 317ms/step - loss: 0.0674 - accuracy: 0.9774 - val_loss: 0.4114 - val_accuracy: 0.9072\n",
            "Epoch 96/500\n",
            "40/40 [==============================] - 12s 311ms/step - loss: 0.0688 - accuracy: 0.9776 - val_loss: 0.4107 - val_accuracy: 0.9072\n",
            "Epoch 97/500\n",
            "40/40 [==============================] - 12s 307ms/step - loss: 0.0706 - accuracy: 0.9803 - val_loss: 0.4103 - val_accuracy: 0.9072\n",
            "Epoch 98/500\n",
            "40/40 [==============================] - 13s 319ms/step - loss: 0.0673 - accuracy: 0.9778 - val_loss: 0.4086 - val_accuracy: 0.9072\n",
            "Epoch 99/500\n",
            "40/40 [==============================] - 12s 311ms/step - loss: 0.0693 - accuracy: 0.9769 - val_loss: 0.4074 - val_accuracy: 0.9072\n",
            "Epoch 100/500\n",
            "40/40 [==============================] - 12s 309ms/step - loss: 0.0729 - accuracy: 0.9758 - val_loss: 0.4065 - val_accuracy: 0.9091\n",
            "Epoch 101/500\n",
            "40/40 [==============================] - 13s 314ms/step - loss: 0.0644 - accuracy: 0.9795 - val_loss: 0.4069 - val_accuracy: 0.9072\n",
            "Epoch 102/500\n",
            "40/40 [==============================] - 12s 307ms/step - loss: 0.0656 - accuracy: 0.9785 - val_loss: 0.4087 - val_accuracy: 0.9072\n",
            "Epoch 103/500\n",
            "40/40 [==============================] - 12s 309ms/step - loss: 0.0974 - accuracy: 0.9787 - val_loss: 0.4087 - val_accuracy: 0.9072\n",
            "Epoch 104/500\n",
            "40/40 [==============================] - 13s 314ms/step - loss: 0.0727 - accuracy: 0.9753 - val_loss: 0.4092 - val_accuracy: 0.9072\n",
            "Epoch 105/500\n",
            "40/40 [==============================] - 12s 311ms/step - loss: 0.0567 - accuracy: 0.9833 - val_loss: 0.4098 - val_accuracy: 0.9072\n",
            "Epoch 106/500\n",
            "40/40 [==============================] - 12s 309ms/step - loss: 0.0715 - accuracy: 0.9762 - val_loss: 0.4096 - val_accuracy: 0.9072\n",
            "Epoch 107/500\n",
            "40/40 [==============================] - 13s 316ms/step - loss: 0.0714 - accuracy: 0.9780 - val_loss: 0.4100 - val_accuracy: 0.9072\n",
            "Epoch 108/500\n",
            "40/40 [==============================] - 12s 309ms/step - loss: 0.0603 - accuracy: 0.9785 - val_loss: 0.4089 - val_accuracy: 0.9072\n",
            "Epoch 109/500\n",
            "40/40 [==============================] - 12s 310ms/step - loss: 0.0575 - accuracy: 0.9794 - val_loss: 0.4080 - val_accuracy: 0.9053\n",
            "Epoch 110/500\n",
            "40/40 [==============================] - 13s 313ms/step - loss: 0.0601 - accuracy: 0.9816 - val_loss: 0.4090 - val_accuracy: 0.9053\n",
            "Epoch 111/500\n",
            "40/40 [==============================] - 12s 306ms/step - loss: 0.0681 - accuracy: 0.9797 - val_loss: 0.4097 - val_accuracy: 0.9072\n",
            "Epoch 112/500\n",
            "40/40 [==============================] - 12s 308ms/step - loss: 0.0650 - accuracy: 0.9785 - val_loss: 0.4104 - val_accuracy: 0.9053\n",
            "Epoch 113/500\n",
            "40/40 [==============================] - 12s 312ms/step - loss: 0.0661 - accuracy: 0.9788 - val_loss: 0.4094 - val_accuracy: 0.9053\n",
            "Epoch 114/500\n",
            "40/40 [==============================] - 12s 304ms/step - loss: 0.0781 - accuracy: 0.9821 - val_loss: 0.4086 - val_accuracy: 0.9072\n",
            "Epoch 115/500\n",
            "40/40 [==============================] - 12s 309ms/step - loss: 0.0667 - accuracy: 0.9770 - val_loss: 0.4109 - val_accuracy: 0.9091\n",
            "Epoch 116/500\n",
            "40/40 [==============================] - 12s 310ms/step - loss: 0.0695 - accuracy: 0.9809 - val_loss: 0.4101 - val_accuracy: 0.9072\n",
            "Epoch 117/500\n",
            "40/40 [==============================] - 12s 304ms/step - loss: 0.0614 - accuracy: 0.9792 - val_loss: 0.4095 - val_accuracy: 0.9072\n",
            "Epoch 118/500\n",
            "40/40 [==============================] - 12s 308ms/step - loss: 0.0645 - accuracy: 0.9779 - val_loss: 0.4095 - val_accuracy: 0.9072\n",
            "Epoch 119/500\n",
            "40/40 [==============================] - 13s 318ms/step - loss: 0.0638 - accuracy: 0.9780 - val_loss: 0.4100 - val_accuracy: 0.9072\n",
            "Epoch 120/500\n",
            "40/40 [==============================] - 12s 308ms/step - loss: 0.0853 - accuracy: 0.9763 - val_loss: 0.4102 - val_accuracy: 0.9053\n",
            "Epoch 121/500\n",
            "40/40 [==============================] - 12s 306ms/step - loss: 0.0581 - accuracy: 0.9797 - val_loss: 0.4090 - val_accuracy: 0.9053\n",
            "Epoch 122/500\n",
            "40/40 [==============================] - 13s 319ms/step - loss: 0.0682 - accuracy: 0.9801 - val_loss: 0.4077 - val_accuracy: 0.9072\n",
            "Epoch 123/500\n",
            "40/40 [==============================] - 12s 309ms/step - loss: 0.0599 - accuracy: 0.9822 - val_loss: 0.4075 - val_accuracy: 0.9072\n",
            "Epoch 124/500\n",
            "40/40 [==============================] - 12s 309ms/step - loss: 0.0590 - accuracy: 0.9803 - val_loss: 0.4065 - val_accuracy: 0.9091\n",
            "Epoch 125/500\n",
            "40/40 [==============================] - 13s 319ms/step - loss: 0.0593 - accuracy: 0.9809 - val_loss: 0.4056 - val_accuracy: 0.9091\n",
            "Epoch 126/500\n",
            "40/40 [==============================] - 12s 308ms/step - loss: 0.0581 - accuracy: 0.9826 - val_loss: 0.4069 - val_accuracy: 0.9072\n",
            "Epoch 127/500\n",
            "40/40 [==============================] - 13s 313ms/step - loss: 0.0543 - accuracy: 0.9826 - val_loss: 0.4091 - val_accuracy: 0.9053\n",
            "Epoch 128/500\n",
            "40/40 [==============================] - 13s 315ms/step - loss: 0.0628 - accuracy: 0.9815 - val_loss: 0.4083 - val_accuracy: 0.9053\n",
            "Epoch 129/500\n",
            "40/40 [==============================] - 13s 317ms/step - loss: 0.0700 - accuracy: 0.9812 - val_loss: 0.4094 - val_accuracy: 0.9053\n",
            "Epoch 130/500\n",
            "40/40 [==============================] - 12s 312ms/step - loss: 0.0589 - accuracy: 0.9821 - val_loss: 0.4084 - val_accuracy: 0.9053\n",
            "Epoch 131/500\n",
            "40/40 [==============================] - 12s 312ms/step - loss: 0.0597 - accuracy: 0.9792 - val_loss: 0.4068 - val_accuracy: 0.9053\n",
            "Epoch 132/500\n",
            "40/40 [==============================] - 13s 315ms/step - loss: 0.0607 - accuracy: 0.9822 - val_loss: 0.4046 - val_accuracy: 0.9034\n",
            "Epoch 133/500\n",
            "40/40 [==============================] - 12s 312ms/step - loss: 0.0577 - accuracy: 0.9805 - val_loss: 0.4009 - val_accuracy: 0.9053\n",
            "Epoch 134/500\n",
            "40/40 [==============================] - 13s 317ms/step - loss: 0.0612 - accuracy: 0.9797 - val_loss: 0.4003 - val_accuracy: 0.9072\n",
            "Epoch 135/500\n",
            "40/40 [==============================] - 12s 312ms/step - loss: 0.0575 - accuracy: 0.9812 - val_loss: 0.4032 - val_accuracy: 0.9072\n",
            "Epoch 136/500\n",
            "40/40 [==============================] - 12s 311ms/step - loss: 0.0595 - accuracy: 0.9812 - val_loss: 0.4035 - val_accuracy: 0.9072\n",
            "Epoch 137/500\n",
            "40/40 [==============================] - 13s 315ms/step - loss: 0.0591 - accuracy: 0.9801 - val_loss: 0.4027 - val_accuracy: 0.9072\n",
            "Epoch 138/500\n",
            "40/40 [==============================] - 12s 306ms/step - loss: 0.0545 - accuracy: 0.9801 - val_loss: 0.4017 - val_accuracy: 0.9072\n",
            "Epoch 139/500\n",
            "40/40 [==============================] - 13s 314ms/step - loss: 0.0677 - accuracy: 0.9796 - val_loss: 0.4027 - val_accuracy: 0.9072\n",
            "Epoch 140/500\n",
            "40/40 [==============================] - 13s 313ms/step - loss: 0.0588 - accuracy: 0.9790 - val_loss: 0.4032 - val_accuracy: 0.9072\n",
            "Epoch 141/500\n",
            "40/40 [==============================] - 12s 308ms/step - loss: 0.0461 - accuracy: 0.9846 - val_loss: 0.4023 - val_accuracy: 0.9072\n",
            "Epoch 142/500\n",
            "40/40 [==============================] - 13s 317ms/step - loss: 0.0653 - accuracy: 0.9774 - val_loss: 0.4006 - val_accuracy: 0.9072\n",
            "Epoch 143/500\n",
            "40/40 [==============================] - 13s 320ms/step - loss: 0.0621 - accuracy: 0.9808 - val_loss: 0.3984 - val_accuracy: 0.9053\n",
            "Epoch 144/500\n",
            "40/40 [==============================] - 13s 315ms/step - loss: 0.0534 - accuracy: 0.9814 - val_loss: 0.3958 - val_accuracy: 0.9091\n",
            "Epoch 145/500\n",
            "40/40 [==============================] - 13s 316ms/step - loss: 0.0542 - accuracy: 0.9821 - val_loss: 0.3951 - val_accuracy: 0.9091\n",
            "Epoch 146/500\n",
            "40/40 [==============================] - 13s 324ms/step - loss: 0.0609 - accuracy: 0.9815 - val_loss: 0.3946 - val_accuracy: 0.9110\n",
            "Epoch 147/500\n",
            "40/40 [==============================] - 13s 317ms/step - loss: 0.0619 - accuracy: 0.9799 - val_loss: 0.3941 - val_accuracy: 0.9091\n",
            "Epoch 148/500\n",
            "40/40 [==============================] - 13s 318ms/step - loss: 0.0575 - accuracy: 0.9792 - val_loss: 0.3939 - val_accuracy: 0.9091\n",
            "Epoch 149/500\n",
            "40/40 [==============================] - 13s 321ms/step - loss: 0.0573 - accuracy: 0.9797 - val_loss: 0.3950 - val_accuracy: 0.9091\n",
            "Epoch 150/500\n",
            "40/40 [==============================] - 13s 315ms/step - loss: 0.0523 - accuracy: 0.9815 - val_loss: 0.3954 - val_accuracy: 0.9072\n",
            "Epoch 151/500\n",
            "40/40 [==============================] - 13s 316ms/step - loss: 0.0513 - accuracy: 0.9826 - val_loss: 0.3937 - val_accuracy: 0.9091\n",
            "Epoch 152/500\n",
            "40/40 [==============================] - 13s 321ms/step - loss: 0.0540 - accuracy: 0.9827 - val_loss: 0.3941 - val_accuracy: 0.9072\n",
            "Epoch 153/500\n",
            "40/40 [==============================] - 13s 317ms/step - loss: 0.0668 - accuracy: 0.9788 - val_loss: 0.3960 - val_accuracy: 0.9091\n",
            "Epoch 154/500\n",
            "40/40 [==============================] - 13s 325ms/step - loss: 0.0540 - accuracy: 0.9826 - val_loss: 0.3960 - val_accuracy: 0.9091\n",
            "Epoch 155/500\n",
            "40/40 [==============================] - 13s 322ms/step - loss: 0.0636 - accuracy: 0.9787 - val_loss: 0.3973 - val_accuracy: 0.9091\n",
            "Epoch 156/500\n",
            "40/40 [==============================] - 13s 319ms/step - loss: 0.0616 - accuracy: 0.9806 - val_loss: 0.3988 - val_accuracy: 0.9091\n",
            "Epoch 157/500\n",
            "40/40 [==============================] - 13s 319ms/step - loss: 0.0547 - accuracy: 0.9822 - val_loss: 0.3991 - val_accuracy: 0.9072\n",
            "Epoch 158/500\n",
            "40/40 [==============================] - 13s 325ms/step - loss: 0.0706 - accuracy: 0.9767 - val_loss: 0.4004 - val_accuracy: 0.9072\n",
            "Epoch 159/500\n",
            "40/40 [==============================] - 13s 319ms/step - loss: 0.0649 - accuracy: 0.9812 - val_loss: 0.3981 - val_accuracy: 0.9091\n",
            "Epoch 160/500\n",
            "40/40 [==============================] - 13s 318ms/step - loss: 0.0554 - accuracy: 0.9819 - val_loss: 0.3986 - val_accuracy: 0.9072\n",
            "Epoch 161/500\n",
            "40/40 [==============================] - 13s 326ms/step - loss: 0.0586 - accuracy: 0.9827 - val_loss: 0.3981 - val_accuracy: 0.9091\n",
            "Epoch 162/500\n",
            "40/40 [==============================] - 13s 319ms/step - loss: 0.0642 - accuracy: 0.9772 - val_loss: 0.3977 - val_accuracy: 0.9091\n",
            "Epoch 163/500\n",
            "40/40 [==============================] - 13s 318ms/step - loss: 0.0476 - accuracy: 0.9844 - val_loss: 0.3992 - val_accuracy: 0.9091\n",
            "Epoch 164/500\n",
            "40/40 [==============================] - 13s 325ms/step - loss: 0.0595 - accuracy: 0.9804 - val_loss: 0.4011 - val_accuracy: 0.9091\n",
            "Epoch 165/500\n",
            "40/40 [==============================] - 13s 315ms/step - loss: 0.0513 - accuracy: 0.9810 - val_loss: 0.4000 - val_accuracy: 0.9091\n",
            "Epoch 166/500\n",
            "40/40 [==============================] - 13s 318ms/step - loss: 0.0550 - accuracy: 0.9812 - val_loss: 0.4001 - val_accuracy: 0.9091\n",
            "Epoch 167/500\n",
            "40/40 [==============================] - 13s 321ms/step - loss: 0.0604 - accuracy: 0.9802 - val_loss: 0.3994 - val_accuracy: 0.9091\n",
            "Epoch 168/500\n",
            "40/40 [==============================] - 13s 316ms/step - loss: 0.0556 - accuracy: 0.9812 - val_loss: 0.3996 - val_accuracy: 0.9091\n",
            "Epoch 169/500\n",
            "40/40 [==============================] - 13s 315ms/step - loss: 0.0686 - accuracy: 0.9817 - val_loss: 0.3975 - val_accuracy: 0.9110\n",
            "Epoch 170/500\n",
            "40/40 [==============================] - 13s 323ms/step - loss: 0.0562 - accuracy: 0.9813 - val_loss: 0.3966 - val_accuracy: 0.9110\n",
            "Epoch 171/500\n",
            "40/40 [==============================] - 13s 319ms/step - loss: 0.0496 - accuracy: 0.9799 - val_loss: 0.3968 - val_accuracy: 0.9110\n",
            "Epoch 172/500\n",
            "40/40 [==============================] - 13s 317ms/step - loss: 0.0563 - accuracy: 0.9833 - val_loss: 0.3975 - val_accuracy: 0.9110\n",
            "Epoch 173/500\n",
            "40/40 [==============================] - 13s 325ms/step - loss: 0.0580 - accuracy: 0.9811 - val_loss: 0.3967 - val_accuracy: 0.9072\n",
            "Epoch 174/500\n",
            "40/40 [==============================] - 13s 319ms/step - loss: 0.0540 - accuracy: 0.9815 - val_loss: 0.3963 - val_accuracy: 0.9072\n",
            "Epoch 175/500\n",
            "40/40 [==============================] - 13s 316ms/step - loss: 0.0528 - accuracy: 0.9814 - val_loss: 0.3971 - val_accuracy: 0.9091\n",
            "Epoch 176/500\n",
            "40/40 [==============================] - 13s 325ms/step - loss: 0.0632 - accuracy: 0.9822 - val_loss: 0.3988 - val_accuracy: 0.9091\n",
            "Epoch 177/500\n",
            "40/40 [==============================] - 13s 316ms/step - loss: 0.0627 - accuracy: 0.9810 - val_loss: 0.3978 - val_accuracy: 0.9091\n",
            "Epoch 178/500\n",
            "40/40 [==============================] - 13s 323ms/step - loss: 0.0698 - accuracy: 0.9810 - val_loss: 0.3971 - val_accuracy: 0.9091\n",
            "Epoch 179/500\n",
            "40/40 [==============================] - 13s 324ms/step - loss: 0.0441 - accuracy: 0.9841 - val_loss: 0.3959 - val_accuracy: 0.9091\n",
            "Epoch 180/500\n",
            "40/40 [==============================] - 13s 318ms/step - loss: 0.0560 - accuracy: 0.9817 - val_loss: 0.3972 - val_accuracy: 0.9091\n",
            "Epoch 181/500\n",
            "40/40 [==============================] - ETA: 0s - loss: 0.0563 - accuracy: 0.9830Restoring model weights from the end of the best epoch.\n",
            "40/40 [==============================] - 13s 322ms/step - loss: 0.0563 - accuracy: 0.9830 - val_loss: 0.3964 - val_accuracy: 0.9091\n",
            "Epoch 00181: early stopping\n"
          ],
          "name": "stdout"
        }
      ]
    },
    {
      "cell_type": "code",
      "metadata": {
        "id": "GhCone2ffGPn",
        "colab_type": "code",
        "outputId": "c5c39e14-9984-4549-b686-8b7fb8f3107a",
        "colab": {
          "base_uri": "https://localhost:8080/",
          "height": 281
        }
      },
      "source": [
        "plot_training_history(history)"
      ],
      "execution_count": 28,
      "outputs": [
        {
          "output_type": "display_data",
          "data": {
            "image/png": "[encoded data removed]",
            "text/plain": [
              "<Figure size 432x288 with 1 Axes>"
            ]
          },
          "metadata": {
            "tags": [],
            "needs_background": "light"
          }
        }
      ]
    },
    {
      "cell_type": "code",
      "metadata": {
        "id": "tL5n0IFJCYRL",
        "colab_type": "code",
        "outputId": "9ec22c0c-a317-4349-df96-d3fc3cc40143",
        "colab": {
          "base_uri": "https://localhost:8080/",
          "height": 168
        }
      },
      "source": [
        "y_pred = model.predict(X_train)\n",
        "y_pred = np.argmax(y_pred,axis=1)\n",
        "\n",
        "y_true = np.argmax(y_train,axis=1)\n",
        "\n",
        "cm = confusion_matrix(y_true, y_pred)\n",
        "cm"
      ],
      "execution_count": 29,
      "outputs": [
        {
          "output_type": "execute_result",
          "data": {
            "text/plain": [
              "array([[223,   0,   0,   1,   1,   0,   0,   0,   1],\n",
              "       [  0, 234,   3,   0,   0,   1,   0,   0,   1],\n",
              "       [  0,   1, 237,   0,   1,   1,   0,   0,   0],\n",
              "       [  0,   0,   0, 226,   0,   0,   2,   0,   0],\n",
              "       [  3,   0,   1,   1, 230,   0,   0,   0,   0],\n",
              "       [  0,   0,   0,   3,   0, 228,   1,   2,   2],\n",
              "       [  1,   0,   0,   0,   1,   0, 219,   5,   1],\n",
              "       [  0,   0,   0,   0,   0,   1,   9, 232,   0],\n",
              "       [  1,   1,   0,   3,   1,   0,   1,   0, 229]])"
            ]
          },
          "metadata": {
            "tags": []
          },
          "execution_count": 29
        }
      ]
    },
    {
      "cell_type": "code",
      "metadata": {
        "id": "ethZB7hKC2ri",
        "colab_type": "code",
        "outputId": "2efd1e0a-bc2a-4df7-d15f-fce495d72f9f",
        "colab": {
          "base_uri": "https://localhost:8080/",
          "height": 302
        }
      },
      "source": [
        "score = accuracy_score(y_true, y_pred)\n",
        "print('Training Accuracy:', score)\n",
        "print(classification_report(y_true, y_pred, target_names=target_names))"
      ],
      "execution_count": 30,
      "outputs": [
        {
          "output_type": "stream",
          "text": [
            "Training Accuracy: 0.9758179231863442\n",
            "              precision    recall  f1-score   support\n",
            "\n",
            "           a       0.98      0.99      0.98       226\n",
            "           b       0.99      0.98      0.99       239\n",
            "           c       0.98      0.99      0.99       240\n",
            "           d       0.97      0.99      0.98       228\n",
            "           e       0.98      0.98      0.98       235\n",
            "           f       0.99      0.97      0.98       236\n",
            "           g       0.94      0.96      0.95       227\n",
            "           h       0.97      0.96      0.96       242\n",
            "           i       0.98      0.97      0.97       236\n",
            "\n",
            "    accuracy                           0.98      2109\n",
            "   macro avg       0.98      0.98      0.98      2109\n",
            "weighted avg       0.98      0.98      0.98      2109\n",
            "\n"
          ],
          "name": "stdout"
        }
      ]
    },
    {
      "cell_type": "code",
      "metadata": {
        "id": "odbnqkiR2jEL",
        "colab_type": "code",
        "colab": {
          "base_uri": "https://localhost:8080/",
          "height": 168
        },
        "outputId": "a764dbe8-5304-4362-c2e1-a1775c9be8d3"
      },
      "source": [
        "y_pred = model.predict(X_val)\n",
        "y_pred = np.argmax(y_pred,axis=1)\n",
        "\n",
        "y_true = np.argmax(y_val,axis=1)\n",
        "\n",
        "cm = confusion_matrix(y_true, y_pred)\n",
        "cm"
      ],
      "execution_count": 31,
      "outputs": [
        {
          "output_type": "execute_result",
          "data": {
            "text/plain": [
              "array([[70,  0,  1,  0,  2,  1,  3,  0,  2],\n",
              "       [ 0, 65,  0,  1,  0,  1,  0,  0,  0],\n",
              "       [ 1,  2, 52,  0,  1,  0,  0,  0,  0],\n",
              "       [ 1,  0,  0, 53,  0,  0,  1,  1,  3],\n",
              "       [ 2,  0,  4,  0, 43,  0,  0,  0,  0],\n",
              "       [ 0,  0,  1,  2,  0, 49,  0,  0,  0],\n",
              "       [ 0,  0,  0,  1,  0,  0, 56,  3,  3],\n",
              "       [ 0,  0,  0,  0,  0,  0,  5, 42,  0],\n",
              "       [ 1,  0,  0,  3,  0,  0,  1,  1, 50]])"
            ]
          },
          "metadata": {
            "tags": []
          },
          "execution_count": 31
        }
      ]
    },
    {
      "cell_type": "code",
      "metadata": {
        "id": "29zq0NbF2sgQ",
        "colab_type": "code",
        "colab": {
          "base_uri": "https://localhost:8080/",
          "height": 302
        },
        "outputId": "0b21f5b0-08c3-43b9-a480-c4bf5c5adcdc"
      },
      "source": [
        "score = accuracy_score(y_true, y_pred)\n",
        "print('Validation Accuracy:', score)\n",
        "print(classification_report(y_true, y_pred, target_names=target_names))"
      ],
      "execution_count": 32,
      "outputs": [
        {
          "output_type": "stream",
          "text": [
            "Validation Accuracy: 0.9090909090909091\n",
            "              precision    recall  f1-score   support\n",
            "\n",
            "           a       0.93      0.89      0.91        79\n",
            "           b       0.97      0.97      0.97        67\n",
            "           c       0.90      0.93      0.91        56\n",
            "           d       0.88      0.90      0.89        59\n",
            "           e       0.93      0.88      0.91        49\n",
            "           f       0.96      0.94      0.95        52\n",
            "           g       0.85      0.89      0.87        63\n",
            "           h       0.89      0.89      0.89        47\n",
            "           i       0.86      0.89      0.88        56\n",
            "\n",
            "    accuracy                           0.91       528\n",
            "   macro avg       0.91      0.91      0.91       528\n",
            "weighted avg       0.91      0.91      0.91       528\n",
            "\n"
          ],
          "name": "stdout"
        }
      ]
    },
    {
      "cell_type": "code",
      "metadata": {
        "id": "QQPoHgCBMJCW",
        "colab_type": "code",
        "colab": {}
      },
      "source": [
        "def getLabels(y_pred, threshold):\n",
        "  y_pred_label = []\n",
        "  for label in y_pred:\n",
        "    append = False\n",
        "    for prob in label:\n",
        "      if prob >= threshold:\n",
        "        y_pred_label.append(np.argmax(label))\n",
        "        append = True\n",
        "        break\n",
        "    if not append:\n",
        "      y_pred_label.append(9) # change this to -1\n",
        "  return y_pred_label"
      ],
      "execution_count": 0,
      "outputs": []
    },
    {
      "cell_type": "code",
      "metadata": {
        "id": "T_Qvc7Uz1uZ4",
        "colab_type": "code",
        "outputId": "b7845ef2-f4f8-4a1c-efc2-eee9c41f845e",
        "colab": {
          "base_uri": "https://localhost:8080/",
          "height": 185
        }
      },
      "source": [
        "X_og = preprocess_input(X_og)\n",
        "X_og = np.array([resize(image, (96, 96)) for image in X_og])\n",
        "\n",
        "y_pred = model.predict(X_og)\n",
        "y_pred_label = getLabels(y_pred, 0.55)\n",
        "  \n",
        "y_og = np.array([i[0].lower() for i in y_og])\n",
        "one_hot_y = onehot_encoder.fit_transform(y_og.reshape(-1, 1))\n",
        "y_true = np.argmax(one_hot_y,axis=1)\n",
        "\n",
        "cm = confusion_matrix(y_true, y_pred_label)\n",
        "cm"
      ],
      "execution_count": 63,
      "outputs": [
        {
          "output_type": "execute_result",
          "data": {
            "text/plain": [
              "array([[293,   0,   1,   1,   2,   1,   1,   0,   2,   4],\n",
              "       [  0, 299,   1,   0,   0,   2,   0,   0,   1,   3],\n",
              "       [  1,   3, 287,   0,   2,   1,   0,   0,   0,   2],\n",
              "       [  0,   0,   0, 279,   0,   0,   3,   0,   1,   4],\n",
              "       [  5,   0,   4,   1, 270,   0,   0,   0,   0,   4],\n",
              "       [  0,   0,   1,   5,   0, 277,   0,   2,   1,   2],\n",
              "       [  1,   0,   0,   1,   1,   0, 275,   8,   3,   1],\n",
              "       [  0,   0,   0,   0,   0,   1,  14, 273,   0,   1],\n",
              "       [  2,   0,   0,   5,   1,   0,   2,   1, 277,   4],\n",
              "       [  1,   0,   0,   0,   0,   0,   1,   3,   2,   1]])"
            ]
          },
          "metadata": {
            "tags": []
          },
          "execution_count": 63
        }
      ]
    },
    {
      "cell_type": "code",
      "metadata": {
        "id": "4w5-mzYGcbqZ",
        "colab_type": "code",
        "outputId": "5f72d953-a820-4742-e56f-b8dc9ebf6478",
        "colab": {
          "base_uri": "https://localhost:8080/",
          "height": 319
        }
      },
      "source": [
        "score = accuracy_score(y_true, y_pred_label)\n",
        "print('Overall Accuracy:', score)\n",
        "\n",
        "target_names = np.unique(y_og)\n",
        "print(classification_report(y_true, y_pred_label, target_names=target_names))"
      ],
      "execution_count": 64,
      "outputs": [
        {
          "output_type": "stream",
          "text": [
            "Overall Accuracy: 0.9568998109640832\n",
            "              precision    recall  f1-score   support\n",
            "\n",
            "           a       0.97      0.96      0.96       305\n",
            "           b       0.99      0.98      0.98       306\n",
            "           c       0.98      0.97      0.97       296\n",
            "           d       0.96      0.97      0.96       287\n",
            "           e       0.98      0.95      0.96       284\n",
            "           f       0.98      0.96      0.97       288\n",
            "           g       0.93      0.95      0.94       290\n",
            "           h       0.95      0.94      0.95       289\n",
            "           i       0.97      0.95      0.96       292\n",
            "     unknown       0.04      0.12      0.06         8\n",
            "\n",
            "    accuracy                           0.96      2645\n",
            "   macro avg       0.87      0.88      0.87      2645\n",
            "weighted avg       0.96      0.96      0.96      2645\n",
            "\n"
          ],
          "name": "stdout"
        }
      ]
    },
    {
      "cell_type": "code",
      "metadata": {
        "id": "hUIUiIQPLGWA",
        "colab_type": "code",
        "outputId": "8417968d-1dd4-41e5-f5ec-36acc38d436d",
        "colab": {
          "base_uri": "https://localhost:8080/",
          "height": 34
        }
      },
      "source": [
        "# Load the Drive helper and mount\n",
        "from google.colab import drive\n",
        "drive.mount('/content/drive')"
      ],
      "execution_count": 36,
      "outputs": [
        {
          "output_type": "stream",
          "text": [
            "Drive already mounted at /content/drive; to attempt to forcibly remount, call drive.mount(\"/content/drive\", force_remount=True).\n"
          ],
          "name": "stdout"
        }
      ]
    },
    {
      "cell_type": "code",
      "metadata": {
        "id": "t3LCgQO1Ig_n",
        "colab_type": "code",
        "colab": {}
      },
      "source": [
        "model.save('/content/drive/My Drive/model2.h5') "
      ],
      "execution_count": 0,
      "outputs": []
    }
  ]
}