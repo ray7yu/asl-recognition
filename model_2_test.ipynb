{
 "cells": [
  {
   "cell_type": "code",
   "execution_count": 1,
   "metadata": {},
   "outputs": [],
   "source": [
    "from tensorflow.keras.applications.vgg16 import preprocess_input\n",
    "from tensorflow.keras.models import load_model\n",
    "\n",
    "from skimage.transform import resize\n",
    "from sklearn.metrics import accuracy_score, confusion_matrix, classification_report\n",
    "\n",
    "import numpy as np"
   ]
  },
  {
   "cell_type": "code",
   "execution_count": 2,
   "metadata": {},
   "outputs": [
    {
     "name": "stdout",
     "output_type": "stream",
     "text": [
      "WARNING:tensorflow:From C:\\Users\\Yadi\\Anaconda3\\lib\\site-packages\\tensorflow_core\\python\\ops\\resource_variable_ops.py:1630: calling BaseResourceVariable.__init__ (from tensorflow.python.ops.resource_variable_ops) with constraint is deprecated and will be removed in a future version.\n",
      "Instructions for updating:\n",
      "If using Keras pass *_constraint arguments to layers.\n"
     ]
    }
   ],
   "source": [
    "# Load model\n",
    "model = load_model('model2.h5')"
   ]
  },
  {
   "cell_type": "code",
   "execution_count": 3,
   "metadata": {},
   "outputs": [
    {
     "name": "stdout",
     "output_type": "stream",
     "text": [
      "(53, 96, 96, 3)\n"
     ]
    }
   ],
   "source": [
    "# Load data\n",
    "X = np.load('../noisy_data.npy')\n",
    "y = np.load('../noisy_labels.npy')\n",
    "\n",
    "# Pre-process and resize images\n",
    "X = preprocess_input(X)\n",
    "X_resized = np.array([resize(image, (96, 96)) for image in X])\n",
    "print(X_resized.shape)"
   ]
  },
  {
   "cell_type": "code",
   "execution_count": 4,
   "metadata": {},
   "outputs": [],
   "source": [
    "def getLabels(y_pred, threshold):\n",
    "  y_pred_label = []\n",
    "  for label in y_pred:\n",
    "    append = False\n",
    "    for prob in label:\n",
    "      if prob >= threshold:\n",
    "        y_pred_label.append(np.argmax(label) + 1)\n",
    "        append = True\n",
    "        break\n",
    "    if not append:\n",
    "      y_pred_label.append(-1)\n",
    "  return np.array(y_pred_label)"
   ]
  },
  {
   "cell_type": "code",
   "execution_count": 5,
   "metadata": {},
   "outputs": [
    {
     "data": {
      "text/plain": [
       "array([ 1,  1, -1,  2,  2,  2,  2,  2,  3, -1,  2,  3,  3,  4,  4, -1,  4,\n",
       "       -1,  5,  5, -1,  5,  1,  6,  6,  6,  6,  6,  6,  7,  9,  8,  7,  7,\n",
       "        7,  7,  8,  8,  8,  7,  7,  9,  9,  9,  9,  9,  9,  7, -1,  8,  8,\n",
       "        8,  9], dtype=int64)"
      ]
     },
     "execution_count": 5,
     "metadata": {},
     "output_type": "execute_result"
    }
   ],
   "source": [
    "threshold = 0.55\n",
    "\n",
    "# Predict labels\n",
    "y_pred = model.predict(X_resized)\n",
    "\n",
    "# Convert output to numbers \n",
    "y_pred_label = getLabels(y_pred, threshold)\n",
    "y_pred_label"
   ]
  }
 ],
 "metadata": {
  "kernelspec": {
   "display_name": "Python 3",
   "language": "python",
   "name": "python3"
  },
  "language_info": {
   "codemirror_mode": {
    "name": "ipython",
    "version": 3
   },
   "file_extension": ".py",
   "mimetype": "text/x-python",
   "name": "python",
   "nbconvert_exporter": "python",
   "pygments_lexer": "ipython3",
   "version": "3.7.3"
  }
 },
 "nbformat": 4,
 "nbformat_minor": 4
}
